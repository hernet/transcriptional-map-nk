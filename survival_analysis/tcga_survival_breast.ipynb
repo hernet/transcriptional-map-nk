{
 "cells": [
  {
   "cell_type": "code",
   "execution_count": 1,
   "id": "0ea4aebb-52ef-44d6-b23b-8c77da7a372e",
   "metadata": {},
   "outputs": [],
   "source": [
    "import scanpy as sc"
   ]
  },
  {
   "cell_type": "code",
   "execution_count": 2,
   "id": "f014eadd-55d4-42e6-997b-f9d1a2394124",
   "metadata": {},
   "outputs": [],
   "source": [
    "import pandas as pd\n",
    "import numpy as np\n",
    "import rpy2.rinterface_lib.callbacks\n",
    "import anndata2ri\n",
    "import logging\n",
    "\n",
    "from rpy2.robjects import pandas2ri\n",
    "from rpy2.robjects import r\n",
    "\n",
    "sc.settings.verbosity = 0\n",
    "rpy2.rinterface_lib.callbacks.logger.setLevel(logging.ERROR)\n",
    "\n",
    "pandas2ri.activate()\n",
    "anndata2ri.activate()\n",
    "\n",
    "%load_ext rpy2.ipython"
   ]
  },
  {
   "cell_type": "code",
   "execution_count": 3,
   "id": "e2d2d730-55a4-49cd-9f4d-bfaffc6e705f",
   "metadata": {},
   "outputs": [],
   "source": [
    "import os"
   ]
  },
  {
   "cell_type": "code",
   "execution_count": 4,
   "id": "4c120c57-6d65-40ea-9906-93da7a2d5ae7",
   "metadata": {},
   "outputs": [],
   "source": [
    "import matplotlib.pyplot as plt"
   ]
  },
  {
   "cell_type": "code",
   "execution_count": 5,
   "id": "636fc6aa-cf16-480f-8370-42743e9a4c7f",
   "metadata": {},
   "outputs": [],
   "source": [
    "import anndata2ri\n",
    "import rpy2.rinterface_lib.callbacks\n",
    "import logging"
   ]
  },
  {
   "cell_type": "markdown",
   "id": "8e1836b8-0d02-4419-86ff-94e57c9771c9",
   "metadata": {},
   "source": [
    "### Prepare sc data"
   ]
  },
  {
   "cell_type": "code",
   "execution_count": 6,
   "id": "dfd24ed1-df46-4b9f-8c28-e69458f27f46",
   "metadata": {},
   "outputs": [],
   "source": [
    "adata = sc.read('zenodo/breast_tumor.h5ad')"
   ]
  },
  {
   "cell_type": "code",
   "execution_count": 8,
   "id": "2a57bce0-fffa-46d5-8498-90cb3b787c5b",
   "metadata": {},
   "outputs": [],
   "source": [
    "adata.obs['label'] = adata.obs['level2_cell_type']"
   ]
  },
  {
   "cell_type": "code",
   "execution_count": 9,
   "id": "57dba386-dd05-42cd-a5d2-d42c990bbd3f",
   "metadata": {},
   "outputs": [],
   "source": [
    "adata.obs['replicate'] = adata.obs['dataset']"
   ]
  },
  {
   "cell_type": "code",
   "execution_count": 10,
   "id": "be7c8d59-c136-4209-97b1-47c955829f88",
   "metadata": {},
   "outputs": [],
   "source": [
    "adata.obs[\"sample\"] = [\n",
    "    f\"{rep}_{l}\" for rep, l in zip(adata.obs[\"replicate\"], adata.obs[\"label\"])\n",
    "]"
   ]
  },
  {
   "cell_type": "code",
   "execution_count": 11,
   "id": "d8fb6cf7-9796-4c57-b919-e2dfce3f958c",
   "metadata": {},
   "outputs": [],
   "source": [
    "adata.obs[\"replicate\"] = adata.obs[\"replicate\"].astype(\"category\")\n",
    "adata.obs[\"label\"] = adata.obs[\"label\"].astype(\"category\")\n",
    "adata.obs[\"sample\"] = adata.obs[\"sample\"].astype(\"category\")"
   ]
  },
  {
   "cell_type": "code",
   "execution_count": 12,
   "id": "e91620cb-f3c2-4191-9246-021dddcbfbe5",
   "metadata": {},
   "outputs": [
    {
     "data": {
      "text/plain": [
       "array([[ 0.34304455, -0.8480481 , -2.1054945 , ...,  1.4949648 ,\n",
       "         0.783535  , -0.13358653],\n",
       "       [-0.40858796, -1.244035  , -0.55277884, ..., -0.06494236,\n",
       "         0.2370826 ,  0.36601478],\n",
       "       [-0.38083577, -0.85870117, -1.5794281 , ...,  1.0033696 ,\n",
       "         0.30317986, -1.0668485 ],\n",
       "       ...,\n",
       "       [-0.8336443 , -1.3808289 , -0.93913925, ...,  0.4861822 ,\n",
       "         0.751075  , -0.9916712 ],\n",
       "       [ 1.0239079 , -1.2588183 ,  0.24950886, ...,  1.758765  ,\n",
       "         1.2001036 ,  0.04110301],\n",
       "       [ 1.1117136 , -1.196759  , -0.34465873, ...,  1.604173  ,\n",
       "         1.7888407 ,  0.35298032]], dtype=float32)"
      ]
     },
     "execution_count": 12,
     "metadata": {},
     "output_type": "execute_result"
    }
   ],
   "source": [
    "del adata.obsp\n",
    "del adata.uns\n",
    "adata.obsm.pop('X_scANVI')\n",
    "adata.obsm.pop('X_scVI')"
   ]
  },
  {
   "cell_type": "code",
   "execution_count": 13,
   "id": "4855e74b-21af-4602-9d3c-c25c8a6d56c0",
   "metadata": {},
   "outputs": [],
   "source": [
    "adata.obs['cellstate'] = adata.obs['label']"
   ]
  },
  {
   "cell_type": "code",
   "execution_count": 14,
   "id": "d555a094-2bca-4462-8262-951c2db0bf6b",
   "metadata": {},
   "outputs": [],
   "source": [
    "cellstate_celltype_dict = {'B cells' : 'B cells', 'CD56bright NK cells' : 'NK cells', 'CD56dim NK cells' : 'NK cells', 'Dendritic cells' : 'Myeloid',\n",
    "       'Endothelial cells' : 'Endothelial cells', 'Fibroblasts' : 'Fibroblasts', 'ILCs' : 'ILCs', 'MAIT cells' : 'T cells', 'Macrophages' : 'Myeloid',\n",
    "       'Melanoma cells' : 'Melanoma cells', 'Memory B cells' : 'B cells', 'Monocytes' : 'Myeloid', 'Regulatory T cells' : 'T cells',\n",
    "       'Tcm/Naive helper T cells' : 'T cells', 'Tem/Effector helper T cells' : 'T cells',\n",
    "       'Tem/Trm cytotoxic T cells' : 'T cells', 'Type 1 helper T cells' : 'T cells', 'CAFs' : 'CAFs', 'Late erythroid' : 'Late erythroid', 'Cancer Basal SC' : 'Tumor',\n",
    "       'Cancer Cycling' : 'Tumor', 'Cancer LumA SC' : 'Tumor', 'Luminal Progenitors' : 'Epithelial cells', 'Mast cells' : 'Myeloid', 'Mature Luminal' : 'Epithelial cells',\n",
    "       'Myoepithelial' : 'Epithelial cells', 'NKT cells' : 'NKT cells', 'PVL Differentiated' : 'PVL differentiated', 'Plasma cells' : 'B cells'}"
   ]
  },
  {
   "cell_type": "code",
   "execution_count": 15,
   "id": "68c296df-7050-48e4-8a48-be4097a2bbd2",
   "metadata": {},
   "outputs": [],
   "source": [
    "adata.obs['celltype'] = [cellstate_celltype_dict[x] for x in adata.obs['cellstate']]"
   ]
  },
  {
   "cell_type": "code",
   "execution_count": 16,
   "id": "4b8914c0-57ca-4879-a1b6-e9ad2ba9cf40",
   "metadata": {},
   "outputs": [],
   "source": [
    "adata_subsample = sc.pp.subsample(adata, fraction=0.2, copy=True)"
   ]
  },
  {
   "cell_type": "code",
   "execution_count": 17,
   "id": "4aa6f5f2-523f-4b1c-8fb8-59380e2f3894",
   "metadata": {},
   "outputs": [
    {
     "name": "stdout",
     "output_type": "stream",
     "text": [
      "class: SingleCellExperiment \n",
      "dim: 15298 89075 \n",
      "metadata(0):\n",
      "assays(1): X\n",
      "rownames(15298): C1orf122 COX4I1 ... IZUMO2 FAT2\n",
      "rowData names(0):\n",
      "colnames(89075): CID3586_GATCAGTAGTACGCGA_CID3586_CID3586\n",
      "  TCACGAAAGGCAGTCA-1_GSM4909285_TN-B1-MH4031_GSM4909285_TN-B1-MH4031\n",
      "  ... CID4066_GTCGTAAGTATAGGGC_CID4066_CID4066\n",
      "  CID4290A_TGCCCATTCAGGTTCA_CID4290A_CID4290A\n",
      "colData names(21): sample patient ... cellstate celltype\n",
      "reducedDimNames(1): UMAP\n",
      "mainExpName: NULL\n",
      "altExpNames(0):\n"
     ]
    }
   ],
   "source": [
    "%%R -i adata_subsample\n",
    "adata_subsample"
   ]
  },
  {
   "cell_type": "code",
   "execution_count": 18,
   "id": "f438e1dd-2a5a-4cfe-9c14-a7e656fde064",
   "metadata": {},
   "outputs": [],
   "source": [
    "%%R\n",
    "sc.dat <- t(assay(adata_subsample))"
   ]
  },
  {
   "cell_type": "code",
   "execution_count": 19,
   "id": "32b2054c-08cb-43a7-a687-e1a0f2fd339e",
   "metadata": {},
   "outputs": [],
   "source": [
    "%%R\n",
    "sc.dat <- as.matrix(sc.dat)"
   ]
  },
  {
   "cell_type": "code",
   "execution_count": 20,
   "id": "e06da537-0374-46ff-b434-44dfc367b11f",
   "metadata": {},
   "outputs": [],
   "source": [
    "%%R\n",
    "cell.type.labels <- colData(adata_subsample)$celltype"
   ]
  },
  {
   "cell_type": "code",
   "execution_count": 21,
   "id": "8b117c99-4322-424e-b364-d49f4332eb16",
   "metadata": {},
   "outputs": [],
   "source": [
    "%%R\n",
    "cell.type.labels <- as.vector(cell.type.labels)"
   ]
  },
  {
   "cell_type": "code",
   "execution_count": 22,
   "id": "79962a98-b844-470c-8871-54b673a4dd13",
   "metadata": {},
   "outputs": [],
   "source": [
    "%%R\n",
    "cell.state.labels <- colData(adata_subsample)$cellstate"
   ]
  },
  {
   "cell_type": "code",
   "execution_count": 23,
   "id": "c20a8b1b-4ef8-49f8-ba45-8d782d9dcc0d",
   "metadata": {},
   "outputs": [],
   "source": [
    "%%R\n",
    "cell.state.labels <- as.vector(cell.state.labels)"
   ]
  },
  {
   "cell_type": "code",
   "execution_count": null,
   "id": "02a0f24a-fd60-4607-a050-843a972357bb",
   "metadata": {},
   "outputs": [],
   "source": []
  },
  {
   "cell_type": "markdown",
   "id": "e50d9bcd-93c5-4da1-b987-6eac737d7119",
   "metadata": {},
   "source": [
    "### download and prepare tcga data"
   ]
  },
  {
   "cell_type": "code",
   "execution_count": 24,
   "id": "d01783aa-ec4b-4e4c-8f29-68c3b030aae2",
   "metadata": {},
   "outputs": [],
   "source": [
    "%%R\n",
    "library(TCGAbiolinks)"
   ]
  },
  {
   "cell_type": "code",
   "execution_count": 25,
   "id": "4dc026e3-9c63-47fd-ad1b-787f0ede45a8",
   "metadata": {},
   "outputs": [],
   "source": [
    "%%R\n",
    "library(scran)"
   ]
  },
  {
   "cell_type": "code",
   "execution_count": 26,
   "id": "bd8c9517-fc1d-4353-b862-a9d449e12943",
   "metadata": {
    "scrolled": true,
    "tags": []
   },
   "outputs": [
    {
     "name": "stdout",
     "output_type": "stream",
     "text": [
      "|====================================================|100% ~0 s remainingininggg                                                                                                                                                                                                                                                                                                                                                                                                                                                                                                                                                                                                                                                                                                                                                                                                                                                                                                                                                                                                                                                                                                                                                                                                                                                                                                                                                                                                                                                                                                                                                                                                                                                                                                                                                                                                                                                                     Completed after 44 m \n"
     ]
    }
   ],
   "source": [
    "%%R\n",
    "my.dir = '/tumor-data/GDCdata'\n",
    "\n",
    "# Gene expression aligned against hg38\n",
    "query <- GDCquery(\n",
    "    project = \"TCGA-BRCA\",\n",
    "    data.category = \"Transcriptome Profiling\",\n",
    "    data.type = \"Gene Expression Quantification\", \n",
    "    workflow.type = \"STAR - Counts\"\n",
    ")\n",
    "#GDCdownload(query = query,\n",
    "#            directory = my.dir)\n",
    "\n",
    "data <- GDCprepare(query = query,\n",
    "                   directory = my.dir,\n",
    "                   save = TRUE,\n",
    "                   save.filename = \"/tumor-data/BRCA_exp.rda\")"
   ]
  },
  {
   "cell_type": "code",
   "execution_count": 27,
   "id": "55c18344-ad02-462b-9848-965a1d81a6e9",
   "metadata": {},
   "outputs": [],
   "source": [
    "%%R\n",
    "bk.mtx <- assay(data)"
   ]
  },
  {
   "cell_type": "code",
   "execution_count": 28,
   "id": "84d6e95d-04f9-4f46-8dde-06ce23201818",
   "metadata": {},
   "outputs": [],
   "source": [
    "%%R\n",
    "rownames(bk.mtx) <- rowData(data)$gene_name"
   ]
  },
  {
   "cell_type": "code",
   "execution_count": 29,
   "id": "99939271-7c24-4139-b24a-09a2c59c83f8",
   "metadata": {},
   "outputs": [],
   "source": [
    "%%R\n",
    "bk.dat <- t(bk.mtx)"
   ]
  },
  {
   "cell_type": "code",
   "execution_count": 30,
   "id": "92f83d3e-50a6-4cc1-b9b4-6d2ccca64de9",
   "metadata": {},
   "outputs": [],
   "source": [
    "%%R\n",
    "clin.dat <- GDCquery_clinic(\"TCGA-BRCA\", \"clinical\")"
   ]
  },
  {
   "cell_type": "code",
   "execution_count": 31,
   "id": "aaed5275-64f3-4473-8bf3-6c46ead158b3",
   "metadata": {},
   "outputs": [],
   "source": [
    "%%R\n",
    "colnames(bk.dat) <- make.unique(colnames(bk.dat), sep = \".\")"
   ]
  },
  {
   "cell_type": "code",
   "execution_count": 32,
   "id": "f64e84ed-8038-4730-964c-65f57d1b2bb1",
   "metadata": {},
   "outputs": [
    {
     "name": "stdout",
     "output_type": "stream",
     "text": [
      "[1]  1231 60660\n"
     ]
    }
   ],
   "source": [
    "%%R\n",
    "dim(bk.dat)"
   ]
  },
  {
   "cell_type": "markdown",
   "id": "faf67e40-94b3-48d5-96d5-b3385380603f",
   "metadata": {},
   "source": [
    "### BayesPrism"
   ]
  },
  {
   "cell_type": "code",
   "execution_count": 33,
   "id": "322e477a-14c0-4223-a30d-6f54eed952fa",
   "metadata": {},
   "outputs": [],
   "source": [
    "%%R\n",
    "library(BayesPrism)"
   ]
  },
  {
   "cell_type": "code",
   "execution_count": 34,
   "id": "ab08cc58-e270-4154-8e91-90f9b4908465",
   "metadata": {},
   "outputs": [
    {
     "name": "stdout",
     "output_type": "stream",
     "text": [
      "Gene symbols detected. Recommend to use EMSEMBLE IDs for more unique mapping.\n",
      "number of genes filtered in each category: \n",
      "      Rb      Mrp other_Rb     chrM   MALAT1     chrX     chrY \n",
      "      85       78       14       13        1      533       17 \n",
      "A total of  709  genes from Rb Mrp other_Rb chrM MALAT1 chrX chrY  have been excluded \n",
      "A total of  1  gene expressed in fewer than  5  cells have been excluded \n"
     ]
    }
   ],
   "source": [
    "%%R\n",
    "sc.dat.filtered <- cleanup.genes (input=sc.dat, input.type=\"count.matrix\",\n",
    "                                  species=\"hs\",\n",
    "                                  gene.group=c( \"Rb\",\"Mrp\",\"other_Rb\",\"chrM\",\"MALAT1\",\"chrX\",\"chrY\") , exp.cells=5)"
   ]
  },
  {
   "cell_type": "code",
   "execution_count": 35,
   "id": "30182eba-cb55-439a-8d5c-3c55d2a397d9",
   "metadata": {},
   "outputs": [
    {
     "name": "stdout",
     "output_type": "stream",
     "text": [
      "[1] 89075 14588\n"
     ]
    }
   ],
   "source": [
    "%%R\n",
    "dim(sc.dat.filtered)"
   ]
  },
  {
   "cell_type": "code",
   "execution_count": 36,
   "id": "5a205390-81cb-4df2-97c3-7febed8fe9fa",
   "metadata": {},
   "outputs": [
    {
     "name": "stdout",
     "output_type": "stream",
     "text": [
      "number of cells in each cell state \n",
      "cell.state.labels\n",
      "                       ILCs              Late erythroid \n",
      "                        106                         127 \n",
      "                  Monocytes                  Mast cells \n",
      "                        241                         262 \n",
      "                  NKT cells            CD56dim NK cells \n",
      "                        271                         291 \n",
      "              Myoepithelial         CD56bright NK cells \n",
      "                        673                         795 \n",
      "                    B cells             Dendritic cells \n",
      "                        817                         922 \n",
      "        Luminal Progenitors          PVL Differentiated \n",
      "                       1334                        2028 \n",
      "             Mature Luminal Tem/Effector helper T cells \n",
      "                       2154                        2651 \n",
      "          Endothelial cells              Memory B cells \n",
      "                       2801                        2854 \n",
      "               Plasma cells    Tcm/Naive helper T cells \n",
      "                       3279                        4002 \n",
      "         Regulatory T cells                 Macrophages \n",
      "                       4635                        6722 \n",
      "                       CAFs              Cancer Cycling \n",
      "                       6823                        8391 \n",
      "  Tem/Trm cytotoxic T cells             Cancer Basal SC \n",
      "                       9868                       10186 \n",
      "             Cancer LumA SC \n",
      "                      16842 \n",
      "Number of outlier genes filtered from mixture = 6 \n",
      "Aligning reference and mixture... \n",
      "Normalizing reference... \n"
     ]
    }
   ],
   "source": [
    "%%R\n",
    "myPrism <- new.prism(reference=sc.dat.filtered,\n",
    "                     mixture=bk.dat,\n",
    "                     input.type=\"count.matrix\",\n",
    "                     cell.type.labels = cell.type.labels,\n",
    "                     cell.state.labels = cell.state.labels,\n",
    "                     key='Tumor',\n",
    "                     outlier.cut=0.01,\n",
    "                     outlier.fraction=0.1,\n",
    ")"
   ]
  },
  {
   "cell_type": "code",
   "execution_count": 37,
   "id": "606301eb-2f5f-4bc0-9a2c-b9bece1e9fec",
   "metadata": {},
   "outputs": [
    {
     "name": "stdout",
     "output_type": "stream",
     "text": [
      "Run Gibbs sampling... \n",
      "Current time:  2023-11-23 16:54:47 \n",
      "Estimated time to complete:  21hrs 20mins \n",
      "Estimated finishing time:  2023-11-24 14:14:34 \n",
      "Start run... \n",
      "R Version:  R version 4.2.3 (2023-03-15) \n",
      "\n",
      "Update the reference matrix ... \n",
      "Run Gibbs sampling using updated reference ... \n",
      "Current time:  2023-11-23 23:23:16 \n",
      "Estimated time to complete:  10hrs 26mins \n",
      "Estimated finishing time:  2023-11-24 09:48:20 \n",
      "Start run... \n"
     ]
    }
   ],
   "source": [
    "%%R\n",
    "bp.res <- run.prism(prism = myPrism, n.cores=5)"
   ]
  },
  {
   "cell_type": "code",
   "execution_count": 39,
   "id": "e3242f34-c50b-4697-8a32-44f1ef1721f1",
   "metadata": {},
   "outputs": [],
   "source": [
    "%%R -o Z_nk,Z_nk_colnames,Z_nk_rownames\n",
    "Z_nk <- get.exp(bp.res, state.or.type='type', cell.name='NK cells')\n",
    "Z_nk_colnames <- colnames(Z_nk)\n",
    "Z_nk_rownames <- rownames(Z_nk)"
   ]
  },
  {
   "cell_type": "code",
   "execution_count": 40,
   "id": "544ed6cc-eef0-4470-9f18-7b813d0bb699",
   "metadata": {},
   "outputs": [],
   "source": [
    "Z_nk = pd.DataFrame(Z_nk,index=Z_nk_rownames,columns=Z_nk_colnames) ### NK expression matrix (patients x genes)"
   ]
  },
  {
   "cell_type": "code",
   "execution_count": 41,
   "id": "09a613af-fd35-4143-bb55-ffdad4dab2f7",
   "metadata": {},
   "outputs": [],
   "source": [
    "Z_nk_adata = sc.AnnData(Z_nk)"
   ]
  },
  {
   "cell_type": "code",
   "execution_count": 42,
   "id": "d9260841-f247-43b2-99ec-d80e32f73e7c",
   "metadata": {},
   "outputs": [
    {
     "data": {
      "text/plain": [
       "AnnData object with n_obs × n_vars = 1231 × 14273"
      ]
     },
     "execution_count": 42,
     "metadata": {},
     "output_type": "execute_result"
    }
   ],
   "source": [
    "Z_nk_adata"
   ]
  },
  {
   "cell_type": "code",
   "execution_count": 43,
   "id": "c1495ff9-6d9d-4979-bd9b-1739309942c6",
   "metadata": {},
   "outputs": [],
   "source": [
    "%%R -o theta,theta_colnames,theta_rownames\n",
    "theta <- get.fraction(bp=bp.res, \n",
    "                       which.theta=\"final\",\n",
    "                       state.or.type=\"type\")\n",
    "\n",
    "theta_colnames <- colnames(theta)\n",
    "theta_rownames <- rownames(theta)"
   ]
  },
  {
   "cell_type": "code",
   "execution_count": 44,
   "id": "9c2d9683-5d40-4fb4-9831-d3569f1c3a22",
   "metadata": {},
   "outputs": [],
   "source": [
    "%%R -o theta_state,theta_state_colnames,theta_state_rownames\n",
    "theta_state <- get.fraction(bp=bp.res, \n",
    "                       which.theta=\"first\",\n",
    "                       state.or.type=\"state\")\n",
    "\n",
    "theta_state_colnames <- colnames(theta_state)\n",
    "theta_state_rownames <- rownames(theta_state)"
   ]
  },
  {
   "cell_type": "code",
   "execution_count": 45,
   "id": "831b7ab0-fc6c-4985-9ad3-bf72501dccc7",
   "metadata": {},
   "outputs": [],
   "source": [
    "theta_type_df = pd.DataFrame(theta,index=theta_rownames,columns=theta_colnames) ### Cell type fractions (patients x cell types)"
   ]
  },
  {
   "cell_type": "code",
   "execution_count": 46,
   "id": "75facb78-3a3a-4643-ba5f-0f107233443d",
   "metadata": {},
   "outputs": [],
   "source": [
    "theta_state_df = pd.DataFrame(theta_state,index=theta_state_rownames,columns=theta_state_colnames) ### Cell state fractions (patients x cell states)"
   ]
  },
  {
   "cell_type": "code",
   "execution_count": 47,
   "id": "efbc8a2a-7f67-4182-82a7-6af224c38594",
   "metadata": {},
   "outputs": [
    {
     "data": {
      "image/png": "[encoded data removed]",
      "text/plain": [
       "<Figure size 640x480 with 1 Axes>"
      ]
     },
     "metadata": {},
     "output_type": "display_data"
    }
   ],
   "source": [
    "bp_plot = pd.DataFrame(theta_state_df[['CD56bright NK cells', 'CD56dim NK cells']].T/theta_state_df[['CD56bright NK cells', 'CD56dim NK cells']].sum(axis=1).T).T.boxplot()"
   ]
  },
  {
   "cell_type": "code",
   "execution_count": 48,
   "id": "05e30b54-4072-4f09-a520-cd8f0e9fadac",
   "metadata": {},
   "outputs": [],
   "source": [
    "figure = bp_plot.get_figure()    \n",
    "figure.savefig('cd56bright_cd56dim_breast_tcga.pdf', dpi=400)"
   ]
  },
  {
   "cell_type": "code",
   "execution_count": null,
   "id": "ec80c5e2-4a99-4347-9ec1-881e8ca8687a",
   "metadata": {},
   "outputs": [],
   "source": []
  },
  {
   "cell_type": "code",
   "execution_count": 49,
   "id": "a2d83d04-88e3-4b52-bbbd-4a35a7601e4a",
   "metadata": {},
   "outputs": [],
   "source": [
    "theta_state_groups = theta_state_df[['CD56bright NK cells', 'CD56dim NK cells']].copy()"
   ]
  },
  {
   "cell_type": "code",
   "execution_count": 50,
   "id": "01cbf038-fbbc-40f4-8538-1b7701188a5e",
   "metadata": {},
   "outputs": [],
   "source": [
    "theta_type_immune = theta_type_df[['T cells', 'Myeloid', 'B cells', 'NK cells', 'ILCs']].copy()"
   ]
  },
  {
   "cell_type": "code",
   "execution_count": null,
   "id": "ac2e6d76-8481-4993-b427-7f6f8ac713bb",
   "metadata": {},
   "outputs": [],
   "source": []
  },
  {
   "cell_type": "code",
   "execution_count": 51,
   "id": "5b73f275-1c42-4cef-b0a1-011fa3a5154f",
   "metadata": {},
   "outputs": [],
   "source": [
    "theta_type_immune.index = ['-'.join(x.split('-')[:3]) for x in theta_type_immune.index]"
   ]
  },
  {
   "cell_type": "code",
   "execution_count": 52,
   "id": "5b3c9aa2-8403-441b-b6d4-813772430f0e",
   "metadata": {},
   "outputs": [],
   "source": [
    "theta_type_immune = theta_type_immune[~theta_type_immune.index.duplicated(keep='first')]"
   ]
  },
  {
   "cell_type": "code",
   "execution_count": 53,
   "id": "2022c5a6-2a15-496e-8098-9b79addc9329",
   "metadata": {},
   "outputs": [],
   "source": [
    "theta_state_groups.index = ['-'.join(x.split('-')[:3]) for x in theta_state_groups.index]"
   ]
  },
  {
   "cell_type": "code",
   "execution_count": 54,
   "id": "8dcab9cd-2046-4ad0-bea3-d30ed4135467",
   "metadata": {},
   "outputs": [],
   "source": [
    "theta_state_groups = theta_state_groups[~theta_state_groups.index.duplicated(keep='first')]"
   ]
  },
  {
   "cell_type": "code",
   "execution_count": null,
   "id": "3d309734-9df1-4818-a06a-593bb012eb81",
   "metadata": {},
   "outputs": [],
   "source": []
  },
  {
   "cell_type": "code",
   "execution_count": 55,
   "id": "301b9a52-d27e-419f-808e-ca284d19327d",
   "metadata": {},
   "outputs": [],
   "source": [
    "theta_state_groups_fraction = (theta_state_groups.T/theta_state_groups.sum(axis=1)).T.copy()"
   ]
  },
  {
   "cell_type": "code",
   "execution_count": 56,
   "id": "27291254-145e-4376-b30d-b749c2ee1020",
   "metadata": {},
   "outputs": [],
   "source": [
    "theta_type_immune_fraction = (theta_type_immune.T/theta_type_immune.sum(axis=1)).T.copy()"
   ]
  },
  {
   "cell_type": "markdown",
   "id": "5f173cd0-59f1-4529-824b-17816cbd837b",
   "metadata": {},
   "source": [
    "#### Clinical BRCA"
   ]
  },
  {
   "cell_type": "code",
   "execution_count": 57,
   "id": "00d19a4a-d93d-4594-b436-23436a985276",
   "metadata": {},
   "outputs": [],
   "source": [
    "%%R -o clin_brca\n",
    "clin_brca <- clin.dat"
   ]
  },
  {
   "cell_type": "code",
   "execution_count": 58,
   "id": "3d9a9806-6b68-4106-adbf-69bd29350ef7",
   "metadata": {},
   "outputs": [],
   "source": [
    "brca_survival_df = pd.read_csv('/tumor-data/survival%2FBRCA_survival.txt', sep='\\t')"
   ]
  },
  {
   "cell_type": "code",
   "execution_count": 59,
   "id": "c0dd160d-5732-4dbe-ad15-d5aa82408607",
   "metadata": {},
   "outputs": [],
   "source": [
    "brca_survival_df = brca_survival_df.drop_duplicates(subset='_PATIENT')"
   ]
  },
  {
   "cell_type": "code",
   "execution_count": 60,
   "id": "ea19ec9a-0da3-497e-ac62-2ce5d4255581",
   "metadata": {},
   "outputs": [],
   "source": [
    "clin_brca = clin_brca[[x in theta_type_immune.index for x in clin_brca['submitter_id']]]"
   ]
  },
  {
   "cell_type": "code",
   "execution_count": 61,
   "id": "8533de78-bf3d-47db-b9d8-328bb7888266",
   "metadata": {},
   "outputs": [],
   "source": [
    "brca_survival_df.index = brca_survival_df['_PATIENT']"
   ]
  },
  {
   "cell_type": "code",
   "execution_count": 62,
   "id": "7d706a96-4886-4803-a157-fef261913071",
   "metadata": {},
   "outputs": [],
   "source": [
    "clin_brca = clin_brca[[x in brca_survival_df.index for x in clin_brca['submitter_id']]]"
   ]
  },
  {
   "cell_type": "code",
   "execution_count": 63,
   "id": "a3fc78e9-830e-406d-80f1-124877f531c9",
   "metadata": {},
   "outputs": [],
   "source": [
    "brca_survival_df = brca_survival_df.loc[clin_brca['submitter_id']].copy()"
   ]
  },
  {
   "cell_type": "code",
   "execution_count": 64,
   "id": "f7985dbd-6a8d-4af8-94f3-31bfbeb80beb",
   "metadata": {},
   "outputs": [
    {
     "name": "stderr",
     "output_type": "stream",
     "text": [
      "/tmp/ipykernel_425579/874731392.py:1: DeprecationWarning: In a future version, `df.iloc[:, i] = newvals` will attempt to set the values inplace instead of always setting a new array. To retain the old behavior, use either `df[df.columns[i]] = newvals` or, if columns are non-unique, `df.isetitem(i, newvals)`\n",
      "  clin_brca.loc[:,brca_survival_df.columns] = brca_survival_df.values\n"
     ]
    }
   ],
   "source": [
    "clin_brca.loc[:,brca_survival_df.columns] = brca_survival_df.values"
   ]
  },
  {
   "cell_type": "code",
   "execution_count": null,
   "id": "e4197c1f-72ae-43d9-8540-01c1a4ec5617",
   "metadata": {},
   "outputs": [],
   "source": []
  },
  {
   "cell_type": "code",
   "execution_count": 65,
   "id": "b5ee2ddc-531f-4d48-a23a-f0467651b0b1",
   "metadata": {},
   "outputs": [],
   "source": [
    "clin_brca['total_nk'] = ['high' if x in theta_type_immune.sort_values('NK cells')[-int(theta_type_immune.shape[0]/3):].index \n",
    "                        else 'low' if x in theta_type_immune.sort_values('NK cells')[:int(theta_type_immune.shape[0]/3)].index else 'middle' for x in clin_brca['submitter_id']]"
   ]
  },
  {
   "cell_type": "code",
   "execution_count": 66,
   "id": "af56602c-12b6-4a99-9a54-2f11cf608dd6",
   "metadata": {},
   "outputs": [],
   "source": [
    "cell_state='CD56bright NK cells'\n",
    "clin_brca['cd56bright'] = ['high' if x in theta_state_groups.sort_values(cell_state)[-int(theta_state_groups.shape[0]/3):].index \n",
    "                                          else 'low' if x in theta_state_groups.sort_values(cell_state)[:int(theta_state_groups.shape[0]/3)].index else 'middle' for x in clin_brca['submitter_id']]"
   ]
  },
  {
   "cell_type": "code",
   "execution_count": 67,
   "id": "6af859c3-dfce-4f2c-802d-c7f5a44a0c76",
   "metadata": {},
   "outputs": [],
   "source": [
    "cell_state='CD56dim NK cells'\n",
    "clin_brca['cd56dim'] = ['high' if x in theta_state_groups.sort_values(cell_state)[-int(theta_state_groups.shape[0]/3):].index \n",
    "                                          else 'low' if x in theta_state_groups.sort_values(cell_state)[:int(theta_state_groups.shape[0]/3)].index else 'middle' for x in clin_brca['submitter_id']]"
   ]
  },
  {
   "cell_type": "code",
   "execution_count": null,
   "id": "3751f140-a483-4f94-a1a4-ad129e041a50",
   "metadata": {},
   "outputs": [],
   "source": []
  },
  {
   "cell_type": "markdown",
   "id": "3bcfd948-e1f8-4851-b80c-09b1c9cf7c0c",
   "metadata": {},
   "source": [
    "#### Stratify by NK, CD56bright and CD56dim"
   ]
  },
  {
   "cell_type": "code",
   "execution_count": 82,
   "id": "d3955ba3-1080-4eb3-ada1-0b3609f021e3",
   "metadata": {},
   "outputs": [],
   "source": [
    "test_group='total_nk'"
   ]
  },
  {
   "cell_type": "code",
   "execution_count": 83,
   "id": "23a0a87a-427f-46df-b0e3-6452572d51e6",
   "metadata": {},
   "outputs": [],
   "source": [
    "clin_brca_test = clin_brca[clin_brca[f'{test_group}'] != 'middle'].copy()"
   ]
  },
  {
   "cell_type": "code",
   "execution_count": 84,
   "id": "da9cfe55-9587-46a7-92d8-dfe5eee32b37",
   "metadata": {},
   "outputs": [],
   "source": [
    "%%R\n",
    "library(survival)\n",
    "library(\"survminer\")"
   ]
  },
  {
   "cell_type": "code",
   "execution_count": 85,
   "id": "d1102d5a-324b-4cce-a741-ac70f1801512",
   "metadata": {},
   "outputs": [],
   "source": [
    "%%R -i clin_brca_test\n",
    "clin_brca_test$OS=as.numeric(clin_brca_test$OS)\n",
    "clin_brca_test$OS.time=as.numeric(clin_brca_test$OS.time)\n",
    "\n",
    "clin_brca_test$OS.time <- clin_brca_test$OS.time / 365\n",
    "\n",
    "clin_brca_test$OS[clin_brca_test$OS.time>7] <- 0\n",
    "clin_brca_test$OS.time[clin_brca_test$OS.time>7] <- 7\n",
    "\n",
    "clin_brca_test$OS.use=clin_brca_test$OS\n",
    "clin_brca_test$OS.time.use=clin_brca_test$OS.time"
   ]
  },
  {
   "cell_type": "code",
   "execution_count": 86,
   "id": "636acda2-0513-4dc2-9bac-febf8eb73ba6",
   "metadata": {},
   "outputs": [],
   "source": [
    "#%%R\n",
    "#cox = coxph(Surv(OS.time.use,OS.use) ~ g1 + gender + age_at_index + ajcc_pathologic_stage, data=clin_brca_test)"
   ]
  },
  {
   "cell_type": "code",
   "execution_count": 87,
   "id": "558ee1ad-5212-4225-afc2-72c44cad8184",
   "metadata": {},
   "outputs": [],
   "source": [
    "%%R -i test_group\n",
    "#form = as.formula(paste('Surv(OS.time.use,OS.use)', '~', test_group))\n",
    "fit = survfit(as.formula(paste('Surv(OS.time.use,OS.use)', '~', test_group)), data=clin_brca_test)"
   ]
  },
  {
   "cell_type": "code",
   "execution_count": 88,
   "id": "d9fcbe81-9ad3-4478-853c-1ba3d28da488",
   "metadata": {},
   "outputs": [
    {
     "name": "stdout",
     "output_type": "stream",
     "text": [
      "png \n",
      "  2 \n"
     ]
    }
   ],
   "source": [
    "%%R\n",
    "dir=\"\"\n",
    "cancer=paste('BRCA', '_', test_group)\n",
    "p = ggsurvplot(fit, clin_brca_test, size=0.3, vlegend.labs=unique(clin_brca_test[[test_group]]),\n",
    "                   surv.median.line=\"none\", pval=T, conf.int=F,\n",
    "                   palette=c(\"#CCCCCC\",\"#990066\"),title=cancer) + \n",
    "                   xlab(\"Years\")\n",
    "    \n",
    "pdf(file=sprintf(\"survival_%s.pdf\", cancer), width=3, height=3,onefile = FALSE)\n",
    "print(p)\n",
    "dev.off()"
   ]
  },
  {
   "cell_type": "code",
   "execution_count": null,
   "id": "b4886f2e-69a8-4966-8b36-184058c6e808",
   "metadata": {},
   "outputs": [],
   "source": []
  },
  {
   "cell_type": "code",
   "execution_count": null,
   "id": "d8d1dfa4-7a88-4c99-9203-9c7a296493be",
   "metadata": {},
   "outputs": [],
   "source": []
  },
  {
   "cell_type": "markdown",
   "id": "4af1fd89-99dd-4ce7-a615-3b1c9df13b6b",
   "metadata": {},
   "source": [
    "#### Score NK cell states"
   ]
  },
  {
   "cell_type": "code",
   "execution_count": 193,
   "id": "e8a4b598-0897-4fcd-8081-5e976e7f64b3",
   "metadata": {},
   "outputs": [],
   "source": [
    "from pyscenic.aucell import aucell\n",
    "from ctxcore.genesig import GeneSignature\n",
    "from pyscenic.aucell import create_rankings, enrichment"
   ]
  },
  {
   "cell_type": "code",
   "execution_count": null,
   "id": "9a0c1a11-f727-4db3-9322-e9b1fec8d583",
   "metadata": {},
   "outputs": [],
   "source": []
  },
  {
   "cell_type": "code",
   "execution_count": 194,
   "id": "42eb7b04-ffa8-43cd-8bef-11251de278e7",
   "metadata": {},
   "outputs": [],
   "source": [
    "all_groups_deg = pd.read_csv('nhood_markers_DEG_all_groups.csv')"
   ]
  },
  {
   "cell_type": "code",
   "execution_count": 195,
   "id": "f3eca787-b385-485c-bb9d-5bf2093a034e",
   "metadata": {},
   "outputs": [],
   "source": [
    "for group in range(1,7):\n",
    "    all_groups_deg[f'rank_{group}'] = all_groups_deg[f'logFC_{group}']*-np.log10(all_groups_deg[f'adj.P.Val_{group}'])"
   ]
  },
  {
   "cell_type": "code",
   "execution_count": 196,
   "id": "4cdbd594-9c6d-4933-80b5-dea9f04aa71f",
   "metadata": {},
   "outputs": [],
   "source": [
    "group = 1\n",
    "g1_sig = np.array(all_groups_deg.sort_values(f'rank_{group}')[-20:]['GeneID'])"
   ]
  },
  {
   "cell_type": "code",
   "execution_count": 197,
   "id": "724ebb59-da91-4ca7-9050-c251dcc47d71",
   "metadata": {},
   "outputs": [],
   "source": [
    "group = 3\n",
    "g2_sig = np.array(all_groups_deg.sort_values(f'rank_{group}')[-20:]['GeneID'])"
   ]
  },
  {
   "cell_type": "code",
   "execution_count": 198,
   "id": "9b76a9b6-7156-4552-87a9-01a58d2ee421",
   "metadata": {},
   "outputs": [],
   "source": [
    "group = 2\n",
    "g3_sig = np.array(all_groups_deg.sort_values(f'rank_{group}')[-20:]['GeneID'])"
   ]
  },
  {
   "cell_type": "code",
   "execution_count": 199,
   "id": "2b70bed7-7bda-459f-a01b-889d800aca68",
   "metadata": {},
   "outputs": [],
   "source": [
    "group = 4\n",
    "g4_sig = np.array(all_groups_deg.sort_values(f'rank_{group}')[-20:]['GeneID'])"
   ]
  },
  {
   "cell_type": "code",
   "execution_count": 200,
   "id": "297333b8-6de2-491e-b554-04ada03f9dec",
   "metadata": {},
   "outputs": [],
   "source": [
    "group = 5\n",
    "g5_sig = np.array(all_groups_deg.sort_values(f'rank_{group}')[-20:]['GeneID'])"
   ]
  },
  {
   "cell_type": "code",
   "execution_count": 201,
   "id": "075aa2b6-6a79-49a5-8f58-c947b8f00057",
   "metadata": {},
   "outputs": [],
   "source": [
    "group = 6\n",
    "g6_sig = np.array(all_groups_deg.sort_values(f'rank_{group}')[-20:]['GeneID'])"
   ]
  },
  {
   "cell_type": "code",
   "execution_count": null,
   "id": "ccbc8921-f606-432a-b457-4bb6ef26c7c1",
   "metadata": {},
   "outputs": [],
   "source": []
  },
  {
   "cell_type": "code",
   "execution_count": 202,
   "id": "8d26171f-c3e8-4758-9e7a-8152f4851ff8",
   "metadata": {},
   "outputs": [],
   "source": [
    "signature_genes = [g1_sig,g2_sig,g3_sig,g4_sig,g5_sig,g6_sig]\n",
    "signature_names = [f'g{x}' for x in range(1,7)]"
   ]
  },
  {
   "cell_type": "code",
   "execution_count": null,
   "id": "c2837b2e-8325-4ef0-a27d-080ce0bda7c3",
   "metadata": {},
   "outputs": [],
   "source": []
  },
  {
   "cell_type": "code",
   "execution_count": 203,
   "id": "179e1677-e787-440e-b883-a50d85f9fa2b",
   "metadata": {},
   "outputs": [],
   "source": [
    "gene_sigs = [GeneSignature(name,genes) for (name,genes) in zip(signature_names, signature_genes)]"
   ]
  },
  {
   "cell_type": "code",
   "execution_count": 204,
   "id": "a3cd91fe-766a-4701-91c7-cf0e71140924",
   "metadata": {},
   "outputs": [],
   "source": [
    "exp_df = Z_nk_adata.to_df()#pd.DataFrame(adata.X.todense(), columns=adata.var.index, index=adata.obs.index)"
   ]
  },
  {
   "cell_type": "code",
   "execution_count": 205,
   "id": "417bfe4d-a333-4b63-84d0-2610818021c0",
   "metadata": {},
   "outputs": [],
   "source": [
    "auc_mtx = aucell(exp_df, gene_sigs, num_workers=4)"
   ]
  },
  {
   "cell_type": "code",
   "execution_count": 206,
   "id": "79427fa9-b6a1-4ef7-9467-61318a929dd7",
   "metadata": {},
   "outputs": [],
   "source": [
    "auc_mtx.index = ['-'.join(x.split('-')[:3]) for x in auc_mtx.index]"
   ]
  },
  {
   "cell_type": "code",
   "execution_count": 207,
   "id": "d9f7edb2-8f9b-48d1-b5f5-7c0582a9fb93",
   "metadata": {},
   "outputs": [],
   "source": [
    "auc_mtx = auc_mtx[~auc_mtx.index.duplicated(keep='first')]"
   ]
  },
  {
   "cell_type": "code",
   "execution_count": 208,
   "id": "4ccfd324-cf00-402f-a328-38d650d3c7a6",
   "metadata": {},
   "outputs": [],
   "source": [
    "auc_mtx = auc_mtx.loc[clin_brca['submitter_id']]"
   ]
  },
  {
   "cell_type": "code",
   "execution_count": null,
   "id": "b2952d29-f759-4c47-b48e-4fdb825e7a26",
   "metadata": {},
   "outputs": [],
   "source": []
  },
  {
   "cell_type": "code",
   "execution_count": 209,
   "id": "c749a55b-f672-432f-92cd-008a4c21318f",
   "metadata": {},
   "outputs": [],
   "source": [
    "for i in range(1,7):\n",
    "    nk_state=i\n",
    "    clin_brca[f'g{nk_state}'] = ['high' if x in auc_mtx.sort_values(f'g{nk_state}')[-int(auc_mtx.shape[0]/2):].index \n",
    "                                else 'low' if x in auc_mtx.sort_values(f'g{nk_state}')[:int(auc_mtx.shape[0]/2)].index else 'middle' for x in clin_brca['submitter_id']]"
   ]
  },
  {
   "cell_type": "code",
   "execution_count": 210,
   "id": "9c04681f-53fe-4508-a761-e664195df435",
   "metadata": {},
   "outputs": [],
   "source": [
    "clin_brca['g1g3'] = [f'{x[:2]}_{y[:2]}' for x,y in zip(clin_brca['g1'], clin_brca['g3'])]"
   ]
  },
  {
   "cell_type": "code",
   "execution_count": 211,
   "id": "a11b0f38-1f09-4b04-a1e2-8b80e4d1f5ee",
   "metadata": {},
   "outputs": [],
   "source": [
    "clin_brca_test = clin_brca[clin_brca['g1g3'].isin(['lo_hi', 'hi_lo'])].copy()"
   ]
  },
  {
   "cell_type": "code",
   "execution_count": 212,
   "id": "94aff084-d75a-4a8a-b97b-b45aa79fb9e1",
   "metadata": {},
   "outputs": [],
   "source": [
    "%%R\n",
    "library(survival)\n",
    "library(\"survminer\")"
   ]
  },
  {
   "cell_type": "code",
   "execution_count": 213,
   "id": "3faf821e-2ba2-4766-b546-f9ec6b87ee51",
   "metadata": {},
   "outputs": [],
   "source": [
    "%%R -i clin_brca_test\n",
    "clin_brca_test$OS=as.numeric(clin_brca_test$OS)\n",
    "clin_brca_test$OS.time=as.numeric(clin_brca_test$OS.time)\n",
    "\n",
    "clin_brca_test$OS.time <- clin_brca_test$OS.time / 365\n",
    "\n",
    "clin_brca_test$OS[clin_brca_test$OS.time>7] <- 0\n",
    "clin_brca_test$OS.time[clin_brca_test$OS.time>7] <- 7\n",
    "\n",
    "clin_brca_test$OS.use=clin_brca_test$OS\n",
    "clin_brca_test$OS.time.use=clin_brca_test$OS.time"
   ]
  },
  {
   "cell_type": "code",
   "execution_count": 214,
   "id": "b2ab76f1-343d-47e8-be17-b0f96a81910d",
   "metadata": {},
   "outputs": [],
   "source": [
    "#%%R\n",
    "#cox = coxph(Surv(OS.time.use,OS.use) ~ g1 + gender + age_at_index + ajcc_pathologic_stage, data=clin_brca_test)"
   ]
  },
  {
   "cell_type": "code",
   "execution_count": 215,
   "id": "b2092821-c1a9-4d1a-bebf-a61f6912a706",
   "metadata": {},
   "outputs": [],
   "source": [
    "%%R\n",
    "fit = survfit(Surv(OS.time.use,OS.use) ~ g1g3, data=clin_brca_test)"
   ]
  },
  {
   "cell_type": "code",
   "execution_count": 216,
   "id": "141d3089-a904-44f5-b554-2f9919d92a1b",
   "metadata": {},
   "outputs": [
    {
     "name": "stdout",
     "output_type": "stream",
     "text": [
      "png \n",
      "  2 \n"
     ]
    }
   ],
   "source": [
    "%%R\n",
    "dir=\"\"\n",
    "cancer='BRCA_g1g3'\n",
    "p = ggsurvplot(fit, clin_brca_test, size=0.3, vlegend.labs=unique(clin_brca_test$g1g3),\n",
    "                   surv.median.line=\"none\", pval=T, conf.int=F,\n",
    "                   #risk.table=T, risk.table.y.text.col=T,\n",
    "                   palette=c(\"#990066\",\"#CCCCCC\"),title=cancer) + \n",
    "                   xlab(\"Years\")\n",
    "    \n",
    "pdf(file=sprintf(\"survival_%s.pdf\", cancer), width=3, height=3,onefile = FALSE)\n",
    "print(p)\n",
    "dev.off()"
   ]
  },
  {
   "cell_type": "code",
   "execution_count": null,
   "id": "4efc8de6-2a32-4a5f-8623-06db71f7a1c1",
   "metadata": {},
   "outputs": [],
   "source": []
  },
  {
   "cell_type": "code",
   "execution_count": null,
   "id": "fb80ca63-82b6-4df5-9d20-4114204bb002",
   "metadata": {},
   "outputs": [],
   "source": []
  }
 ],
 "metadata": {
  "kernelspec": {
   "display_name": "Python 3 (ipykernel)",
   "language": "python",
   "name": "python3"
  },
  "language_info": {
   "codemirror_mode": {
    "name": "ipython",
    "version": 3
   },
   "file_extension": ".py",
   "mimetype": "text/x-python",
   "name": "python",
   "nbconvert_exporter": "python",
   "pygments_lexer": "ipython3",
   "version": "3.9.16"
  }
 },
 "nbformat": 4,
 "nbformat_minor": 5
}
