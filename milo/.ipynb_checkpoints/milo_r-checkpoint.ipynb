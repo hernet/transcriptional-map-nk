{
 "cells": [
  {
   "cell_type": "code",
   "execution_count": 1,
   "id": "21289e30-f52d-47c0-adaa-05f728791531",
   "metadata": {},
   "outputs": [],
   "source": [
    "import matplotlib.pyplot as plt\n",
    "import seaborn as sns\n",
    "import scanpy as sc\n",
    "import pandas as pd\n",
    "import numpy as np\n",
    "import random\n",
    "#import sc_toolbox\n",
    "\n",
    "import rpy2.rinterface_lib.callbacks\n",
    "import anndata2ri\n",
    "import logging\n",
    "\n",
    "from rpy2.robjects import pandas2ri\n",
    "from rpy2.robjects import r\n",
    "\n",
    "sc.settings.verbosity = 0\n",
    "rpy2.rinterface_lib.callbacks.logger.setLevel(logging.ERROR)\n",
    "\n",
    "pandas2ri.activate()\n",
    "anndata2ri.activate()\n",
    "\n",
    "%load_ext rpy2.ipython"
   ]
  },
  {
   "cell_type": "code",
   "execution_count": 2,
   "id": "ce0785aa-cbc8-435f-ae23-c10572899fbe",
   "metadata": {},
   "outputs": [],
   "source": [
    "import anndata2ri\n",
    "import rpy2.rinterface_lib.callbacks\n",
    "import logging"
   ]
  },
  {
   "cell_type": "code",
   "execution_count": 3,
   "id": "bc2e5b3a-15d1-4017-876a-4a717e5708f0",
   "metadata": {},
   "outputs": [],
   "source": [
    "import anndata"
   ]
  },
  {
   "cell_type": "code",
   "execution_count": 6,
   "id": "7cb7e78b-a225-4462-86d0-52f72d72b97e",
   "metadata": {},
   "outputs": [],
   "source": [
    "%%R\n",
    "library(edgeR)\n",
    "#library(MAST)"
   ]
  },
  {
   "cell_type": "code",
   "execution_count": 7,
   "id": "c11170c8-1513-4afa-8ddc-d38ef00497c6",
   "metadata": {},
   "outputs": [],
   "source": [
    "adata = sc.read('all_nk_cells.h5ad')"
   ]
  },
  {
   "cell_type": "code",
   "execution_count": 9,
   "id": "6d454400-50a8-4429-b59e-6af4af829442",
   "metadata": {},
   "outputs": [],
   "source": [
    "adata.obs['label'] = adata.obs['reference']"
   ]
  },
  {
   "cell_type": "code",
   "execution_count": 10,
   "id": "7b6ef78c-65e7-4b69-9199-d78350a6cd5b",
   "metadata": {},
   "outputs": [],
   "source": [
    "#adata.obs['replicate'] = adata.obs['dataset']\n",
    "adata.obs['replicate'] = [f'{x}_{y}' for x,y in zip(adata.obs['dataset'],adata.obs['source'])]"
   ]
  },
  {
   "cell_type": "code",
   "execution_count": 11,
   "id": "82dd7644-a5ea-465d-a0e0-c1ab25efd194",
   "metadata": {},
   "outputs": [],
   "source": [
    "adata.obs['cell_type'] = adata.obs['lower_res_subset']"
   ]
  },
  {
   "cell_type": "code",
   "execution_count": 12,
   "id": "b904d1b9-1b10-42bf-9559-8efef0165fca",
   "metadata": {},
   "outputs": [
    {
     "data": {
      "text/plain": [
       "6323.0"
      ]
     },
     "execution_count": 12,
     "metadata": {},
     "output_type": "execute_result"
    }
   ],
   "source": [
    "np.max(adata.X)"
   ]
  },
  {
   "cell_type": "code",
   "execution_count": 13,
   "id": "e8ecd9a1-e43f-4298-bb51-f65ddeade121",
   "metadata": {},
   "outputs": [],
   "source": [
    "adata.layers[\"counts\"] = adata.X.copy()"
   ]
  },
  {
   "cell_type": "code",
   "execution_count": 14,
   "id": "b2a9a85f-ab25-4d14-a0e3-28a8d5878dfc",
   "metadata": {},
   "outputs": [],
   "source": [
    "adata.obs[\"replicate\"] = adata.obs[\"replicate\"].astype(\"category\")\n"
   ]
  },
  {
   "cell_type": "code",
   "execution_count": 15,
   "id": "ff420b66-06e3-47e3-9fa2-3c89721e758f",
   "metadata": {},
   "outputs": [
    {
     "name": "stdout",
     "output_type": "stream",
     "text": [
      "23\n",
      "38\n"
     ]
    }
   ],
   "source": [
    "print(len(adata[adata.obs[\"label\"] == \"reference\"].obs[\"replicate\"].cat.categories))\n",
    "print(len(adata[adata.obs[\"label\"] == \"query\"].obs[\"replicate\"].cat.categories))"
   ]
  },
  {
   "cell_type": "code",
   "execution_count": 16,
   "id": "6780746b-c31d-4a2e-9f25-3dbb1884f456",
   "metadata": {},
   "outputs": [
    {
     "data": {
      "text/plain": [
       "AnnData object with n_obs × n_vars = 89604 × 11866\n",
       "    obs: 'total_counts', 'n_genes_by_counts', 'pct_counts_mt', 'sample', 'batch', 'subset', 'dataset', 'source', 'tumor_type', 'label', '_scvi_batch', '_scvi_labels', 'subset_source', 'subset_only', 'source_only', 'low_res_subset', 'low_res_subset_source', 'lower_res_subset', 'Tissue residency_auc', 'reference', 'reference_subset', 'replicate', 'cell_type'\n",
       "    uns: '_scvi_manager_uuid', '_scvi_uuid', 'low_res_subset_colors', 'neighbors', 'paga', 'source_colors', 'subset_colors', 'subset_only_colors', 'subset_only_sizes', 'subset_source_colors', 'umap'\n",
       "    obsm: 'X_scVI', 'X_umap'\n",
       "    layers: 'counts'\n",
       "    obsp: 'connectivities', 'distances'"
      ]
     },
     "execution_count": 16,
     "metadata": {},
     "output_type": "execute_result"
    }
   ],
   "source": [
    "adata"
   ]
  },
  {
   "cell_type": "code",
   "execution_count": 17,
   "id": "1fcb7282-a034-41b0-8203-9dd9604ff20b",
   "metadata": {},
   "outputs": [
    {
     "data": {
      "text/plain": [
       "AnnData object with n_obs × n_vars = 89216 × 11866\n",
       "    obs: 'total_counts', 'n_genes_by_counts', 'pct_counts_mt', 'sample', 'batch', 'subset', 'dataset', 'source', 'tumor_type', 'label', '_scvi_batch', '_scvi_labels', 'subset_source', 'subset_only', 'source_only', 'low_res_subset', 'low_res_subset_source', 'lower_res_subset', 'Tissue residency_auc', 'reference', 'reference_subset', 'replicate', 'cell_type', 'n_genes'\n",
       "    var: 'n_cells'\n",
       "    uns: '_scvi_manager_uuid', '_scvi_uuid', 'low_res_subset_colors', 'neighbors', 'paga', 'source_colors', 'subset_colors', 'subset_only_colors', 'subset_only_sizes', 'subset_source_colors', 'umap'\n",
       "    obsm: 'X_scVI', 'X_umap'\n",
       "    layers: 'counts'\n",
       "    obsp: 'connectivities', 'distances'"
      ]
     },
     "execution_count": 17,
     "metadata": {},
     "output_type": "execute_result"
    }
   ],
   "source": [
    "sc.pp.filter_cells(adata, min_genes=200)\n",
    "sc.pp.filter_genes(adata, min_cells=3)\n",
    "adata"
   ]
  },
  {
   "cell_type": "code",
   "execution_count": 19,
   "id": "63e57998-f577-4e39-bde2-d63c2ad4f05b",
   "metadata": {},
   "outputs": [],
   "source": [
    "adata.obs[\"sample\"] = [\n",
    "    f\"{rep}_{l}\" for rep, l in zip(adata.obs[\"replicate\"], adata.obs[\"label\"])\n",
    "]"
   ]
  },
  {
   "cell_type": "code",
   "execution_count": 20,
   "id": "58f9674b-d454-4aa7-89b0-6c94e312538c",
   "metadata": {},
   "outputs": [],
   "source": [
    "adata.obs[\"replicate\"] = adata.obs[\"replicate\"].astype(\"category\")\n",
    "adata.obs[\"label\"] = adata.obs[\"label\"].astype(\"category\")\n",
    "adata.obs[\"sample\"] = adata.obs[\"sample\"].astype(\"category\")\n",
    "adata.obs[\"cell_type\"] = adata.obs[\"cell_type\"].astype(\"category\")"
   ]
  },
  {
   "cell_type": "code",
   "execution_count": 21,
   "id": "d31a673a-e17c-4f90-95da-7ce80afa4111",
   "metadata": {},
   "outputs": [],
   "source": [
    "adata.obs['reference'] = adata.obs[\"reference\"].astype(\"category\")"
   ]
  },
  {
   "cell_type": "code",
   "execution_count": 22,
   "id": "4b6fd176-920c-4008-acfd-594d1c9a16f9",
   "metadata": {},
   "outputs": [],
   "source": [
    "adata.obs[\"condition\"] = adata.obs['reference']"
   ]
  },
  {
   "cell_type": "code",
   "execution_count": 23,
   "id": "5fd45ace-2258-4656-94b0-10837255c9f5",
   "metadata": {},
   "outputs": [],
   "source": [
    "adata.obsm['X_pca'] = adata.obsm['X_scVI'].copy()"
   ]
  },
  {
   "cell_type": "code",
   "execution_count": 24,
   "id": "1297a2d2-ba9d-4e0b-9f78-d12cee5019e6",
   "metadata": {},
   "outputs": [],
   "source": [
    "anndata2ri.activate()"
   ]
  },
  {
   "cell_type": "code",
   "execution_count": 25,
   "id": "9a5bcb0b-1aea-4ab1-979d-6cc4524ca269",
   "metadata": {},
   "outputs": [
    {
     "name": "stdout",
     "output_type": "stream",
     "text": [
      "The rpy2.ipython extension is already loaded. To reload it, use:\n",
      "  %reload_ext rpy2.ipython\n"
     ]
    }
   ],
   "source": [
    "%load_ext rpy2.ipython"
   ]
  },
  {
   "cell_type": "code",
   "execution_count": 26,
   "id": "e91404e6-f8f9-4da7-be3a-134d2dbe856e",
   "metadata": {},
   "outputs": [],
   "source": [
    "#%%R\n",
    "#devtools::install_github(\"MarioniLab/miloR\")"
   ]
  },
  {
   "cell_type": "code",
   "execution_count": 27,
   "id": "bff587d6-4773-423b-8f13-ffaa07c38996",
   "metadata": {},
   "outputs": [],
   "source": [
    "%%R\n",
    "library(miloR)\n",
    "library(igraph)"
   ]
  },
  {
   "cell_type": "code",
   "execution_count": 28,
   "id": "7d191243-8f19-44d2-9f0b-fcb4a7ce3a65",
   "metadata": {},
   "outputs": [
    {
     "data": {
      "text/plain": [
       "AAACCTGAGTGTCCAT_1-0                        malm\n",
       "AAACCTGCACATGGGA_1-0                        malm\n",
       "AAACCTGCACCTCGGA_1-0                        malm\n",
       "AAACCTGGTTGAGTTC_1-0                        malm\n",
       "AAACCTGTCACCGTAA_1-0                        malm\n",
       "                                          ...   \n",
       "TAAACCGTCTGGGCCA-1_GSM5293920_smalley    smalley\n",
       "TCTGGAAGTAGGACAC-1_GSM5293920_smalley    smalley\n",
       "TGACAACTCTCAAACG-1_GSM5293920_smalley    smalley\n",
       "TGCTGCTGTGCTCTTC-1_GSM5293920_smalley    smalley\n",
       "TTCTCAAAGACTAGAT-1_GSM5293920_smalley    smalley\n",
       "Name: dataset, Length: 89216, dtype: category\n",
       "Categories (47, object): ['GSE212966', 'abdelfattah', 'amir', 'bassez', ..., 'yang', 'zhang', 'zhou', 'zilionis']"
      ]
     },
     "execution_count": 28,
     "metadata": {},
     "output_type": "execute_result"
    }
   ],
   "source": [
    "adata.obs['dataset']"
   ]
  },
  {
   "cell_type": "code",
   "execution_count": 29,
   "id": "2d41a418-53d4-4f87-aa36-a29294786f3a",
   "metadata": {},
   "outputs": [],
   "source": [
    "d = 30\n",
    "k = 200"
   ]
  },
  {
   "cell_type": "code",
   "execution_count": 30,
   "id": "7ffb9113-58b3-4031-bab2-9a16429771d1",
   "metadata": {},
   "outputs": [
    {
     "name": "stderr",
     "output_type": "stream",
     "text": [
      "/home/ubuntu/miniconda3/envs/scenic/lib/python3.9/site-packages/umap/distances.py:1063: NumbaDeprecationWarning: \u001b[1mThe 'nopython' keyword argument was not supplied to the 'numba.jit' decorator. The implicit default value for this argument is currently False, but it will be changed to True in Numba 0.59.0. See https://numba.readthedocs.io/en/stable/reference/deprecation.html#deprecation-of-object-mode-fall-back-behaviour-when-using-jit for details.\u001b[0m\n",
      "  @numba.jit()\n",
      "/home/ubuntu/miniconda3/envs/scenic/lib/python3.9/site-packages/umap/distances.py:1071: NumbaDeprecationWarning: \u001b[1mThe 'nopython' keyword argument was not supplied to the 'numba.jit' decorator. The implicit default value for this argument is currently False, but it will be changed to True in Numba 0.59.0. See https://numba.readthedocs.io/en/stable/reference/deprecation.html#deprecation-of-object-mode-fall-back-behaviour-when-using-jit for details.\u001b[0m\n",
      "  @numba.jit()\n",
      "/home/ubuntu/miniconda3/envs/scenic/lib/python3.9/site-packages/umap/distances.py:1086: NumbaDeprecationWarning: \u001b[1mThe 'nopython' keyword argument was not supplied to the 'numba.jit' decorator. The implicit default value for this argument is currently False, but it will be changed to True in Numba 0.59.0. See https://numba.readthedocs.io/en/stable/reference/deprecation.html#deprecation-of-object-mode-fall-back-behaviour-when-using-jit for details.\u001b[0m\n",
      "  @numba.jit()\n",
      "/home/ubuntu/miniconda3/envs/scenic/lib/python3.9/site-packages/tqdm/auto.py:21: TqdmWarning: IProgress not found. Please update jupyter and ipywidgets. See https://ipywidgets.readthedocs.io/en/stable/user_install.html\n",
      "  from .autonotebook import tqdm as notebook_tqdm\n",
      "/home/ubuntu/miniconda3/envs/scenic/lib/python3.9/site-packages/umap/umap_.py:660: NumbaDeprecationWarning: \u001b[1mThe 'nopython' keyword argument was not supplied to the 'numba.jit' decorator. The implicit default value for this argument is currently False, but it will be changed to True in Numba 0.59.0. See https://numba.readthedocs.io/en/stable/reference/deprecation.html#deprecation-of-object-mode-fall-back-behaviour-when-using-jit for details.\u001b[0m\n",
      "  @numba.jit()\n"
     ]
    }
   ],
   "source": [
    "sc.pp.neighbors(adata, use_rep='X_scVI', n_neighbors=k, n_pcs=d)"
   ]
  },
  {
   "cell_type": "code",
   "execution_count": null,
   "id": "4911d772-b102-4899-a8f6-77dfd4d1319d",
   "metadata": {},
   "outputs": [],
   "source": []
  },
  {
   "cell_type": "code",
   "execution_count": 29,
   "id": "13eee51d-47d3-415b-8d0f-21be16d6acb0",
   "metadata": {},
   "outputs": [
    {
     "data": {
      "text/plain": [
       "AnnData object with n_obs × n_vars = 89216 × 11866\n",
       "    obs: 'total_counts', 'n_genes_by_counts', 'pct_counts_mt', 'sample', 'batch', 'subset', 'dataset', 'source', 'tumor_type', 'label', '_scvi_batch', '_scvi_labels', 'subset_source', 'subset_only', 'source_only', 'low_res_subset', 'low_res_subset_source', 'lower_res_subset', 'Tissue residency_auc', 'reference', 'reference_subset', 'replicate', 'cell_type', 'n_genes', 'condition'\n",
       "    var: 'n_cells'\n",
       "    uns: '_scvi_manager_uuid', '_scvi_uuid', 'low_res_subset_colors', 'paga', 'source_colors', 'subset_colors', 'subset_only_colors', 'subset_only_sizes', 'subset_source_colors', 'umap'\n",
       "    obsm: 'X_scVI', 'X_umap', 'X_pca'\n",
       "    layers: 'counts'"
      ]
     },
     "execution_count": 29,
     "metadata": {},
     "output_type": "execute_result"
    }
   ],
   "source": [
    "adata_no_knn = adata.copy()\n",
    "adata_no_knn.obsp = None\n",
    "adata_no_knn.uns.pop(\"neighbors\")\n",
    "adata_no_knn"
   ]
  },
  {
   "cell_type": "code",
   "execution_count": 30,
   "id": "d875f734-0b67-4f57-9b9a-a650795927a7",
   "metadata": {},
   "outputs": [
    {
     "data": {
      "text/plain": [
       "AnnData object with n_obs × n_vars = 89216 × 11866\n",
       "    obs: 'total_counts', 'n_genes_by_counts', 'pct_counts_mt', 'sample', 'batch', 'subset', 'dataset', 'source', 'tumor_type', 'label', '_scvi_batch', '_scvi_labels', 'subset_source', 'subset_only', 'source_only', 'low_res_subset', 'low_res_subset_source', 'lower_res_subset', 'Tissue residency_auc', 'reference', 'reference_subset', 'replicate', 'cell_type', 'n_genes', 'condition'\n",
       "    var: 'n_cells'\n",
       "    uns: '_scvi_manager_uuid', '_scvi_uuid', 'low_res_subset_colors', 'paga', 'source_colors', 'subset_colors', 'subset_only_colors', 'subset_only_sizes', 'subset_source_colors', 'umap'\n",
       "    obsm: 'X_scVI', 'X_umap', 'X_pca'\n",
       "    layers: 'counts'"
      ]
     },
     "execution_count": 30,
     "metadata": {},
     "output_type": "execute_result"
    }
   ],
   "source": [
    "adata_no_knn"
   ]
  },
  {
   "cell_type": "code",
   "execution_count": null,
   "id": "15e50bc2-dcb7-45a2-8a36-71ae563bb51b",
   "metadata": {},
   "outputs": [],
   "source": []
  },
  {
   "cell_type": "code",
   "execution_count": 31,
   "id": "64745335-540b-4a93-9c62-7d4a5ee8c723",
   "metadata": {},
   "outputs": [
    {
     "name": "stdout",
     "output_type": "stream",
     "text": [
      "class: SingleCellExperiment \n",
      "dim: 11866 89216 \n",
      "metadata(10): _scvi_manager_uuid _scvi_uuid ... subset_source_colors\n",
      "  umap\n",
      "assays(2): X counts\n",
      "rownames(11866): LINC00115 SAMD11 ... S100B PRMT2\n",
      "rowData names(1): n_cells\n",
      "colnames(89216): AAACCTGAGTGTCCAT_1-0 AAACCTGCACATGGGA_1-0 ...\n",
      "  TGCTGCTGTGCTCTTC-1_GSM5293920_smalley\n",
      "  TTCTCAAAGACTAGAT-1_GSM5293920_smalley\n",
      "colData names(25): total_counts n_genes_by_counts ... n_genes condition\n",
      "reducedDimNames(3): X_scVI UMAP PCA\n",
      "mainExpName: NULL\n",
      "altExpNames(0):\n"
     ]
    }
   ],
   "source": [
    "%%R -i adata_no_knn\n",
    "adata_no_knn"
   ]
  },
  {
   "cell_type": "code",
   "execution_count": 34,
   "id": "3326e39a-ff1c-4350-a74f-d916b8e9085c",
   "metadata": {},
   "outputs": [
    {
     "name": "stdout",
     "output_type": "stream",
     "text": [
      "class: Milo \n",
      "dim: 11866 89216 \n",
      "metadata(10): _scvi_manager_uuid _scvi_uuid ... subset_source_colors\n",
      "  umap\n",
      "assays(2): X counts\n",
      "rownames(11866): LINC00115 SAMD11 ... S100B PRMT2\n",
      "rowData names(1): n_cells\n",
      "colnames(89216): AAACCTGAGTGTCCAT_1-0 AAACCTGCACATGGGA_1-0 ...\n",
      "  TGCTGCTGTGCTCTTC-1_GSM5293920_smalley\n",
      "  TTCTCAAAGACTAGAT-1_GSM5293920_smalley\n",
      "colData names(25): total_counts n_genes_by_counts ... n_genes condition\n",
      "reducedDimNames(3): X_scVI UMAP PCA\n",
      "mainExpName: NULL\n",
      "altExpNames(0):\n",
      "nhoods dimensions(2): 1 1\n",
      "nhoodCounts dimensions(2): 1 1\n",
      "nhoodDistances dimension(1): 0\n",
      "graph names(0):\n",
      "nhoodIndex names(1): 0\n",
      "nhoodExpression dimension(2): 1 1\n",
      "nhoodReducedDim names(0):\n",
      "nhoodGraph names(0):\n",
      "nhoodAdjacency dimension(2): 1 1\n"
     ]
    }
   ],
   "source": [
    "%%R \n",
    "milo <- Milo(adata_no_knn)\n",
    "milo"
   ]
  },
  {
   "cell_type": "code",
   "execution_count": 119,
   "id": "8ccd633a-9825-4df1-8366-0cca9c6a1017",
   "metadata": {},
   "outputs": [],
   "source": [
    "%%R\n",
    "milo@colData$subset_new <- adata_no_knn@colData$subset_new"
   ]
  },
  {
   "cell_type": "code",
   "execution_count": 11,
   "id": "aacf3d42-6075-4692-b0ab-6e19677cb08e",
   "metadata": {},
   "outputs": [
    {
     "name": "stdout",
     "output_type": "stream",
     "text": [
      "class: Milo \n",
      "dim: 11866 89216 \n",
      "metadata(10): _scvi_manager_uuid _scvi_uuid ... subset_source_colors\n",
      "  umap\n",
      "assays(3): X counts logcounts\n",
      "rownames(11866): LINC00115 SAMD11 ... S100B PRMT2\n",
      "rowData names(1): n_cells\n",
      "colnames(89216): AAACCTGAGTGTCCAT_1-0 AAACCTGCACATGGGA_1-0 ...\n",
      "  TGCTGCTGTGCTCTTC-1_GSM5293920_smalley\n",
      "  TTCTCAAAGACTAGAT-1_GSM5293920_smalley\n",
      "colData names(26): total_counts n_genes_by_counts ... condition\n",
      "  sizeFactor\n",
      "reducedDimNames(3): X_scVI UMAP PCA\n",
      "mainExpName: NULL\n",
      "altExpNames(0):\n",
      "nhoods dimensions(2): 89216 6505\n",
      "nhoodCounts dimensions(2): 6505 61\n",
      "nhoodDistances dimension(1): 6505\n",
      "graph names(1): graph\n",
      "nhoodIndex names(1): 6505\n",
      "nhoodExpression dimension(2): 1 1\n",
      "nhoodReducedDim names(0):\n",
      "nhoodGraph names(1): nhoodGraph\n",
      "nhoodAdjacency dimension(2): 6505 6505\n"
     ]
    }
   ],
   "source": [
    "%%R\n",
    "milo"
   ]
  },
  {
   "cell_type": "code",
   "execution_count": null,
   "id": "da6b8184-42ea-42a3-8865-bc68f3e035dc",
   "metadata": {},
   "outputs": [],
   "source": []
  },
  {
   "cell_type": "code",
   "execution_count": 39,
   "id": "3e67bfd5-6f53-455c-bdd7-7a7296af3983",
   "metadata": {},
   "outputs": [],
   "source": [
    "%%R \n",
    "milo <- buildGraph(milo, k=200, d=30)\n"
   ]
  },
  {
   "cell_type": "code",
   "execution_count": 182,
   "id": "53ae6dc1-1eab-4c31-91a2-7ca7007f23a6",
   "metadata": {},
   "outputs": [
    {
     "name": "stderr",
     "output_type": "stream",
     "text": [
      "/tmp/ipykernel_306781/439440423.py:2: SettingWithCopyWarning: \n",
      "A value is trying to be set on a copy of a slice from a DataFrame\n",
      "\n",
      "See the caveats in the documentation: https://pandas.pydata.org/pandas-docs/stable/user_guide/indexing.html#returning-a-view-versus-a-copy\n",
      "  design_df.drop_duplicates(inplace=True)\n"
     ]
    },
    {
     "data": {
      "text/html": [
       "<div>\n",
       "<style scoped>\n",
       "    .dataframe tbody tr th:only-of-type {\n",
       "        vertical-align: middle;\n",
       "    }\n",
       "\n",
       "    .dataframe tbody tr th {\n",
       "        vertical-align: top;\n",
       "    }\n",
       "\n",
       "    .dataframe thead th {\n",
       "        text-align: right;\n",
       "    }\n",
       "</style>\n",
       "<table border=\"1\" class=\"dataframe\">\n",
       "  <thead>\n",
       "    <tr style=\"text-align: right;\">\n",
       "      <th></th>\n",
       "      <th>sample</th>\n",
       "      <th>dataset</th>\n",
       "      <th>condition</th>\n",
       "    </tr>\n",
       "    <tr>\n",
       "      <th>sample</th>\n",
       "      <th></th>\n",
       "      <th></th>\n",
       "      <th></th>\n",
       "    </tr>\n",
       "  </thead>\n",
       "  <tbody>\n",
       "    <tr>\n",
       "      <th>malm_PBMC_reference</th>\n",
       "      <td>malm_PBMC_reference</td>\n",
       "      <td>malm</td>\n",
       "      <td>reference</td>\n",
       "    </tr>\n",
       "    <tr>\n",
       "      <th>amir_PBMC_reference</th>\n",
       "      <td>amir_PBMC_reference</td>\n",
       "      <td>amir</td>\n",
       "      <td>reference</td>\n",
       "    </tr>\n",
       "    <tr>\n",
       "      <th>crinier_PBMC_reference</th>\n",
       "      <td>crinier_PBMC_reference</td>\n",
       "      <td>crinier</td>\n",
       "      <td>reference</td>\n",
       "    </tr>\n",
       "    <tr>\n",
       "      <th>yang_PBMC_reference</th>\n",
       "      <td>yang_PBMC_reference</td>\n",
       "      <td>yang</td>\n",
       "      <td>reference</td>\n",
       "    </tr>\n",
       "    <tr>\n",
       "      <th>leader_cite_lung_normal_reference</th>\n",
       "      <td>leader_cite_lung_normal_reference</td>\n",
       "      <td>leader_cite</td>\n",
       "      <td>reference</td>\n",
       "    </tr>\n",
       "    <tr>\n",
       "      <th>...</th>\n",
       "      <td>...</td>\n",
       "      <td>...</td>\n",
       "      <td>...</td>\n",
       "    </tr>\n",
       "    <tr>\n",
       "      <th>heidegger_prostate_tumor_query</th>\n",
       "      <td>heidegger_prostate_tumor_query</td>\n",
       "      <td>heidegger</td>\n",
       "      <td>query</td>\n",
       "    </tr>\n",
       "    <tr>\n",
       "      <th>tuong_prostate_tumor_query</th>\n",
       "      <td>tuong_prostate_tumor_query</td>\n",
       "      <td>tuong</td>\n",
       "      <td>query</td>\n",
       "    </tr>\n",
       "    <tr>\n",
       "      <th>chen_prostate_tumor_query</th>\n",
       "      <td>chen_prostate_tumor_query</td>\n",
       "      <td>chen</td>\n",
       "      <td>query</td>\n",
       "    </tr>\n",
       "    <tr>\n",
       "      <th>zhang_melanoma_tumor_query</th>\n",
       "      <td>zhang_melanoma_tumor_query</td>\n",
       "      <td>zhang</td>\n",
       "      <td>query</td>\n",
       "    </tr>\n",
       "    <tr>\n",
       "      <th>smalley_melanoma_tumor_query</th>\n",
       "      <td>smalley_melanoma_tumor_query</td>\n",
       "      <td>smalley</td>\n",
       "      <td>query</td>\n",
       "    </tr>\n",
       "  </tbody>\n",
       "</table>\n",
       "<p>61 rows × 3 columns</p>\n",
       "</div>"
      ],
      "text/plain": [
       "                                                              sample  \\\n",
       "sample                                                                 \n",
       "malm_PBMC_reference                              malm_PBMC_reference   \n",
       "amir_PBMC_reference                              amir_PBMC_reference   \n",
       "crinier_PBMC_reference                        crinier_PBMC_reference   \n",
       "yang_PBMC_reference                              yang_PBMC_reference   \n",
       "leader_cite_lung_normal_reference  leader_cite_lung_normal_reference   \n",
       "...                                                              ...   \n",
       "heidegger_prostate_tumor_query        heidegger_prostate_tumor_query   \n",
       "tuong_prostate_tumor_query                tuong_prostate_tumor_query   \n",
       "chen_prostate_tumor_query                  chen_prostate_tumor_query   \n",
       "zhang_melanoma_tumor_query                zhang_melanoma_tumor_query   \n",
       "smalley_melanoma_tumor_query            smalley_melanoma_tumor_query   \n",
       "\n",
       "                                       dataset  condition  \n",
       "sample                                                     \n",
       "malm_PBMC_reference                       malm  reference  \n",
       "amir_PBMC_reference                       amir  reference  \n",
       "crinier_PBMC_reference                 crinier  reference  \n",
       "yang_PBMC_reference                       yang  reference  \n",
       "leader_cite_lung_normal_reference  leader_cite  reference  \n",
       "...                                        ...        ...  \n",
       "heidegger_prostate_tumor_query       heidegger      query  \n",
       "tuong_prostate_tumor_query               tuong      query  \n",
       "chen_prostate_tumor_query                 chen      query  \n",
       "zhang_melanoma_tumor_query               zhang      query  \n",
       "smalley_melanoma_tumor_query           smalley      query  \n",
       "\n",
       "[61 rows x 3 columns]"
      ]
     },
     "execution_count": 182,
     "metadata": {},
     "output_type": "execute_result"
    }
   ],
   "source": [
    "design_df = adata.obs[[\"sample\",\"dataset\",\"condition\"]]\n",
    "design_df.drop_duplicates(inplace=True)\n",
    "design_df.index = design_df['sample']\n",
    "design_df"
   ]
  },
  {
   "cell_type": "code",
   "execution_count": null,
   "id": "b8463310-e828-49a4-b1c1-25f12dec6d03",
   "metadata": {},
   "outputs": [],
   "source": []
  },
  {
   "cell_type": "code",
   "execution_count": null,
   "id": "e16552e7-f8a3-4d65-b145-7f2344d6b8af",
   "metadata": {},
   "outputs": [],
   "source": [
    "%%R -i design_df -o DA_results\n",
    "## Define neighbourhoods\n",
    "milo <- makeNhoods(milo, prop = 0.1, k = 200, d=30, refined = TRUE)\n",
    "\n",
    "## Count cells in neighbourhoods\n",
    "milo <- countCells(milo, meta.data = data.frame(colData(milo)), sample=\"sample\")\n",
    "\n",
    "## Calculate distances between cells in neighbourhoods\n",
    "## for spatial FDR correction\n",
    "milo <- calcNhoodDistance(milo, d=30)\n",
    "\n",
    "DA_results <- testNhoods(milo, design = ~ condition, design.df = design_df)"
   ]
  },
  {
   "cell_type": "code",
   "execution_count": null,
   "id": "a61c265a-0b60-4de1-8416-f4849159fd1d",
   "metadata": {},
   "outputs": [],
   "source": [
    "%%R\n",
    "plotNhoodSizeHist(milo)"
   ]
  },
  {
   "cell_type": "code",
   "execution_count": 54,
   "id": "81b2469a-af3a-4dcb-a7e8-350999429da4",
   "metadata": {},
   "outputs": [],
   "source": [
    "%%R\n",
    "library(dplyr)\n",
    "library(patchwork)\n",
    "library(ggplot2)"
   ]
  },
  {
   "cell_type": "code",
   "execution_count": 111,
   "id": "e70e22eb-7cad-41ed-abf1-eb3d66a5fce9",
   "metadata": {},
   "outputs": [
    {
     "data": {
      "image/png": "[encoded data removed]",
      "text/plain": [
       "<IPython.core.display.Image object>"
      ]
     },
     "metadata": {},
     "output_type": "display_data"
    }
   ],
   "source": [
    "%%R\n",
    "ggplot(DA_results, aes(PValue)) + geom_histogram(bins=50)"
   ]
  },
  {
   "cell_type": "code",
   "execution_count": 120,
   "id": "a4b62a56-41fd-4213-aa43-5abdca34bd95",
   "metadata": {},
   "outputs": [
    {
     "name": "stdout",
     "output_type": "stream",
     "text": [
      "Saving 6.67 x 6.67 in image\n"
     ]
    }
   ],
   "source": [
    "%%R\n",
    "ggplot(DA_results, aes(logFC, -log10(SpatialFDR))) + \n",
    "  geom_point() +\n",
    "  geom_hline(yintercept = -log10(0.05)) ## Mark significance threshold (10% FDR)\n",
    "ggsave('fc_p_val_da_res.pdf')"
   ]
  },
  {
   "cell_type": "code",
   "execution_count": 116,
   "id": "05e457c4-8424-4933-884c-2e3c2bcd0209",
   "metadata": {},
   "outputs": [
    {
     "data": {
      "text/html": [
       "<div>\n",
       "<style scoped>\n",
       "    .dataframe tbody tr th:only-of-type {\n",
       "        vertical-align: middle;\n",
       "    }\n",
       "\n",
       "    .dataframe tbody tr th {\n",
       "        vertical-align: top;\n",
       "    }\n",
       "\n",
       "    .dataframe thead th {\n",
       "        text-align: right;\n",
       "    }\n",
       "</style>\n",
       "<table border=\"1\" class=\"dataframe\">\n",
       "  <thead>\n",
       "    <tr style=\"text-align: right;\">\n",
       "      <th></th>\n",
       "      <th>logFC</th>\n",
       "      <th>logCPM</th>\n",
       "      <th>F</th>\n",
       "      <th>PValue</th>\n",
       "      <th>FDR</th>\n",
       "      <th>Nhood</th>\n",
       "      <th>SpatialFDR</th>\n",
       "    </tr>\n",
       "  </thead>\n",
       "  <tbody>\n",
       "    <tr>\n",
       "      <th>1</th>\n",
       "      <td>-5.379887</td>\n",
       "      <td>9.458160</td>\n",
       "      <td>47.702305</td>\n",
       "      <td>3.347809e-11</td>\n",
       "      <td>1.192819e-08</td>\n",
       "      <td>1.0</td>\n",
       "      <td>1.227004e-08</td>\n",
       "    </tr>\n",
       "    <tr>\n",
       "      <th>2</th>\n",
       "      <td>0.763624</td>\n",
       "      <td>8.479534</td>\n",
       "      <td>2.264039</td>\n",
       "      <td>1.333376e-01</td>\n",
       "      <td>2.038376e-01</td>\n",
       "      <td>2.0</td>\n",
       "      <td>2.047129e-01</td>\n",
       "    </tr>\n",
       "    <tr>\n",
       "      <th>3</th>\n",
       "      <td>-2.580490</td>\n",
       "      <td>8.304910</td>\n",
       "      <td>18.043950</td>\n",
       "      <td>2.822419e-05</td>\n",
       "      <td>2.017564e-04</td>\n",
       "      <td>3.0</td>\n",
       "      <td>2.077594e-04</td>\n",
       "    </tr>\n",
       "    <tr>\n",
       "      <th>4</th>\n",
       "      <td>1.890607</td>\n",
       "      <td>8.443885</td>\n",
       "      <td>13.410346</td>\n",
       "      <td>2.901233e-04</td>\n",
       "      <td>1.295300e-03</td>\n",
       "      <td>4.0</td>\n",
       "      <td>1.326284e-03</td>\n",
       "    </tr>\n",
       "    <tr>\n",
       "      <th>5</th>\n",
       "      <td>-2.675304</td>\n",
       "      <td>9.018581</td>\n",
       "      <td>17.503733</td>\n",
       "      <td>3.883681e-05</td>\n",
       "      <td>2.578762e-04</td>\n",
       "      <td>5.0</td>\n",
       "      <td>2.653914e-04</td>\n",
       "    </tr>\n",
       "    <tr>\n",
       "      <th>...</th>\n",
       "      <td>...</td>\n",
       "      <td>...</td>\n",
       "      <td>...</td>\n",
       "      <td>...</td>\n",
       "      <td>...</td>\n",
       "      <td>...</td>\n",
       "      <td>...</td>\n",
       "    </tr>\n",
       "    <tr>\n",
       "      <th>6501</th>\n",
       "      <td>1.536477</td>\n",
       "      <td>7.943395</td>\n",
       "      <td>9.894289</td>\n",
       "      <td>1.804372e-03</td>\n",
       "      <td>5.697788e-03</td>\n",
       "      <td>6501.0</td>\n",
       "      <td>5.800828e-03</td>\n",
       "    </tr>\n",
       "    <tr>\n",
       "      <th>6502</th>\n",
       "      <td>-0.274981</td>\n",
       "      <td>7.889240</td>\n",
       "      <td>0.297703</td>\n",
       "      <td>5.857209e-01</td>\n",
       "      <td>6.706767e-01</td>\n",
       "      <td>6502.0</td>\n",
       "      <td>6.714366e-01</td>\n",
       "    </tr>\n",
       "    <tr>\n",
       "      <th>6503</th>\n",
       "      <td>2.065931</td>\n",
       "      <td>7.638615</td>\n",
       "      <td>17.970023</td>\n",
       "      <td>2.895593e-05</td>\n",
       "      <td>2.056313e-04</td>\n",
       "      <td>6503.0</td>\n",
       "      <td>2.117850e-04</td>\n",
       "    </tr>\n",
       "    <tr>\n",
       "      <th>6504</th>\n",
       "      <td>1.702752</td>\n",
       "      <td>7.358280</td>\n",
       "      <td>12.362169</td>\n",
       "      <td>4.975788e-04</td>\n",
       "      <td>1.998772e-03</td>\n",
       "      <td>6504.0</td>\n",
       "      <td>2.044099e-03</td>\n",
       "    </tr>\n",
       "    <tr>\n",
       "      <th>6505</th>\n",
       "      <td>-0.034655</td>\n",
       "      <td>8.666856</td>\n",
       "      <td>0.004257</td>\n",
       "      <td>9.480191e-01</td>\n",
       "      <td>9.628204e-01</td>\n",
       "      <td>6505.0</td>\n",
       "      <td>9.630951e-01</td>\n",
       "    </tr>\n",
       "  </tbody>\n",
       "</table>\n",
       "<p>6505 rows × 7 columns</p>\n",
       "</div>"
      ],
      "text/plain": [
       "         logFC    logCPM          F        PValue           FDR   Nhood  \\\n",
       "1    -5.379887  9.458160  47.702305  3.347809e-11  1.192819e-08     1.0   \n",
       "2     0.763624  8.479534   2.264039  1.333376e-01  2.038376e-01     2.0   \n",
       "3    -2.580490  8.304910  18.043950  2.822419e-05  2.017564e-04     3.0   \n",
       "4     1.890607  8.443885  13.410346  2.901233e-04  1.295300e-03     4.0   \n",
       "5    -2.675304  9.018581  17.503733  3.883681e-05  2.578762e-04     5.0   \n",
       "...        ...       ...        ...           ...           ...     ...   \n",
       "6501  1.536477  7.943395   9.894289  1.804372e-03  5.697788e-03  6501.0   \n",
       "6502 -0.274981  7.889240   0.297703  5.857209e-01  6.706767e-01  6502.0   \n",
       "6503  2.065931  7.638615  17.970023  2.895593e-05  2.056313e-04  6503.0   \n",
       "6504  1.702752  7.358280  12.362169  4.975788e-04  1.998772e-03  6504.0   \n",
       "6505 -0.034655  8.666856   0.004257  9.480191e-01  9.628204e-01  6505.0   \n",
       "\n",
       "        SpatialFDR  \n",
       "1     1.227004e-08  \n",
       "2     2.047129e-01  \n",
       "3     2.077594e-04  \n",
       "4     1.326284e-03  \n",
       "5     2.653914e-04  \n",
       "...            ...  \n",
       "6501  5.800828e-03  \n",
       "6502  6.714366e-01  \n",
       "6503  2.117850e-04  \n",
       "6504  2.044099e-03  \n",
       "6505  9.630951e-01  \n",
       "\n",
       "[6505 rows x 7 columns]"
      ]
     },
     "execution_count": 116,
     "metadata": {},
     "output_type": "execute_result"
    }
   ],
   "source": [
    "DA_results"
   ]
  },
  {
   "cell_type": "code",
   "execution_count": 119,
   "id": "8cc70e24-312c-41bc-bc7d-7c31f9ae60c5",
   "metadata": {},
   "outputs": [
    {
     "data": {
      "text/plain": [
       "3249"
      ]
     },
     "execution_count": 119,
     "metadata": {},
     "output_type": "execute_result"
    }
   ],
   "source": [
    "np.sum(DA_results['SpatialFDR'] < 0.05)"
   ]
  },
  {
   "cell_type": "code",
   "execution_count": null,
   "id": "78ddfdd4-d8c1-48a1-8e87-dfd4800f90fb",
   "metadata": {},
   "outputs": [],
   "source": [
    "%%R\n",
    "milo <- buildNhoodGraph(milo)\n"
   ]
  },
  {
   "cell_type": "code",
   "execution_count": 110,
   "id": "47b8bba5-8c69-433f-ad6c-42b64c75f907",
   "metadata": {},
   "outputs": [
    {
     "name": "stdout",
     "output_type": "stream",
     "text": [
      "Saving 13.9 x 11.1 in image\n"
     ]
    }
   ],
   "source": [
    "%%R -w 1000 -h 800\n",
    "plotNhoodGraphDA(milo, DA_results, alpha=0.05)\n",
    "ggsave('milo_nhood_graph.png')"
   ]
  },
  {
   "cell_type": "code",
   "execution_count": 121,
   "id": "93c1d8e1-c52d-43bb-b0d8-2a32e54e9cbc",
   "metadata": {},
   "outputs": [
    {
     "name": "stdout",
     "output_type": "stream",
     "text": [
      "Saving 13.9 x 11.1 in image\n"
     ]
    }
   ],
   "source": [
    "%%R -w 1000 -h 800\n",
    "plotNhoodGraphDA(milo, DA_results, alpha=0.05)\n",
    "ggsave('milo_nhood_graph.pdf')"
   ]
  },
  {
   "cell_type": "code",
   "execution_count": null,
   "id": "fe67b452-2fbd-4b74-9ffd-e64c98cfb6bc",
   "metadata": {},
   "outputs": [],
   "source": [
    "%%R\n",
    "saveRDS(milo, file = \"/tumor-data/milo.rds\")"
   ]
  },
  {
   "cell_type": "code",
   "execution_count": 33,
   "id": "851701b1-3118-43c5-bae0-8c13d304f08f",
   "metadata": {},
   "outputs": [],
   "source": [
    "%%R\n",
    "library(SingleCellExperiment)\n",
    "library(scater)\n",
    "#library(scran)"
   ]
  },
  {
   "cell_type": "code",
   "execution_count": null,
   "id": "743fdc81-0273-49a6-b21b-0ebcbae7f325",
   "metadata": {},
   "outputs": [],
   "source": [
    "%%R\n",
    "## Plot single-cell UMAP\n",
    "umap_pl <- plotReducedDim(milo, dimred = \"UMAP\", colour_by=\"condition\", text_by = \"condition\", \n",
    "                          text_size = 3, point_size=0.5) +\n",
    "  guides(fill=\"none\")\n",
    "\n",
    "## Plot neighbourhood graph\n",
    "nh_graph_pl <- plotNhoodGraphDA(milo, DA_results, layout=\"UMAP\",alpha=0.05) \n",
    "  \n",
    "umap_pl + nh_graph_pl +\n",
    "  plot_layout(guides=\"collect\")\n",
    "    \n",
    "ggsave('umap_and_nhood_graph.pdf')"
   ]
  },
  {
   "cell_type": "code",
   "execution_count": 54,
   "id": "ec5f389e-ec35-4746-b302-edf2b2b9ab12",
   "metadata": {},
   "outputs": [
    {
     "data": {
      "text/plain": [
       "AnnData object with n_obs × n_vars = 89216 × 11866\n",
       "    obs: 'total_counts', 'n_genes_by_counts', 'pct_counts_mt', 'sample', 'batch', 'subset', 'dataset', 'source', 'tumor_type', 'label', '_scvi_batch', '_scvi_labels', 'subset_source', 'subset_only', 'source_only', 'low_res_subset', 'low_res_subset_source', 'lower_res_subset', 'Tissue residency_auc', 'reference', 'reference_subset', 'replicate', 'cell_type', 'n_genes', 'condition'\n",
       "    var: 'n_cells'\n",
       "    uns: '_scvi_manager_uuid', '_scvi_uuid', 'low_res_subset_colors', 'neighbors', 'paga', 'source_colors', 'subset_colors', 'subset_only_colors', 'subset_only_sizes', 'subset_source_colors', 'umap'\n",
       "    obsm: 'X_scVI', 'X_umap', 'X_pca'\n",
       "    layers: 'counts'\n",
       "    obsp: 'connectivities', 'distances'"
      ]
     },
     "execution_count": 54,
     "metadata": {},
     "output_type": "execute_result"
    }
   ],
   "source": [
    "adata"
   ]
  },
  {
   "cell_type": "code",
   "execution_count": 63,
   "id": "ae6e7d69-9949-4957-ae2b-57c874f5e1c0",
   "metadata": {},
   "outputs": [],
   "source": [
    "DA_results.to_csv('DA_results.csv')"
   ]
  },
  {
   "cell_type": "code",
   "execution_count": 64,
   "id": "a9285b29-6d56-4f1c-ab32-5807ddf1afac",
   "metadata": {},
   "outputs": [
    {
     "data": {
      "text/html": [
       "<div>\n",
       "<style scoped>\n",
       "    .dataframe tbody tr th:only-of-type {\n",
       "        vertical-align: middle;\n",
       "    }\n",
       "\n",
       "    .dataframe tbody tr th {\n",
       "        vertical-align: top;\n",
       "    }\n",
       "\n",
       "    .dataframe thead th {\n",
       "        text-align: right;\n",
       "    }\n",
       "</style>\n",
       "<table border=\"1\" class=\"dataframe\">\n",
       "  <thead>\n",
       "    <tr style=\"text-align: right;\">\n",
       "      <th></th>\n",
       "      <th>logFC</th>\n",
       "      <th>logCPM</th>\n",
       "      <th>F</th>\n",
       "      <th>PValue</th>\n",
       "      <th>FDR</th>\n",
       "      <th>Nhood</th>\n",
       "      <th>SpatialFDR</th>\n",
       "    </tr>\n",
       "  </thead>\n",
       "  <tbody>\n",
       "    <tr>\n",
       "      <th>1</th>\n",
       "      <td>-5.379887</td>\n",
       "      <td>9.458160</td>\n",
       "      <td>47.702305</td>\n",
       "      <td>3.347809e-11</td>\n",
       "      <td>1.192819e-08</td>\n",
       "      <td>1.0</td>\n",
       "      <td>1.227004e-08</td>\n",
       "    </tr>\n",
       "    <tr>\n",
       "      <th>2</th>\n",
       "      <td>0.763624</td>\n",
       "      <td>8.479534</td>\n",
       "      <td>2.264039</td>\n",
       "      <td>1.333376e-01</td>\n",
       "      <td>2.038376e-01</td>\n",
       "      <td>2.0</td>\n",
       "      <td>2.047129e-01</td>\n",
       "    </tr>\n",
       "    <tr>\n",
       "      <th>3</th>\n",
       "      <td>-2.580490</td>\n",
       "      <td>8.304910</td>\n",
       "      <td>18.043950</td>\n",
       "      <td>2.822419e-05</td>\n",
       "      <td>2.017564e-04</td>\n",
       "      <td>3.0</td>\n",
       "      <td>2.077594e-04</td>\n",
       "    </tr>\n",
       "    <tr>\n",
       "      <th>4</th>\n",
       "      <td>1.890607</td>\n",
       "      <td>8.443885</td>\n",
       "      <td>13.410346</td>\n",
       "      <td>2.901233e-04</td>\n",
       "      <td>1.295300e-03</td>\n",
       "      <td>4.0</td>\n",
       "      <td>1.326284e-03</td>\n",
       "    </tr>\n",
       "    <tr>\n",
       "      <th>5</th>\n",
       "      <td>-2.675304</td>\n",
       "      <td>9.018581</td>\n",
       "      <td>17.503733</td>\n",
       "      <td>3.883681e-05</td>\n",
       "      <td>2.578762e-04</td>\n",
       "      <td>5.0</td>\n",
       "      <td>2.653914e-04</td>\n",
       "    </tr>\n",
       "    <tr>\n",
       "      <th>...</th>\n",
       "      <td>...</td>\n",
       "      <td>...</td>\n",
       "      <td>...</td>\n",
       "      <td>...</td>\n",
       "      <td>...</td>\n",
       "      <td>...</td>\n",
       "      <td>...</td>\n",
       "    </tr>\n",
       "    <tr>\n",
       "      <th>6501</th>\n",
       "      <td>1.536477</td>\n",
       "      <td>7.943395</td>\n",
       "      <td>9.894289</td>\n",
       "      <td>1.804372e-03</td>\n",
       "      <td>5.697788e-03</td>\n",
       "      <td>6501.0</td>\n",
       "      <td>5.800828e-03</td>\n",
       "    </tr>\n",
       "    <tr>\n",
       "      <th>6502</th>\n",
       "      <td>-0.274981</td>\n",
       "      <td>7.889240</td>\n",
       "      <td>0.297703</td>\n",
       "      <td>5.857209e-01</td>\n",
       "      <td>6.706767e-01</td>\n",
       "      <td>6502.0</td>\n",
       "      <td>6.714366e-01</td>\n",
       "    </tr>\n",
       "    <tr>\n",
       "      <th>6503</th>\n",
       "      <td>2.065931</td>\n",
       "      <td>7.638615</td>\n",
       "      <td>17.970023</td>\n",
       "      <td>2.895593e-05</td>\n",
       "      <td>2.056313e-04</td>\n",
       "      <td>6503.0</td>\n",
       "      <td>2.117850e-04</td>\n",
       "    </tr>\n",
       "    <tr>\n",
       "      <th>6504</th>\n",
       "      <td>1.702752</td>\n",
       "      <td>7.358280</td>\n",
       "      <td>12.362169</td>\n",
       "      <td>4.975788e-04</td>\n",
       "      <td>1.998772e-03</td>\n",
       "      <td>6504.0</td>\n",
       "      <td>2.044099e-03</td>\n",
       "    </tr>\n",
       "    <tr>\n",
       "      <th>6505</th>\n",
       "      <td>-0.034655</td>\n",
       "      <td>8.666856</td>\n",
       "      <td>0.004257</td>\n",
       "      <td>9.480191e-01</td>\n",
       "      <td>9.628204e-01</td>\n",
       "      <td>6505.0</td>\n",
       "      <td>9.630951e-01</td>\n",
       "    </tr>\n",
       "  </tbody>\n",
       "</table>\n",
       "<p>6505 rows × 7 columns</p>\n",
       "</div>"
      ],
      "text/plain": [
       "         logFC    logCPM          F        PValue           FDR   Nhood  \\\n",
       "1    -5.379887  9.458160  47.702305  3.347809e-11  1.192819e-08     1.0   \n",
       "2     0.763624  8.479534   2.264039  1.333376e-01  2.038376e-01     2.0   \n",
       "3    -2.580490  8.304910  18.043950  2.822419e-05  2.017564e-04     3.0   \n",
       "4     1.890607  8.443885  13.410346  2.901233e-04  1.295300e-03     4.0   \n",
       "5    -2.675304  9.018581  17.503733  3.883681e-05  2.578762e-04     5.0   \n",
       "...        ...       ...        ...           ...           ...     ...   \n",
       "6501  1.536477  7.943395   9.894289  1.804372e-03  5.697788e-03  6501.0   \n",
       "6502 -0.274981  7.889240   0.297703  5.857209e-01  6.706767e-01  6502.0   \n",
       "6503  2.065931  7.638615  17.970023  2.895593e-05  2.056313e-04  6503.0   \n",
       "6504  1.702752  7.358280  12.362169  4.975788e-04  1.998772e-03  6504.0   \n",
       "6505 -0.034655  8.666856   0.004257  9.480191e-01  9.628204e-01  6505.0   \n",
       "\n",
       "        SpatialFDR  \n",
       "1     1.227004e-08  \n",
       "2     2.047129e-01  \n",
       "3     2.077594e-04  \n",
       "4     1.326284e-03  \n",
       "5     2.653914e-04  \n",
       "...            ...  \n",
       "6501  5.800828e-03  \n",
       "6502  6.714366e-01  \n",
       "6503  2.117850e-04  \n",
       "6504  2.044099e-03  \n",
       "6505  9.630951e-01  \n",
       "\n",
       "[6505 rows x 7 columns]"
      ]
     },
     "execution_count": 64,
     "metadata": {},
     "output_type": "execute_result"
    }
   ],
   "source": [
    "DA_results"
   ]
  },
  {
   "cell_type": "code",
   "execution_count": 61,
   "id": "b47a09df-cf52-4da9-bfeb-b600df9fa217",
   "metadata": {},
   "outputs": [],
   "source": [
    "%%R\n",
    "library(miloR)"
   ]
  },
  {
   "cell_type": "code",
   "execution_count": 126,
   "id": "97022748-d8cb-4f9f-8f18-a34b0e15fc5f",
   "metadata": {},
   "outputs": [
    {
     "name": "stdout",
     "output_type": "stream",
     "text": [
      "       logFC   logCPM          F       PValue          FDR Nhood   SpatialFDR\n",
      "1 -5.3798866 9.458160 47.7023050 3.347809e-11 1.192819e-08     1 1.227004e-08\n",
      "2  0.7636238 8.479534  2.2640390 1.333376e-01 2.038376e-01     2 2.047129e-01\n",
      "3 -2.5804897 8.304910 18.0439495 2.822419e-05 2.017564e-04     3 2.077594e-04\n",
      "4  1.8906074 8.443885 13.4103457 2.901233e-04 1.295300e-03     4 1.326284e-03\n",
      "5 -2.6753041 9.018581 17.5037331 3.883681e-05 2.578762e-04     5 2.653914e-04\n",
      "6  0.2292672 7.751153  0.2369278 6.267478e-01 7.088678e-01     6 7.094993e-01\n",
      "    low_res_subset low_res_subset_fraction         celltype NhoodGroup\n",
      "1 tumor CD56bright               0.7789374 tumor CD56bright          1\n",
      "2   tissue CD56dim               0.4231379            Mixed          2\n",
      "3 tumor CD56bright               0.8047619 tumor CD56bright          3\n",
      "4          CD56dim               0.5515289            Mixed          4\n",
      "5 tumor CD56bright               0.8357964 tumor CD56bright          3\n",
      "6   tissue CD56dim               0.3935484            Mixed          5\n",
      "  condition condition_fraction NhoodGroupTemp      subset_only\n",
      "1     query          0.9867173              1 tumor CD56bright\n",
      "2 reference          0.6291601              2   tissue CD56dim\n",
      "3     query          0.8738095              3 tumor CD56bright\n",
      "4 reference          0.8221971              4   tissue CD56dim\n",
      "5     query          0.8587849              3 tumor CD56bright\n",
      "6 reference          0.6354839              5   tissue CD56dim\n",
      "  subset_only_fraction   subset_new subset_new_fraction\n",
      "1            0.7789374   CD56bright           0.7874763\n",
      "2            0.4231379 Int. CD56dim           0.5578447\n",
      "3            0.8047619   CD56bright           0.8619048\n",
      "4            0.2661382 Late CD56dim           0.4088335\n",
      "5            0.8357964   CD56bright           0.8949097\n",
      "6            0.3935484 Int. CD56dim           0.6064516\n"
     ]
    }
   ],
   "source": [
    "%%R\n",
    "DA_results <- annotateNhoods(milo, DA_results, coldata_col = \"subset_new\")\n",
    "head(DA_results)"
   ]
  },
  {
   "cell_type": "code",
   "execution_count": 151,
   "id": "d5d4e079-5108-4980-ab72-4627da04c534",
   "metadata": {},
   "outputs": [],
   "source": [
    "%%R\n",
    "DA_results$condition <- ifelse(DA_results$condition_fraction < 0.7, \"Mixed\", DA_results$condition)"
   ]
  },
  {
   "cell_type": "code",
   "execution_count": 49,
   "id": "4b104d76-232e-47ff-97ec-225758332bad",
   "metadata": {},
   "outputs": [],
   "source": [
    "%%R\n",
    "DA_results$low_res_subset_celltype <- ifelse(DA_results$low_res_subset_fraction < 0.7, \"Mixed\", DA_results$low_res_subset)"
   ]
  },
  {
   "cell_type": "code",
   "execution_count": 372,
   "id": "3f314e69-ac1b-4006-a848-237b5846884f",
   "metadata": {},
   "outputs": [],
   "source": [
    "#%%R -i design_df\n",
    "#plotNhoodCounts(x=milo,\n",
    "#                subset.nhoods = c(1,2),\n",
    "#                design.df=design_df,\n",
    "#                condition='condition')"
   ]
  },
  {
   "cell_type": "code",
   "execution_count": null,
   "id": "b76ceeee-1657-4769-ac48-4696afab4227",
   "metadata": {},
   "outputs": [],
   "source": []
  },
  {
   "cell_type": "markdown",
   "id": "c55315ec-5b6d-4a87-ae32-2e01ac225ef2",
   "metadata": {},
   "source": [
    "#### Group neighborhoods"
   ]
  },
  {
   "cell_type": "code",
   "execution_count": 88,
   "id": "e4a6fa04-aa19-4292-8221-f03f90311343",
   "metadata": {},
   "outputs": [],
   "source": [
    "%%R\n",
    "library(scran)"
   ]
  },
  {
   "cell_type": "code",
   "execution_count": 89,
   "id": "52afc759-2717-4552-81a0-d54b8e1ec42a",
   "metadata": {},
   "outputs": [],
   "source": [
    "%%R\n",
    "milo <- logNormCounts(milo)"
   ]
  },
  {
   "cell_type": "code",
   "execution_count": 93,
   "id": "d14e93a8-009a-4c6e-bca2-d0343cb6ab71",
   "metadata": {},
   "outputs": [],
   "source": [
    "%%R\n",
    "## Exclude zero counts genes\n",
    "keep.rows <- rowSums(logcounts(milo)) != 0\n",
    "milo <- milo[keep.rows, ]\n",
    "\n",
    "## Find HVGs\n",
    "#dec <- modelGeneVar(embryo_milo)\n",
    "#hvgs <- getTopHVGs(dec, n=2000)\n",
    "#head(hvgs)"
   ]
  },
  {
   "cell_type": "code",
   "execution_count": 96,
   "id": "a19bb35a-05f3-4ff6-b9fc-9974b4bb1edf",
   "metadata": {},
   "outputs": [],
   "source": [
    "%%R\n",
    "nhood_markers <- findNhoodGroupMarkers(milo, DA_results, #subset.row = hvgs, \n",
    "                                       aggregate.samples = TRUE, sample_col = \"sample\")"
   ]
  },
  {
   "cell_type": "code",
   "execution_count": 127,
   "id": "988f0c89-3ca5-4569-a5c5-96aaa5db8c1e",
   "metadata": {},
   "outputs": [
    {
     "name": "stdout",
     "output_type": "stream",
     "text": [
      "         GeneID      logFC    adj.P.Val\n",
      "11134      XCL1  1.0408104 1.177340e-20\n",
      "3589       FOSB  1.1303748 3.414912e-19\n",
      "11135      XCL2  1.0205021 1.002647e-16\n",
      "5213  LINC00996  0.2980148 1.463952e-14\n",
      "1003       BCO2  0.1117892 1.243241e-13\n",
      "1536       CD44  0.7387034 1.243241e-13\n",
      "6532      NR4A1  0.4967752 2.068213e-11\n",
      "4131       GZMK  0.7304825 4.974316e-11\n",
      "3588        FOS  1.3051371 3.774086e-10\n",
      "7524   PPP1R15A  0.6589802 3.774086e-10\n",
      "8507     S100A4 -0.9773912 1.333393e-09\n",
      "4007     GPR183  0.3925189 1.339666e-09\n",
      "3458     FCGR3A -0.7934851 1.021779e-08\n",
      "2096      COTL1  0.4213856 1.926341e-08\n",
      "3897       GNAQ  0.1122303 2.024361e-08\n",
      "3503     FGFBP2 -0.8728091 2.441262e-08\n",
      "2799      DUSP4  0.3550386 2.967704e-08\n",
      "3737      GATA3  0.2870597 3.196318e-08\n",
      "2229       CST7 -0.8243777 3.629073e-08\n",
      "10122   TMEM14C  0.1789982 3.885433e-08\n"
     ]
    }
   ],
   "source": [
    "%%R\n",
    "tumor_bright_markers <- nhood_markers[c('GeneID', \"logFC_tumor CD56bright\", \"adj.P.Val_tumor CD56bright\")] \n",
    "colnames(tumor_bright_markers) <- c('GeneID', \"logFC\", \"adj.P.Val\")\n",
    "\n",
    "head(tumor_bright_markers[order(tumor_bright_markers$adj.P.Val), ], n=20)"
   ]
  },
  {
   "cell_type": "code",
   "execution_count": 102,
   "id": "07085f75-abb4-4f64-b360-00d381a4321f",
   "metadata": {},
   "outputs": [
    {
     "name": "stdout",
     "output_type": "stream",
     "text": [
      "       GeneID        logFC  adj.P.Val\n",
      "381   ALOX5AP  0.324891730 0.05998581\n",
      "1475     CCR5  0.036694346 0.05998581\n",
      "2132    CPNE7  0.057044530 0.05998581\n",
      "2261     CTSA  0.117025649 0.05998581\n",
      "3503   FGFBP2 -0.475558528 0.05998581\n",
      "1550      CD7  0.410178382 0.12590221\n",
      "1873     CKLF  0.201729551 0.12590221\n",
      "2313    CXCR6  0.082672481 0.12590221\n",
      "2834     E2F5  0.007720887 0.12590221\n",
      "6668    NXPH4  0.012539189 0.12590221\n",
      "7541   PPP1R7  0.120048787 0.12590221\n",
      "7700   PRSS23 -0.126844891 0.12590221\n",
      "8125     RBPJ  0.150365561 0.12590221\n",
      "10734   UBE2I  0.151682112 0.12590221\n",
      "4420    HUS1B  0.006538938 0.15605328\n",
      "9809     TBCD  0.061776952 0.15605328\n",
      "11273 ZCCHC10  0.092689407 0.15605328\n",
      "2926   EIF1AD  0.058363151 0.15761431\n",
      "4665   IQSEC3  0.005054514 0.15761431\n",
      "3559   FLVCR2  0.011097846 0.20140191\n"
     ]
    }
   ],
   "source": [
    "%%R\n",
    "pb_dim_markers <- nhood_markers[c('GeneID', \"logFC_CD56dim\", \"adj.P.Val_CD56dim\")] \n",
    "colnames(pb_dim_markers) <- c('GeneID', \"logFC\", \"adj.P.Val\")\n",
    "\n",
    "head(pb_dim_markers[order(pb_dim_markers$adj.P.Val), ], n=20)"
   ]
  },
  {
   "cell_type": "code",
   "execution_count": 128,
   "id": "e8b1fde3-890c-4664-bc70-b6d1f624467b",
   "metadata": {},
   "outputs": [
    {
     "name": "stdout",
     "output_type": "stream",
     "text": [
      "Saving 6.67 x 6.67 in image\n"
     ]
    }
   ],
   "source": [
    "%%R\n",
    "ggplot(tumor_bright_markers, aes(logFC,-log10(adj.P.Val))) + \n",
    "  geom_point(alpha=0.5, size=0.5) +\n",
    "  geom_hline(yintercept = -log10(0.05))\n",
    "ggsave('markers_cd56bright_tumor_neighborhoods.pdf')"
   ]
  },
  {
   "cell_type": "code",
   "execution_count": 106,
   "id": "a5c523d5-172d-4461-8b85-782d551660e7",
   "metadata": {},
   "outputs": [
    {
     "data": {
      "text/plain": [
       "1.0"
      ]
     },
     "execution_count": 106,
     "metadata": {},
     "output_type": "execute_result"
    }
   ],
   "source": [
    "-np.log10(0.1)"
   ]
  },
  {
   "cell_type": "code",
   "execution_count": null,
   "id": "755b28f9-5582-4fbe-851b-4956d603634a",
   "metadata": {},
   "outputs": [],
   "source": []
  },
  {
   "cell_type": "code",
   "execution_count": 160,
   "id": "f00f7519-a91e-498f-b401-fa1a0b02aacb",
   "metadata": {},
   "outputs": [
    {
     "name": "stdout",
     "output_type": "stream",
     "text": [
      "       logFC   logCPM          F       PValue          FDR Nhood   SpatialFDR\n",
      "1 -5.3798866 9.458160 47.7023050 3.347809e-11 1.192819e-08     1 1.227004e-08\n",
      "2  0.7636238 8.479534  2.2640390 1.333376e-01 2.038376e-01     2 2.047129e-01\n",
      "3 -2.5804897 8.304910 18.0439495 2.822419e-05 2.017564e-04     3 2.077594e-04\n",
      "4  1.8906074 8.443885 13.4103457 2.901233e-04 1.295300e-03     4 1.326284e-03\n",
      "5 -2.6753041 9.018581 17.5037331 3.883681e-05 2.578762e-04     5 2.653914e-04\n",
      "6  0.2292672 7.751153  0.2369278 6.267478e-01 7.088678e-01     6 7.094993e-01\n",
      "    low_res_subset low_res_subset_fraction         celltype NhoodGroup\n",
      "1 tumor CD56bright               0.7789374 tumor CD56bright          1\n",
      "2   tissue CD56dim               0.4231379            Mixed          2\n",
      "3 tumor CD56bright               0.8047619 tumor CD56bright          3\n",
      "4          CD56dim               0.5515289            Mixed          4\n",
      "5 tumor CD56bright               0.8357964 tumor CD56bright          3\n",
      "6   tissue CD56dim               0.3935484            Mixed          5\n",
      "  condition condition_fraction NhoodGroupTemp\n",
      "1     query          0.9867173              1\n",
      "2     Mixed          0.6291601              2\n",
      "3     query          0.8738095              3\n",
      "4 reference          0.8221971              4\n",
      "5     query          0.8587849              3\n",
      "6     Mixed          0.6354839              5\n"
     ]
    }
   ],
   "source": [
    "%%R\n",
    "DA_results <- groupNhoods(milo, DA_results, max.lfc.delta = 1, overlap=45)\n",
    "head(DA_results)"
   ]
  },
  {
   "cell_type": "code",
   "execution_count": 46,
   "id": "2105f71b-0108-4b11-ac09-b896376c86c1",
   "metadata": {},
   "outputs": [],
   "source": [
    "%%R\n",
    "DA_results$NhoodGroupTemp <- DA_results$NhoodGroup\n",
    "#DA_results$NhoodGroup <- DA_results$condition\n",
    "#head(DA_results)"
   ]
  },
  {
   "cell_type": "code",
   "execution_count": 47,
   "id": "d455da3a-60eb-4e75-b010-1977c82098b6",
   "metadata": {},
   "outputs": [],
   "source": [
    "%%R\n",
    "DA_results$NhoodGroup <- DA_results$source\n",
    "#DA_results$NhoodGroup <- DA_results$condition\n",
    "#head(DA_results)"
   ]
  },
  {
   "cell_type": "code",
   "execution_count": null,
   "id": "f3a82778-1a0f-43ff-8182-c9eb67ae0de8",
   "metadata": {},
   "outputs": [],
   "source": [
    "%%R\n",
    "plotNhoodGroups(milo, DA_results, layout=\"UMAP\")"
   ]
  },
  {
   "cell_type": "code",
   "execution_count": 176,
   "id": "1205b4fc-92f4-46d2-aac0-92201909974c",
   "metadata": {},
   "outputs": [],
   "source": [
    "#%%R\n",
    "#DA_results$NhoodGroup[DA_results$NhoodGroup == '7'] <- '1'"
   ]
  },
  {
   "cell_type": "code",
   "execution_count": 37,
   "id": "8fed4e7f-1668-4204-b64c-1964555a477f",
   "metadata": {},
   "outputs": [
    {
     "name": "stdout",
     "output_type": "stream",
     "text": [
      "       logFC   logCPM          F       PValue          FDR Nhood   SpatialFDR\n",
      "1 -5.3798866 9.458160 47.7023050 3.347809e-11 1.192819e-08     1 1.227004e-08\n",
      "2  0.7636238 8.479534  2.2640390 1.333376e-01 2.038376e-01     2 2.047129e-01\n",
      "3 -2.5804897 8.304910 18.0439495 2.822419e-05 2.017564e-04     3 2.077594e-04\n",
      "4  1.8906074 8.443885 13.4103457 2.901233e-04 1.295300e-03     4 1.326284e-03\n",
      "5 -2.6753041 9.018581 17.5037331 3.883681e-05 2.578762e-04     5 2.653914e-04\n",
      "6  0.2292672 7.751153  0.2369278 6.267478e-01 7.088678e-01     6 7.094993e-01\n",
      "    low_res_subset low_res_subset_fraction         celltype NhoodGroup\n",
      "1 tumor CD56bright               0.7789374 tumor CD56bright          1\n",
      "2   tissue CD56dim               0.4231379            Mixed          2\n",
      "3 tumor CD56bright               0.8047619 tumor CD56bright          3\n",
      "4          CD56dim               0.5515289            Mixed          4\n",
      "5 tumor CD56bright               0.8357964 tumor CD56bright          3\n",
      "6   tissue CD56dim               0.3935484            Mixed          5\n",
      "  condition condition_fraction NhoodGroupTemp      subset_only\n",
      "1     query          0.9867173              1 tumor CD56bright\n",
      "2 reference          0.6291601              2   tissue CD56dim\n",
      "3     query          0.8738095              3 tumor CD56bright\n",
      "4 reference          0.8221971              4   tissue CD56dim\n",
      "5     query          0.8587849              3 tumor CD56bright\n",
      "6 reference          0.6354839              5   tissue CD56dim\n",
      "  subset_only_fraction\n",
      "1            0.7789374\n",
      "2            0.4231379\n",
      "3            0.8047619\n",
      "4            0.2661382\n",
      "5            0.8357964\n",
      "6            0.3935484\n"
     ]
    }
   ],
   "source": [
    "%%R -o DA_results\n",
    "head(DA_results)"
   ]
  },
  {
   "cell_type": "code",
   "execution_count": 194,
   "id": "f266caff-0540-4562-8a95-97ab83322f42",
   "metadata": {},
   "outputs": [],
   "source": [
    "#%%R\n",
    "#DA_results$condition_fraction[DA_results$condition == 'reference'] <- (1-DA_results$condition_fractioncondition_fraction)"
   ]
  },
  {
   "cell_type": "code",
   "execution_count": 196,
   "id": "8555d6ab-734d-4f18-86ae-96c6ec855180",
   "metadata": {},
   "outputs": [
    {
     "data": {
      "text/plain": [
       "2       0.370840\n",
       "4       0.177803\n",
       "6       0.364516\n",
       "8       0.114504\n",
       "9       0.378173\n",
       "          ...   \n",
       "6499    0.295938\n",
       "6501    0.248936\n",
       "6503    0.214706\n",
       "6504    0.138298\n",
       "6505    0.420144\n",
       "Name: condition_fraction, Length: 4298, dtype: float64"
      ]
     },
     "execution_count": 196,
     "metadata": {},
     "output_type": "execute_result"
    }
   ],
   "source": [
    "1-DA_results[DA_results['condition'] == 'reference']['condition_fraction']"
   ]
  },
  {
   "cell_type": "code",
   "execution_count": 38,
   "id": "270859c8-ef74-4ce4-bf5d-69630a7e573c",
   "metadata": {},
   "outputs": [],
   "source": [
    "DA_results.loc[DA_results['condition'] == 'reference','condition_fraction'] = 1-DA_results.loc[DA_results['condition'] == 'reference','condition_fraction']"
   ]
  },
  {
   "cell_type": "code",
   "execution_count": 39,
   "id": "933903d1-7560-45ed-8b6d-cecb3eebd753",
   "metadata": {},
   "outputs": [
    {
     "data": {
      "text/plain": [
       "0.9928057553956835"
      ]
     },
     "execution_count": 39,
     "metadata": {},
     "output_type": "execute_result"
    }
   ],
   "source": [
    "np.max(DA_results['condition_fraction'])"
   ]
  },
  {
   "cell_type": "code",
   "execution_count": 209,
   "id": "266fdb45-df25-4a27-bbce-c28d1d8d3aa5",
   "metadata": {},
   "outputs": [
    {
     "data": {
      "text/plain": [
       "0.9928057553956835"
      ]
     },
     "execution_count": 209,
     "metadata": {},
     "output_type": "execute_result"
    }
   ],
   "source": [
    "np.max(DA_results['condition_fraction'])"
   ]
  },
  {
   "cell_type": "code",
   "execution_count": 41,
   "id": "67a86719-644c-4beb-8cc6-20967afd619d",
   "metadata": {},
   "outputs": [
    {
     "data": {
      "text/plain": [
       "array(['1', '2', '3', '4', '5', '6'], dtype=object)"
      ]
     },
     "execution_count": 41,
     "metadata": {},
     "output_type": "execute_result"
    }
   ],
   "source": [
    "np.unique(DA_results['NhoodGroup'])"
   ]
  },
  {
   "cell_type": "code",
   "execution_count": null,
   "id": "b5b7eccb-7be9-4307-9f33-f077f21053d8",
   "metadata": {},
   "outputs": [],
   "source": []
  },
  {
   "cell_type": "code",
   "execution_count": 42,
   "id": "6dfad1ea-de1a-41d3-a4d6-cd0ab74d67f8",
   "metadata": {},
   "outputs": [
    {
     "data": {
      "text/plain": [
       "array(['1', '2', '3', '4', '5', '6'], dtype=object)"
      ]
     },
     "execution_count": 42,
     "metadata": {},
     "output_type": "execute_result"
    }
   ],
   "source": [
    "np.unique(DA_results['NhoodGroup'])"
   ]
  },
  {
   "cell_type": "code",
   "execution_count": 213,
   "id": "f7f38597-ea72-4c60-9e4b-774c3a0d5f53",
   "metadata": {},
   "outputs": [],
   "source": [
    "import seaborn as sns"
   ]
  },
  {
   "cell_type": "code",
   "execution_count": 32,
   "id": "3c609506-2f23-44aa-85b4-d47b363ffd22",
   "metadata": {},
   "outputs": [
    {
     "data": {
      "text/html": [
       "<div>\n",
       "<style scoped>\n",
       "    .dataframe tbody tr th:only-of-type {\n",
       "        vertical-align: middle;\n",
       "    }\n",
       "\n",
       "    .dataframe tbody tr th {\n",
       "        vertical-align: top;\n",
       "    }\n",
       "\n",
       "    .dataframe thead th {\n",
       "        text-align: right;\n",
       "    }\n",
       "</style>\n",
       "<table border=\"1\" class=\"dataframe\">\n",
       "  <thead>\n",
       "    <tr style=\"text-align: right;\">\n",
       "      <th></th>\n",
       "      <th>logFC</th>\n",
       "      <th>logCPM</th>\n",
       "      <th>F</th>\n",
       "      <th>PValue</th>\n",
       "      <th>FDR</th>\n",
       "      <th>Nhood</th>\n",
       "      <th>SpatialFDR</th>\n",
       "      <th>low_res_subset</th>\n",
       "      <th>low_res_subset_fraction</th>\n",
       "      <th>celltype</th>\n",
       "      <th>NhoodGroup</th>\n",
       "      <th>condition</th>\n",
       "      <th>condition_fraction</th>\n",
       "      <th>NhoodGroupTemp</th>\n",
       "      <th>subset_only</th>\n",
       "      <th>subset_only_fraction</th>\n",
       "    </tr>\n",
       "  </thead>\n",
       "  <tbody>\n",
       "    <tr>\n",
       "      <th>1</th>\n",
       "      <td>-5.379887</td>\n",
       "      <td>9.458160</td>\n",
       "      <td>47.702305</td>\n",
       "      <td>3.347809e-11</td>\n",
       "      <td>1.192819e-08</td>\n",
       "      <td>1.0</td>\n",
       "      <td>1.227004e-08</td>\n",
       "      <td>tumor CD56bright</td>\n",
       "      <td>0.778937</td>\n",
       "      <td>tumor CD56bright</td>\n",
       "      <td>1</td>\n",
       "      <td>query</td>\n",
       "      <td>0.986717</td>\n",
       "      <td>1</td>\n",
       "      <td>tumor CD56bright</td>\n",
       "      <td>0.778937</td>\n",
       "    </tr>\n",
       "    <tr>\n",
       "      <th>2</th>\n",
       "      <td>0.763624</td>\n",
       "      <td>8.479534</td>\n",
       "      <td>2.264039</td>\n",
       "      <td>1.333376e-01</td>\n",
       "      <td>2.038376e-01</td>\n",
       "      <td>2.0</td>\n",
       "      <td>2.047129e-01</td>\n",
       "      <td>tissue CD56dim</td>\n",
       "      <td>0.423138</td>\n",
       "      <td>Mixed</td>\n",
       "      <td>2</td>\n",
       "      <td>reference</td>\n",
       "      <td>0.629160</td>\n",
       "      <td>2</td>\n",
       "      <td>tissue CD56dim</td>\n",
       "      <td>0.423138</td>\n",
       "    </tr>\n",
       "    <tr>\n",
       "      <th>3</th>\n",
       "      <td>-2.580490</td>\n",
       "      <td>8.304910</td>\n",
       "      <td>18.043950</td>\n",
       "      <td>2.822419e-05</td>\n",
       "      <td>2.017564e-04</td>\n",
       "      <td>3.0</td>\n",
       "      <td>2.077594e-04</td>\n",
       "      <td>tumor CD56bright</td>\n",
       "      <td>0.804762</td>\n",
       "      <td>tumor CD56bright</td>\n",
       "      <td>3</td>\n",
       "      <td>query</td>\n",
       "      <td>0.873810</td>\n",
       "      <td>3</td>\n",
       "      <td>tumor CD56bright</td>\n",
       "      <td>0.804762</td>\n",
       "    </tr>\n",
       "    <tr>\n",
       "      <th>4</th>\n",
       "      <td>1.890607</td>\n",
       "      <td>8.443885</td>\n",
       "      <td>13.410346</td>\n",
       "      <td>2.901233e-04</td>\n",
       "      <td>1.295300e-03</td>\n",
       "      <td>4.0</td>\n",
       "      <td>1.326284e-03</td>\n",
       "      <td>CD56dim</td>\n",
       "      <td>0.551529</td>\n",
       "      <td>Mixed</td>\n",
       "      <td>4</td>\n",
       "      <td>reference</td>\n",
       "      <td>0.822197</td>\n",
       "      <td>4</td>\n",
       "      <td>tissue CD56dim</td>\n",
       "      <td>0.266138</td>\n",
       "    </tr>\n",
       "    <tr>\n",
       "      <th>5</th>\n",
       "      <td>-2.675304</td>\n",
       "      <td>9.018581</td>\n",
       "      <td>17.503733</td>\n",
       "      <td>3.883681e-05</td>\n",
       "      <td>2.578762e-04</td>\n",
       "      <td>5.0</td>\n",
       "      <td>2.653914e-04</td>\n",
       "      <td>tumor CD56bright</td>\n",
       "      <td>0.835796</td>\n",
       "      <td>tumor CD56bright</td>\n",
       "      <td>3</td>\n",
       "      <td>query</td>\n",
       "      <td>0.858785</td>\n",
       "      <td>3</td>\n",
       "      <td>tumor CD56bright</td>\n",
       "      <td>0.835796</td>\n",
       "    </tr>\n",
       "    <tr>\n",
       "      <th>...</th>\n",
       "      <td>...</td>\n",
       "      <td>...</td>\n",
       "      <td>...</td>\n",
       "      <td>...</td>\n",
       "      <td>...</td>\n",
       "      <td>...</td>\n",
       "      <td>...</td>\n",
       "      <td>...</td>\n",
       "      <td>...</td>\n",
       "      <td>...</td>\n",
       "      <td>...</td>\n",
       "      <td>...</td>\n",
       "      <td>...</td>\n",
       "      <td>...</td>\n",
       "      <td>...</td>\n",
       "      <td>...</td>\n",
       "    </tr>\n",
       "    <tr>\n",
       "      <th>6501</th>\n",
       "      <td>1.536477</td>\n",
       "      <td>7.943395</td>\n",
       "      <td>9.894289</td>\n",
       "      <td>1.804372e-03</td>\n",
       "      <td>5.697788e-03</td>\n",
       "      <td>6501.0</td>\n",
       "      <td>5.800828e-03</td>\n",
       "      <td>tissue CD56dim</td>\n",
       "      <td>0.504255</td>\n",
       "      <td>Mixed</td>\n",
       "      <td>4</td>\n",
       "      <td>reference</td>\n",
       "      <td>0.751064</td>\n",
       "      <td>4</td>\n",
       "      <td>tissue CD56dim</td>\n",
       "      <td>0.504255</td>\n",
       "    </tr>\n",
       "    <tr>\n",
       "      <th>6502</th>\n",
       "      <td>-0.274981</td>\n",
       "      <td>7.889240</td>\n",
       "      <td>0.297703</td>\n",
       "      <td>5.857209e-01</td>\n",
       "      <td>6.706767e-01</td>\n",
       "      <td>6502.0</td>\n",
       "      <td>6.714366e-01</td>\n",
       "      <td>tumor CD56dim</td>\n",
       "      <td>0.567867</td>\n",
       "      <td>Mixed</td>\n",
       "      <td>2</td>\n",
       "      <td>query</td>\n",
       "      <td>0.567867</td>\n",
       "      <td>2</td>\n",
       "      <td>tumor CD56dim</td>\n",
       "      <td>0.567867</td>\n",
       "    </tr>\n",
       "    <tr>\n",
       "      <th>6503</th>\n",
       "      <td>2.065931</td>\n",
       "      <td>7.638615</td>\n",
       "      <td>17.970023</td>\n",
       "      <td>2.895593e-05</td>\n",
       "      <td>2.056313e-04</td>\n",
       "      <td>6503.0</td>\n",
       "      <td>2.117850e-04</td>\n",
       "      <td>CD56dim</td>\n",
       "      <td>0.467647</td>\n",
       "      <td>Mixed</td>\n",
       "      <td>6</td>\n",
       "      <td>reference</td>\n",
       "      <td>0.785294</td>\n",
       "      <td>6</td>\n",
       "      <td>KIR+</td>\n",
       "      <td>0.405882</td>\n",
       "    </tr>\n",
       "    <tr>\n",
       "      <th>6504</th>\n",
       "      <td>1.702752</td>\n",
       "      <td>7.358280</td>\n",
       "      <td>12.362169</td>\n",
       "      <td>4.975788e-04</td>\n",
       "      <td>1.998772e-03</td>\n",
       "      <td>6504.0</td>\n",
       "      <td>2.044099e-03</td>\n",
       "      <td>CD56dim</td>\n",
       "      <td>0.592199</td>\n",
       "      <td>Mixed</td>\n",
       "      <td>6</td>\n",
       "      <td>reference</td>\n",
       "      <td>0.861702</td>\n",
       "      <td>6</td>\n",
       "      <td>KIR+</td>\n",
       "      <td>0.524823</td>\n",
       "    </tr>\n",
       "    <tr>\n",
       "      <th>6505</th>\n",
       "      <td>-0.034655</td>\n",
       "      <td>8.666856</td>\n",
       "      <td>0.004257</td>\n",
       "      <td>9.480191e-01</td>\n",
       "      <td>9.628204e-01</td>\n",
       "      <td>6505.0</td>\n",
       "      <td>9.630951e-01</td>\n",
       "      <td>tumor CD56dim</td>\n",
       "      <td>0.375540</td>\n",
       "      <td>Mixed</td>\n",
       "      <td>2</td>\n",
       "      <td>reference</td>\n",
       "      <td>0.579856</td>\n",
       "      <td>2</td>\n",
       "      <td>tumor CD56dim</td>\n",
       "      <td>0.375540</td>\n",
       "    </tr>\n",
       "  </tbody>\n",
       "</table>\n",
       "<p>6505 rows × 16 columns</p>\n",
       "</div>"
      ],
      "text/plain": [
       "         logFC    logCPM          F        PValue           FDR   Nhood  \\\n",
       "1    -5.379887  9.458160  47.702305  3.347809e-11  1.192819e-08     1.0   \n",
       "2     0.763624  8.479534   2.264039  1.333376e-01  2.038376e-01     2.0   \n",
       "3    -2.580490  8.304910  18.043950  2.822419e-05  2.017564e-04     3.0   \n",
       "4     1.890607  8.443885  13.410346  2.901233e-04  1.295300e-03     4.0   \n",
       "5    -2.675304  9.018581  17.503733  3.883681e-05  2.578762e-04     5.0   \n",
       "...        ...       ...        ...           ...           ...     ...   \n",
       "6501  1.536477  7.943395   9.894289  1.804372e-03  5.697788e-03  6501.0   \n",
       "6502 -0.274981  7.889240   0.297703  5.857209e-01  6.706767e-01  6502.0   \n",
       "6503  2.065931  7.638615  17.970023  2.895593e-05  2.056313e-04  6503.0   \n",
       "6504  1.702752  7.358280  12.362169  4.975788e-04  1.998772e-03  6504.0   \n",
       "6505 -0.034655  8.666856   0.004257  9.480191e-01  9.628204e-01  6505.0   \n",
       "\n",
       "        SpatialFDR    low_res_subset  low_res_subset_fraction  \\\n",
       "1     1.227004e-08  tumor CD56bright                 0.778937   \n",
       "2     2.047129e-01    tissue CD56dim                 0.423138   \n",
       "3     2.077594e-04  tumor CD56bright                 0.804762   \n",
       "4     1.326284e-03           CD56dim                 0.551529   \n",
       "5     2.653914e-04  tumor CD56bright                 0.835796   \n",
       "...            ...               ...                      ...   \n",
       "6501  5.800828e-03    tissue CD56dim                 0.504255   \n",
       "6502  6.714366e-01     tumor CD56dim                 0.567867   \n",
       "6503  2.117850e-04           CD56dim                 0.467647   \n",
       "6504  2.044099e-03           CD56dim                 0.592199   \n",
       "6505  9.630951e-01     tumor CD56dim                 0.375540   \n",
       "\n",
       "              celltype NhoodGroup  condition  condition_fraction  \\\n",
       "1     tumor CD56bright          1      query            0.986717   \n",
       "2                Mixed          2  reference            0.629160   \n",
       "3     tumor CD56bright          3      query            0.873810   \n",
       "4                Mixed          4  reference            0.822197   \n",
       "5     tumor CD56bright          3      query            0.858785   \n",
       "...                ...        ...        ...                 ...   \n",
       "6501             Mixed          4  reference            0.751064   \n",
       "6502             Mixed          2      query            0.567867   \n",
       "6503             Mixed          6  reference            0.785294   \n",
       "6504             Mixed          6  reference            0.861702   \n",
       "6505             Mixed          2  reference            0.579856   \n",
       "\n",
       "     NhoodGroupTemp       subset_only  subset_only_fraction  \n",
       "1                 1  tumor CD56bright              0.778937  \n",
       "2                 2    tissue CD56dim              0.423138  \n",
       "3                 3  tumor CD56bright              0.804762  \n",
       "4                 4    tissue CD56dim              0.266138  \n",
       "5                 3  tumor CD56bright              0.835796  \n",
       "...             ...               ...                   ...  \n",
       "6501              4    tissue CD56dim              0.504255  \n",
       "6502              2     tumor CD56dim              0.567867  \n",
       "6503              6              KIR+              0.405882  \n",
       "6504              6              KIR+              0.524823  \n",
       "6505              2     tumor CD56dim              0.375540  \n",
       "\n",
       "[6505 rows x 16 columns]"
      ]
     },
     "execution_count": 32,
     "metadata": {},
     "output_type": "execute_result"
    }
   ],
   "source": [
    "DA_results"
   ]
  },
  {
   "cell_type": "code",
   "execution_count": null,
   "id": "beec219b-b8c9-4d5a-8c34-95b41eb746ca",
   "metadata": {},
   "outputs": [],
   "source": []
  },
  {
   "cell_type": "code",
   "execution_count": 56,
   "id": "5d6c9c93-0f29-44c5-8b23-5de4dd227e03",
   "metadata": {},
   "outputs": [],
   "source": [
    "%%R\n",
    "library(svglite)"
   ]
  },
  {
   "cell_type": "code",
   "execution_count": 33,
   "id": "b8227012-2042-47fc-b55e-0180e77fcd89",
   "metadata": {},
   "outputs": [
    {
     "data": {
      "image/png": "[encoded data removed]",
      "text/plain": [
       "<IPython.core.display.Image object>"
      ]
     },
     "metadata": {},
     "output_type": "display_data"
    }
   ],
   "source": [
    "%%R\n",
    "plotNhoodGroups(milo, DA_results, layout=\"UMAP\")\n",
    "#ggsave('nhoods_groups_milo.svg', device = svglite)"
   ]
  },
  {
   "cell_type": "code",
   "execution_count": null,
   "id": "b0fae4c3-1c2e-43ad-a678-70882c1548d7",
   "metadata": {},
   "outputs": [],
   "source": []
  },
  {
   "cell_type": "code",
   "execution_count": 203,
   "id": "79c6d393-f073-49af-85bb-7e68993655c0",
   "metadata": {},
   "outputs": [
    {
     "name": "stdout",
     "output_type": "stream",
     "text": [
      "Saving 6.67 x 6.67 in image\n"
     ]
    }
   ],
   "source": [
    "%%R\n",
    "DA_results$n\n",
    "plotNhoodGroups(milo, DA_results, layout=\"UMAP\")\n",
    "ggsave('nhoods_subset_annotation.pdf')"
   ]
  },
  {
   "cell_type": "code",
   "execution_count": null,
   "id": "0b377b72-e2be-4a8b-98f8-cdfd9d27eee2",
   "metadata": {},
   "outputs": [],
   "source": []
  },
  {
   "cell_type": "code",
   "execution_count": null,
   "id": "88f7908c-35fa-445b-96a8-f1e94acaf2b7",
   "metadata": {},
   "outputs": [],
   "source": []
  },
  {
   "cell_type": "code",
   "execution_count": 193,
   "id": "6b9a84b0-90bf-4979-bb2a-cab02d66df1d",
   "metadata": {},
   "outputs": [
    {
     "data": {
      "image/png": "[encoded data removed]",
      "text/plain": [
       "<IPython.core.display.Image object>"
      ]
     },
     "metadata": {},
     "output_type": "display_data"
    }
   ],
   "source": [
    "%%R\n",
    "plotNhoodGroups(milo, DA_results, res_column='NhoodGroupTemp', layout=\"UMAP\")\n",
    "#ggsave('nhood_groups_milo.pdf')"
   ]
  },
  {
   "cell_type": "code",
   "execution_count": null,
   "id": "b44cbe84-f022-48ef-a991-c5339567f68c",
   "metadata": {},
   "outputs": [],
   "source": []
  },
  {
   "cell_type": "code",
   "execution_count": null,
   "id": "d630eb75-0e2f-47c2-bded-31e3284523dc",
   "metadata": {},
   "outputs": [],
   "source": []
  },
  {
   "cell_type": "code",
   "execution_count": 400,
   "id": "7ab5911e-2285-4257-a3b1-6d7c7ae16421",
   "metadata": {},
   "outputs": [
    {
     "name": "stdout",
     "output_type": "stream",
     "text": [
      "Saving 6.67 x 6.67 in image\n"
     ]
    }
   ],
   "source": [
    "%%R\n",
    "## Save the adjacency matrix of the nhood graph\n",
    "plotDAbeeswarm(DA_results, \"subset_new\")\n",
    "ggsave('subset_annotation_beeswarm.svg', device=svglite)"
   ]
  },
  {
   "cell_type": "code",
   "execution_count": 402,
   "id": "fdcc6042-b829-4180-9f15-c91c19932610",
   "metadata": {},
   "outputs": [
    {
     "name": "stdout",
     "output_type": "stream",
     "text": [
      "Saving 6.67 x 6.67 in image\n"
     ]
    }
   ],
   "source": [
    "%%R\n",
    "## Save the adjacency matrix of the nhood graph\n",
    "plotDAbeeswarm(DA_results, \"NhoodGroup\")\n",
    "ggsave('nhood_groups_beeswarm.svg', device=svglite)"
   ]
  },
  {
   "cell_type": "code",
   "execution_count": 57,
   "id": "2e2bd239-cce5-4281-85bb-9b47b216a3b8",
   "metadata": {},
   "outputs": [
    {
     "name": "stdout",
     "output_type": "stream",
     "text": [
      "Saving 6.67 x 6.67 in image\n"
     ]
    }
   ],
   "source": [
    "%%R\n",
    "## Save the adjacency matrix of the nhood graph\n",
    "plotDAbeeswarm(DA_results, \"low_res_subset_celltype\")\n",
    "ggsave('nhood_subset_source_annotation_beeswarm.svg', device=svglite)"
   ]
  },
  {
   "cell_type": "code",
   "execution_count": 59,
   "id": "b9b579fa-2d2e-4093-8294-6b142d62ffde",
   "metadata": {},
   "outputs": [
    {
     "name": "stdout",
     "output_type": "stream",
     "text": [
      "NULL\n"
     ]
    }
   ],
   "source": [
    "%%R\n",
    "## Save the adjacency matrix of the nhood graph\n",
    "plotDAbeeswarm(DA_results, \"source\")\n",
    "#ggsave('subset_source_beeswarm.pdf')"
   ]
  },
  {
   "cell_type": "code",
   "execution_count": 35,
   "id": "ce2e493c-8cdc-4638-b3a1-0a32b85b1908",
   "metadata": {},
   "outputs": [
    {
     "data": {
      "image/png": "[encoded data removed]",
      "text/plain": [
       "<IPython.core.display.Image object>"
      ]
     },
     "metadata": {},
     "output_type": "display_data"
    }
   ],
   "source": [
    "%%R\n",
    "plotDAbeeswarm(DA_results, \"NhoodGroup\")"
   ]
  },
  {
   "cell_type": "markdown",
   "id": "3c21df76-d624-4183-b057-834252625866",
   "metadata": {},
   "source": [
    "### nhood group composition"
   ]
  },
  {
   "cell_type": "code",
   "execution_count": 485,
   "id": "e99ce8b8-9b40-493c-974c-433fbc74b72e",
   "metadata": {},
   "outputs": [],
   "source": [
    "%%R -o nhood_counts,counts_row,counts_col\n",
    "nhood_counts <- nhoodCounts(milo)\n",
    "counts_row <- rownames(nhood_counts)\n",
    "counts_col <- colnames(nhood_counts)"
   ]
  },
  {
   "cell_type": "code",
   "execution_count": 486,
   "id": "00464bc4-69ca-45f1-833f-9f8a65e1e0a5",
   "metadata": {},
   "outputs": [],
   "source": [
    "nhood_counts = pd.DataFrame(nhood_counts.todense(),columns=counts_col,index=counts_row)"
   ]
  },
  {
   "cell_type": "code",
   "execution_count": 487,
   "id": "225116ca-7829-49df-bf74-1563ef8dc685",
   "metadata": {},
   "outputs": [],
   "source": [
    "%%R -o nhoods_df,nhoods_col,nhoods_row\n",
    "nhoods_df <- milo@nhoods\n",
    "nhoods_col <- colnames(nhoods_df)\n",
    "nhoods_row <- rownames(nhoods_df)"
   ]
  },
  {
   "cell_type": "code",
   "execution_count": 488,
   "id": "c0fd6649-5379-4f53-b76c-7869c02f0152",
   "metadata": {},
   "outputs": [],
   "source": [
    "nhoods_cells_df = pd.DataFrame(nhoods_df.todense(), index=nhoods_row, columns=nhoods_col)"
   ]
  },
  {
   "cell_type": "code",
   "execution_count": 489,
   "id": "75745573-6de5-4c6a-837f-2ecbfd508f00",
   "metadata": {},
   "outputs": [
    {
     "data": {
      "text/html": [
       "<div>\n",
       "<style scoped>\n",
       "    .dataframe tbody tr th:only-of-type {\n",
       "        vertical-align: middle;\n",
       "    }\n",
       "\n",
       "    .dataframe tbody tr th {\n",
       "        vertical-align: top;\n",
       "    }\n",
       "\n",
       "    .dataframe thead th {\n",
       "        text-align: right;\n",
       "    }\n",
       "</style>\n",
       "<table border=\"1\" class=\"dataframe\">\n",
       "  <thead>\n",
       "    <tr style=\"text-align: right;\">\n",
       "      <th></th>\n",
       "      <th>88026</th>\n",
       "      <th>57023</th>\n",
       "      <th>54174</th>\n",
       "      <th>22487</th>\n",
       "      <th>75675</th>\n",
       "      <th>55558</th>\n",
       "      <th>88884</th>\n",
       "      <th>46896</th>\n",
       "      <th>69277</th>\n",
       "      <th>25096</th>\n",
       "      <th>...</th>\n",
       "      <th>33577</th>\n",
       "      <th>85108</th>\n",
       "      <th>56526</th>\n",
       "      <th>31623</th>\n",
       "      <th>81317</th>\n",
       "      <th>36724</th>\n",
       "      <th>38613</th>\n",
       "      <th>35440</th>\n",
       "      <th>12527</th>\n",
       "      <th>73250</th>\n",
       "    </tr>\n",
       "  </thead>\n",
       "  <tbody>\n",
       "    <tr>\n",
       "      <th>AAACCTGAGTGTCCAT_1-0</th>\n",
       "      <td>0.0</td>\n",
       "      <td>0.0</td>\n",
       "      <td>0.0</td>\n",
       "      <td>0.0</td>\n",
       "      <td>0.0</td>\n",
       "      <td>0.0</td>\n",
       "      <td>0.0</td>\n",
       "      <td>0.0</td>\n",
       "      <td>0.0</td>\n",
       "      <td>0.0</td>\n",
       "      <td>...</td>\n",
       "      <td>0.0</td>\n",
       "      <td>0.0</td>\n",
       "      <td>0.0</td>\n",
       "      <td>0.0</td>\n",
       "      <td>0.0</td>\n",
       "      <td>0.0</td>\n",
       "      <td>0.0</td>\n",
       "      <td>0.0</td>\n",
       "      <td>0.0</td>\n",
       "      <td>0.0</td>\n",
       "    </tr>\n",
       "    <tr>\n",
       "      <th>AAACCTGCACATGGGA_1-0</th>\n",
       "      <td>0.0</td>\n",
       "      <td>0.0</td>\n",
       "      <td>0.0</td>\n",
       "      <td>0.0</td>\n",
       "      <td>0.0</td>\n",
       "      <td>0.0</td>\n",
       "      <td>0.0</td>\n",
       "      <td>0.0</td>\n",
       "      <td>0.0</td>\n",
       "      <td>0.0</td>\n",
       "      <td>...</td>\n",
       "      <td>0.0</td>\n",
       "      <td>0.0</td>\n",
       "      <td>0.0</td>\n",
       "      <td>0.0</td>\n",
       "      <td>0.0</td>\n",
       "      <td>0.0</td>\n",
       "      <td>0.0</td>\n",
       "      <td>0.0</td>\n",
       "      <td>0.0</td>\n",
       "      <td>0.0</td>\n",
       "    </tr>\n",
       "    <tr>\n",
       "      <th>AAACCTGCACCTCGGA_1-0</th>\n",
       "      <td>0.0</td>\n",
       "      <td>0.0</td>\n",
       "      <td>0.0</td>\n",
       "      <td>0.0</td>\n",
       "      <td>0.0</td>\n",
       "      <td>0.0</td>\n",
       "      <td>0.0</td>\n",
       "      <td>0.0</td>\n",
       "      <td>0.0</td>\n",
       "      <td>0.0</td>\n",
       "      <td>...</td>\n",
       "      <td>0.0</td>\n",
       "      <td>0.0</td>\n",
       "      <td>0.0</td>\n",
       "      <td>0.0</td>\n",
       "      <td>0.0</td>\n",
       "      <td>0.0</td>\n",
       "      <td>0.0</td>\n",
       "      <td>0.0</td>\n",
       "      <td>0.0</td>\n",
       "      <td>0.0</td>\n",
       "    </tr>\n",
       "    <tr>\n",
       "      <th>AAACCTGGTTGAGTTC_1-0</th>\n",
       "      <td>0.0</td>\n",
       "      <td>0.0</td>\n",
       "      <td>0.0</td>\n",
       "      <td>0.0</td>\n",
       "      <td>0.0</td>\n",
       "      <td>0.0</td>\n",
       "      <td>0.0</td>\n",
       "      <td>0.0</td>\n",
       "      <td>0.0</td>\n",
       "      <td>0.0</td>\n",
       "      <td>...</td>\n",
       "      <td>0.0</td>\n",
       "      <td>0.0</td>\n",
       "      <td>0.0</td>\n",
       "      <td>0.0</td>\n",
       "      <td>0.0</td>\n",
       "      <td>0.0</td>\n",
       "      <td>0.0</td>\n",
       "      <td>0.0</td>\n",
       "      <td>0.0</td>\n",
       "      <td>0.0</td>\n",
       "    </tr>\n",
       "    <tr>\n",
       "      <th>AAACCTGTCACCGTAA_1-0</th>\n",
       "      <td>0.0</td>\n",
       "      <td>0.0</td>\n",
       "      <td>0.0</td>\n",
       "      <td>0.0</td>\n",
       "      <td>0.0</td>\n",
       "      <td>0.0</td>\n",
       "      <td>0.0</td>\n",
       "      <td>0.0</td>\n",
       "      <td>0.0</td>\n",
       "      <td>0.0</td>\n",
       "      <td>...</td>\n",
       "      <td>0.0</td>\n",
       "      <td>0.0</td>\n",
       "      <td>0.0</td>\n",
       "      <td>0.0</td>\n",
       "      <td>0.0</td>\n",
       "      <td>0.0</td>\n",
       "      <td>0.0</td>\n",
       "      <td>0.0</td>\n",
       "      <td>0.0</td>\n",
       "      <td>0.0</td>\n",
       "    </tr>\n",
       "    <tr>\n",
       "      <th>...</th>\n",
       "      <td>...</td>\n",
       "      <td>...</td>\n",
       "      <td>...</td>\n",
       "      <td>...</td>\n",
       "      <td>...</td>\n",
       "      <td>...</td>\n",
       "      <td>...</td>\n",
       "      <td>...</td>\n",
       "      <td>...</td>\n",
       "      <td>...</td>\n",
       "      <td>...</td>\n",
       "      <td>...</td>\n",
       "      <td>...</td>\n",
       "      <td>...</td>\n",
       "      <td>...</td>\n",
       "      <td>...</td>\n",
       "      <td>...</td>\n",
       "      <td>...</td>\n",
       "      <td>...</td>\n",
       "      <td>...</td>\n",
       "      <td>...</td>\n",
       "    </tr>\n",
       "    <tr>\n",
       "      <th>TAAACCGTCTGGGCCA-1_GSM5293920_smalley</th>\n",
       "      <td>0.0</td>\n",
       "      <td>0.0</td>\n",
       "      <td>0.0</td>\n",
       "      <td>0.0</td>\n",
       "      <td>0.0</td>\n",
       "      <td>0.0</td>\n",
       "      <td>0.0</td>\n",
       "      <td>0.0</td>\n",
       "      <td>0.0</td>\n",
       "      <td>0.0</td>\n",
       "      <td>...</td>\n",
       "      <td>0.0</td>\n",
       "      <td>0.0</td>\n",
       "      <td>0.0</td>\n",
       "      <td>0.0</td>\n",
       "      <td>0.0</td>\n",
       "      <td>0.0</td>\n",
       "      <td>0.0</td>\n",
       "      <td>0.0</td>\n",
       "      <td>0.0</td>\n",
       "      <td>0.0</td>\n",
       "    </tr>\n",
       "    <tr>\n",
       "      <th>TCTGGAAGTAGGACAC-1_GSM5293920_smalley</th>\n",
       "      <td>0.0</td>\n",
       "      <td>0.0</td>\n",
       "      <td>0.0</td>\n",
       "      <td>0.0</td>\n",
       "      <td>0.0</td>\n",
       "      <td>0.0</td>\n",
       "      <td>0.0</td>\n",
       "      <td>0.0</td>\n",
       "      <td>0.0</td>\n",
       "      <td>0.0</td>\n",
       "      <td>...</td>\n",
       "      <td>0.0</td>\n",
       "      <td>0.0</td>\n",
       "      <td>0.0</td>\n",
       "      <td>0.0</td>\n",
       "      <td>0.0</td>\n",
       "      <td>0.0</td>\n",
       "      <td>0.0</td>\n",
       "      <td>0.0</td>\n",
       "      <td>0.0</td>\n",
       "      <td>0.0</td>\n",
       "    </tr>\n",
       "    <tr>\n",
       "      <th>TGACAACTCTCAAACG-1_GSM5293920_smalley</th>\n",
       "      <td>0.0</td>\n",
       "      <td>0.0</td>\n",
       "      <td>0.0</td>\n",
       "      <td>0.0</td>\n",
       "      <td>0.0</td>\n",
       "      <td>0.0</td>\n",
       "      <td>0.0</td>\n",
       "      <td>0.0</td>\n",
       "      <td>0.0</td>\n",
       "      <td>0.0</td>\n",
       "      <td>...</td>\n",
       "      <td>0.0</td>\n",
       "      <td>0.0</td>\n",
       "      <td>0.0</td>\n",
       "      <td>0.0</td>\n",
       "      <td>0.0</td>\n",
       "      <td>0.0</td>\n",
       "      <td>0.0</td>\n",
       "      <td>0.0</td>\n",
       "      <td>0.0</td>\n",
       "      <td>0.0</td>\n",
       "    </tr>\n",
       "    <tr>\n",
       "      <th>TGCTGCTGTGCTCTTC-1_GSM5293920_smalley</th>\n",
       "      <td>0.0</td>\n",
       "      <td>0.0</td>\n",
       "      <td>0.0</td>\n",
       "      <td>0.0</td>\n",
       "      <td>0.0</td>\n",
       "      <td>1.0</td>\n",
       "      <td>0.0</td>\n",
       "      <td>0.0</td>\n",
       "      <td>0.0</td>\n",
       "      <td>0.0</td>\n",
       "      <td>...</td>\n",
       "      <td>0.0</td>\n",
       "      <td>0.0</td>\n",
       "      <td>0.0</td>\n",
       "      <td>0.0</td>\n",
       "      <td>0.0</td>\n",
       "      <td>0.0</td>\n",
       "      <td>0.0</td>\n",
       "      <td>0.0</td>\n",
       "      <td>0.0</td>\n",
       "      <td>0.0</td>\n",
       "    </tr>\n",
       "    <tr>\n",
       "      <th>TTCTCAAAGACTAGAT-1_GSM5293920_smalley</th>\n",
       "      <td>0.0</td>\n",
       "      <td>0.0</td>\n",
       "      <td>0.0</td>\n",
       "      <td>0.0</td>\n",
       "      <td>0.0</td>\n",
       "      <td>0.0</td>\n",
       "      <td>0.0</td>\n",
       "      <td>0.0</td>\n",
       "      <td>0.0</td>\n",
       "      <td>0.0</td>\n",
       "      <td>...</td>\n",
       "      <td>0.0</td>\n",
       "      <td>0.0</td>\n",
       "      <td>0.0</td>\n",
       "      <td>0.0</td>\n",
       "      <td>0.0</td>\n",
       "      <td>0.0</td>\n",
       "      <td>0.0</td>\n",
       "      <td>0.0</td>\n",
       "      <td>0.0</td>\n",
       "      <td>0.0</td>\n",
       "    </tr>\n",
       "  </tbody>\n",
       "</table>\n",
       "<p>89216 rows × 6505 columns</p>\n",
       "</div>"
      ],
      "text/plain": [
       "                                       88026  57023  54174  22487  75675  \\\n",
       "AAACCTGAGTGTCCAT_1-0                     0.0    0.0    0.0    0.0    0.0   \n",
       "AAACCTGCACATGGGA_1-0                     0.0    0.0    0.0    0.0    0.0   \n",
       "AAACCTGCACCTCGGA_1-0                     0.0    0.0    0.0    0.0    0.0   \n",
       "AAACCTGGTTGAGTTC_1-0                     0.0    0.0    0.0    0.0    0.0   \n",
       "AAACCTGTCACCGTAA_1-0                     0.0    0.0    0.0    0.0    0.0   \n",
       "...                                      ...    ...    ...    ...    ...   \n",
       "TAAACCGTCTGGGCCA-1_GSM5293920_smalley    0.0    0.0    0.0    0.0    0.0   \n",
       "TCTGGAAGTAGGACAC-1_GSM5293920_smalley    0.0    0.0    0.0    0.0    0.0   \n",
       "TGACAACTCTCAAACG-1_GSM5293920_smalley    0.0    0.0    0.0    0.0    0.0   \n",
       "TGCTGCTGTGCTCTTC-1_GSM5293920_smalley    0.0    0.0    0.0    0.0    0.0   \n",
       "TTCTCAAAGACTAGAT-1_GSM5293920_smalley    0.0    0.0    0.0    0.0    0.0   \n",
       "\n",
       "                                       55558  88884  46896  69277  25096  ...  \\\n",
       "AAACCTGAGTGTCCAT_1-0                     0.0    0.0    0.0    0.0    0.0  ...   \n",
       "AAACCTGCACATGGGA_1-0                     0.0    0.0    0.0    0.0    0.0  ...   \n",
       "AAACCTGCACCTCGGA_1-0                     0.0    0.0    0.0    0.0    0.0  ...   \n",
       "AAACCTGGTTGAGTTC_1-0                     0.0    0.0    0.0    0.0    0.0  ...   \n",
       "AAACCTGTCACCGTAA_1-0                     0.0    0.0    0.0    0.0    0.0  ...   \n",
       "...                                      ...    ...    ...    ...    ...  ...   \n",
       "TAAACCGTCTGGGCCA-1_GSM5293920_smalley    0.0    0.0    0.0    0.0    0.0  ...   \n",
       "TCTGGAAGTAGGACAC-1_GSM5293920_smalley    0.0    0.0    0.0    0.0    0.0  ...   \n",
       "TGACAACTCTCAAACG-1_GSM5293920_smalley    0.0    0.0    0.0    0.0    0.0  ...   \n",
       "TGCTGCTGTGCTCTTC-1_GSM5293920_smalley    1.0    0.0    0.0    0.0    0.0  ...   \n",
       "TTCTCAAAGACTAGAT-1_GSM5293920_smalley    0.0    0.0    0.0    0.0    0.0  ...   \n",
       "\n",
       "                                       33577  85108  56526  31623  81317  \\\n",
       "AAACCTGAGTGTCCAT_1-0                     0.0    0.0    0.0    0.0    0.0   \n",
       "AAACCTGCACATGGGA_1-0                     0.0    0.0    0.0    0.0    0.0   \n",
       "AAACCTGCACCTCGGA_1-0                     0.0    0.0    0.0    0.0    0.0   \n",
       "AAACCTGGTTGAGTTC_1-0                     0.0    0.0    0.0    0.0    0.0   \n",
       "AAACCTGTCACCGTAA_1-0                     0.0    0.0    0.0    0.0    0.0   \n",
       "...                                      ...    ...    ...    ...    ...   \n",
       "TAAACCGTCTGGGCCA-1_GSM5293920_smalley    0.0    0.0    0.0    0.0    0.0   \n",
       "TCTGGAAGTAGGACAC-1_GSM5293920_smalley    0.0    0.0    0.0    0.0    0.0   \n",
       "TGACAACTCTCAAACG-1_GSM5293920_smalley    0.0    0.0    0.0    0.0    0.0   \n",
       "TGCTGCTGTGCTCTTC-1_GSM5293920_smalley    0.0    0.0    0.0    0.0    0.0   \n",
       "TTCTCAAAGACTAGAT-1_GSM5293920_smalley    0.0    0.0    0.0    0.0    0.0   \n",
       "\n",
       "                                       36724  38613  35440  12527  73250  \n",
       "AAACCTGAGTGTCCAT_1-0                     0.0    0.0    0.0    0.0    0.0  \n",
       "AAACCTGCACATGGGA_1-0                     0.0    0.0    0.0    0.0    0.0  \n",
       "AAACCTGCACCTCGGA_1-0                     0.0    0.0    0.0    0.0    0.0  \n",
       "AAACCTGGTTGAGTTC_1-0                     0.0    0.0    0.0    0.0    0.0  \n",
       "AAACCTGTCACCGTAA_1-0                     0.0    0.0    0.0    0.0    0.0  \n",
       "...                                      ...    ...    ...    ...    ...  \n",
       "TAAACCGTCTGGGCCA-1_GSM5293920_smalley    0.0    0.0    0.0    0.0    0.0  \n",
       "TCTGGAAGTAGGACAC-1_GSM5293920_smalley    0.0    0.0    0.0    0.0    0.0  \n",
       "TGACAACTCTCAAACG-1_GSM5293920_smalley    0.0    0.0    0.0    0.0    0.0  \n",
       "TGCTGCTGTGCTCTTC-1_GSM5293920_smalley    0.0    0.0    0.0    0.0    0.0  \n",
       "TTCTCAAAGACTAGAT-1_GSM5293920_smalley    0.0    0.0    0.0    0.0    0.0  \n",
       "\n",
       "[89216 rows x 6505 columns]"
      ]
     },
     "execution_count": 489,
     "metadata": {},
     "output_type": "execute_result"
    }
   ],
   "source": [
    "nhoods_cells_df"
   ]
  },
  {
   "cell_type": "code",
   "execution_count": 209,
   "id": "67712763-2cf6-437d-a239-9f9b61eb12f7",
   "metadata": {},
   "outputs": [],
   "source": [
    "%%R -o nhood_ind\n",
    "nhood_ind <- milo@nhoodIndex"
   ]
  },
  {
   "cell_type": "code",
   "execution_count": 330,
   "id": "308efc92-e005-43f2-9d77-1cba1b6e0026",
   "metadata": {},
   "outputs": [],
   "source": [
    "#nhood_ind"
   ]
  },
  {
   "cell_type": "code",
   "execution_count": null,
   "id": "f9960f81-72ab-40c2-8da2-9eef9e189417",
   "metadata": {},
   "outputs": [],
   "source": []
  },
  {
   "cell_type": "code",
   "execution_count": null,
   "id": "1804fff7-11b1-4f2e-8b20-b4efb4deb5c9",
   "metadata": {},
   "outputs": [],
   "source": []
  },
  {
   "cell_type": "code",
   "execution_count": 150,
   "id": "756c1191-56df-42d8-9a7e-90786201b4ba",
   "metadata": {},
   "outputs": [
    {
     "name": "stdout",
     "output_type": "stream",
     "text": [
      "  GeneID      logFC_1  adj.P.Val_1       logFC_2 adj.P.Val_2       logFC_3\n",
      "1    A2M  0.004672757 5.982152e-01 -0.0088402192   0.7994573  0.0020244972\n",
      "2 A4GALT -0.001651540 5.039501e-01 -0.0020885750   0.8462311  0.0041755038\n",
      "3   AAAS -0.013471547 1.490546e-01  0.0214607234   0.3841638  0.0043807663\n",
      "4   AACS -0.002844370 7.280910e-01 -0.0006432434   0.9811016  0.0082244707\n",
      "5  AAGAB -0.007600897 5.171895e-01  0.0237569636   0.3791928  0.0006651583\n",
      "6   AAK1 -0.155512792 2.656287e-10 -0.0564779778   0.5663476 -0.0986023400\n",
      "   adj.P.Val_3      logFC_4  adj.P.Val_4      logFC_5  adj.P.Val_5      logFC_6\n",
      "1 7.446658e-01  0.014898881 5.828936e-05  0.010962810 3.289900e-07 -0.011596786\n",
      "2 3.543144e-04  0.002591062 2.676159e-02  0.001767828 6.039239e-03 -0.002501963\n",
      "3 5.277713e-01 -0.000792057 9.201354e-01 -0.004572988 1.196582e-01  0.002784116\n",
      "4 4.390981e-02 -0.001616266 7.627375e-01  0.005313536 9.387936e-03 -0.004603548\n",
      "5 9.465614e-01 -0.004612708 5.176825e-01 -0.001855805 6.092274e-01  0.002152767\n",
      "6 1.440287e-10 -0.037576740 2.166741e-02 -0.071181633 1.549624e-17  0.091905276\n",
      "   adj.P.Val_6\n",
      "1 1.020279e-11\n",
      "2 3.730587e-07\n",
      "3 2.407246e-01\n",
      "4 4.445859e-03\n",
      "5 4.277187e-01\n",
      "6 4.034471e-43\n"
     ]
    }
   ],
   "source": [
    "%%R\n",
    "nhood_markers <- findNhoodGroupMarkers(milo, DA_results, aggregate.samples = FALSE, sample_col = \"batch\")\n",
    "\n",
    "head(nhood_markers)"
   ]
  },
  {
   "cell_type": "code",
   "execution_count": 217,
   "id": "9bf41e89-9e55-4309-bfd3-a93410da606c",
   "metadata": {},
   "outputs": [
    {
     "name": "stdout",
     "output_type": "stream",
     "text": [
      "  GeneID       logFC_1 adj.P.Val_1       logFC_3 adj.P.Val_3\n",
      "1    A2M  1.997049e-02   0.3222693 -1.997049e-02   0.3222693\n",
      "2 A4GALT  1.345843e-03   0.6057374 -1.345843e-03   0.6057374\n",
      "3   AAAS -5.142422e-03   0.8431142  5.142422e-03   0.8431142\n",
      "4   AACS -2.686810e-03   0.8410409  2.686810e-03   0.8410409\n",
      "5  AAGAB  3.006024e-05   0.9983247 -3.006024e-05   0.9983247\n",
      "6   AAK1  4.233891e-02   0.5510481 -4.233891e-02   0.5510481\n"
     ]
    }
   ],
   "source": [
    "%%R -o nhood_markers_test\n",
    "nhood_markers_test <- findNhoodGroupMarkers(milo, DA_results, aggregate.samples = TRUE, \n",
    "                                       sample_col = \"batch\", subset.nhoods=(DA_results$NhoodGroup %in% c('1','3')))\n",
    "\n",
    "head(nhood_markers_test)"
   ]
  },
  {
   "cell_type": "code",
   "execution_count": 211,
   "id": "d9a02759-9ce0-4a29-ba8e-f441cb6f1ee6",
   "metadata": {},
   "outputs": [
    {
     "data": {
      "text/html": [
       "<div>\n",
       "<style scoped>\n",
       "    .dataframe tbody tr th:only-of-type {\n",
       "        vertical-align: middle;\n",
       "    }\n",
       "\n",
       "    .dataframe tbody tr th {\n",
       "        vertical-align: top;\n",
       "    }\n",
       "\n",
       "    .dataframe thead th {\n",
       "        text-align: right;\n",
       "    }\n",
       "</style>\n",
       "<table border=\"1\" class=\"dataframe\">\n",
       "  <thead>\n",
       "    <tr style=\"text-align: right;\">\n",
       "      <th></th>\n",
       "      <th>GeneID</th>\n",
       "      <th>logFC_1</th>\n",
       "      <th>adj.P.Val_1</th>\n",
       "      <th>logFC_3</th>\n",
       "      <th>adj.P.Val_3</th>\n",
       "    </tr>\n",
       "  </thead>\n",
       "  <tbody>\n",
       "    <tr>\n",
       "      <th>1</th>\n",
       "      <td>A2M</td>\n",
       "      <td>0.001133</td>\n",
       "      <td>0.998715</td>\n",
       "      <td>-0.001133</td>\n",
       "      <td>0.998715</td>\n",
       "    </tr>\n",
       "    <tr>\n",
       "      <th>2</th>\n",
       "      <td>A4GALT</td>\n",
       "      <td>0.002309</td>\n",
       "      <td>0.933616</td>\n",
       "      <td>-0.002309</td>\n",
       "      <td>0.933616</td>\n",
       "    </tr>\n",
       "    <tr>\n",
       "      <th>3</th>\n",
       "      <td>AAAS</td>\n",
       "      <td>0.011273</td>\n",
       "      <td>0.945119</td>\n",
       "      <td>-0.011273</td>\n",
       "      <td>0.945119</td>\n",
       "    </tr>\n",
       "    <tr>\n",
       "      <th>4</th>\n",
       "      <td>AACS</td>\n",
       "      <td>0.006473</td>\n",
       "      <td>0.788435</td>\n",
       "      <td>-0.006473</td>\n",
       "      <td>0.788435</td>\n",
       "    </tr>\n",
       "    <tr>\n",
       "      <th>5</th>\n",
       "      <td>AAGAB</td>\n",
       "      <td>-0.009519</td>\n",
       "      <td>0.954740</td>\n",
       "      <td>0.009519</td>\n",
       "      <td>0.954740</td>\n",
       "    </tr>\n",
       "    <tr>\n",
       "      <th>...</th>\n",
       "      <td>...</td>\n",
       "      <td>...</td>\n",
       "      <td>...</td>\n",
       "      <td>...</td>\n",
       "      <td>...</td>\n",
       "    </tr>\n",
       "    <tr>\n",
       "      <th>11862</th>\n",
       "      <td>ZXDB</td>\n",
       "      <td>0.000874</td>\n",
       "      <td>0.998715</td>\n",
       "      <td>-0.000874</td>\n",
       "      <td>0.998715</td>\n",
       "    </tr>\n",
       "    <tr>\n",
       "      <th>11863</th>\n",
       "      <td>ZXDC</td>\n",
       "      <td>-0.004248</td>\n",
       "      <td>0.939045</td>\n",
       "      <td>0.004248</td>\n",
       "      <td>0.939045</td>\n",
       "    </tr>\n",
       "    <tr>\n",
       "      <th>11864</th>\n",
       "      <td>ZYG11B</td>\n",
       "      <td>-0.006976</td>\n",
       "      <td>0.964214</td>\n",
       "      <td>0.006976</td>\n",
       "      <td>0.964214</td>\n",
       "    </tr>\n",
       "    <tr>\n",
       "      <th>11865</th>\n",
       "      <td>ZYX</td>\n",
       "      <td>0.017603</td>\n",
       "      <td>0.976978</td>\n",
       "      <td>-0.017603</td>\n",
       "      <td>0.976978</td>\n",
       "    </tr>\n",
       "    <tr>\n",
       "      <th>11866</th>\n",
       "      <td>ZZEF1</td>\n",
       "      <td>-0.013099</td>\n",
       "      <td>0.966763</td>\n",
       "      <td>0.013099</td>\n",
       "      <td>0.966763</td>\n",
       "    </tr>\n",
       "  </tbody>\n",
       "</table>\n",
       "<p>11866 rows × 5 columns</p>\n",
       "</div>"
      ],
      "text/plain": [
       "       GeneID   logFC_1  adj.P.Val_1   logFC_3  adj.P.Val_3\n",
       "1         A2M  0.001133     0.998715 -0.001133     0.998715\n",
       "2      A4GALT  0.002309     0.933616 -0.002309     0.933616\n",
       "3        AAAS  0.011273     0.945119 -0.011273     0.945119\n",
       "4        AACS  0.006473     0.788435 -0.006473     0.788435\n",
       "5       AAGAB -0.009519     0.954740  0.009519     0.954740\n",
       "...       ...       ...          ...       ...          ...\n",
       "11862    ZXDB  0.000874     0.998715 -0.000874     0.998715\n",
       "11863    ZXDC -0.004248     0.939045  0.004248     0.939045\n",
       "11864  ZYG11B -0.006976     0.964214  0.006976     0.964214\n",
       "11865     ZYX  0.017603     0.976978 -0.017603     0.976978\n",
       "11866   ZZEF1 -0.013099     0.966763  0.013099     0.966763\n",
       "\n",
       "[11866 rows x 5 columns]"
      ]
     },
     "execution_count": 211,
     "metadata": {},
     "output_type": "execute_result"
    }
   ],
   "source": [
    "nhood_markers_test"
   ]
  },
  {
   "cell_type": "code",
   "execution_count": null,
   "id": "c71c422d-b87b-4fce-9967-373e8c2d9ebc",
   "metadata": {},
   "outputs": [],
   "source": []
  },
  {
   "cell_type": "code",
   "execution_count": 39,
   "id": "31504080-d7e0-41cf-b62b-5bac204296c5",
   "metadata": {},
   "outputs": [
    {
     "name": "stdout",
     "output_type": "stream",
     "text": [
      "  GeneID      logFC_1 adj.P.Val_1      logFC_2 adj.P.Val_2      logFC_3\n",
      "1    A2M  0.024279890   0.6538325  0.007867193   0.8587029 -0.021132616\n",
      "2 A4GALT -0.001394806   0.7303831 -0.001365216   0.6766552  0.004257729\n",
      "3   AAAS -0.006096756   0.7794388  0.021476582   0.1303779 -0.005535203\n",
      "4   AACS -0.010618163   0.6383516  0.014307086   0.3876912  0.010782708\n",
      "5  AAGAB -0.028223977   0.5083739  0.035252274   0.2531678  0.007123053\n",
      "6   AAK1 -0.134669378   0.2180178 -0.020274969   0.8555803  0.049630416\n",
      "  adj.P.Val_3       logFC_4 adj.P.Val_4       logFC_5 adj.P.Val_5      logFC_6\n",
      "1  0.72920891 -0.0052351253   0.9447867  0.0138260119   0.9997746 -0.004598745\n",
      "2  0.03257042  0.0005654893   0.9160080 -0.0009343932   0.9997746 -0.002369342\n",
      "3  0.84174098  0.0112623521   0.6952536 -0.0053299025   0.9997746 -0.010163687\n",
      "4  0.61380817 -0.0171746046   0.3579205  0.0086585676   0.9997746 -0.005423448\n",
      "5  0.89693071 -0.0163230523   0.8003711  0.0018004919   0.9997746  0.001010796\n",
      "6  0.76313599  0.0977085442   0.4189997 -0.0492321159   0.9997746 -0.024241962\n",
      "  adj.P.Val_6\n",
      "1   0.9998164\n",
      "2   0.9144299\n",
      "3   0.9998164\n",
      "4   0.9998164\n",
      "5   0.9998164\n",
      "6   0.9998164\n"
     ]
    }
   ],
   "source": [
    "%%R\n",
    "nhood_markers <- findNhoodGroupMarkers(milo, DA_results, aggregate.samples = TRUE, \n",
    "                                       sample_col = \"replicate\")\n",
    "\n",
    "head(nhood_markers)"
   ]
  },
  {
   "cell_type": "code",
   "execution_count": 40,
   "id": "9cd2aae3-a607-4296-8a44-3bde38636415",
   "metadata": {},
   "outputs": [
    {
     "name": "stdout",
     "output_type": "stream",
     "text": [
      "  GeneID      logFC_1 adj.P.Val_1      logFC_2 adj.P.Val_2      logFC_3\n",
      "1    A2M  0.024279890   0.6538325  0.007867193   0.8587029 -0.021132616\n",
      "2 A4GALT -0.001394806   0.7303831 -0.001365216   0.6766552  0.004257729\n",
      "3   AAAS -0.006096756   0.7794388  0.021476582   0.1303779 -0.005535203\n",
      "4   AACS -0.010618163   0.6383516  0.014307086   0.3876912  0.010782708\n",
      "5  AAGAB -0.028223977   0.5083739  0.035252274   0.2531678  0.007123053\n",
      "6   AAK1 -0.134669378   0.2180178 -0.020274969   0.8555803  0.049630416\n",
      "  adj.P.Val_3       logFC_4 adj.P.Val_4       logFC_5 adj.P.Val_5      logFC_6\n",
      "1  0.72920891 -0.0052351253   0.9447867  0.0138260119   0.9997746 -0.004598745\n",
      "2  0.03257042  0.0005654893   0.9160080 -0.0009343932   0.9997746 -0.002369342\n",
      "3  0.84174098  0.0112623521   0.6952536 -0.0053299025   0.9997746 -0.010163687\n",
      "4  0.61380817 -0.0171746046   0.3579205  0.0086585676   0.9997746 -0.005423448\n",
      "5  0.89693071 -0.0163230523   0.8003711  0.0018004919   0.9997746  0.001010796\n",
      "6  0.76313599  0.0977085442   0.4189997 -0.0492321159   0.9997746 -0.024241962\n",
      "  adj.P.Val_6\n",
      "1   0.9998164\n",
      "2   0.9144299\n",
      "3   0.9998164\n",
      "4   0.9998164\n",
      "5   0.9998164\n",
      "6   0.9998164\n"
     ]
    }
   ],
   "source": [
    "%%R -o nhood_markers\n",
    "head(nhood_markers)"
   ]
  },
  {
   "cell_type": "code",
   "execution_count": null,
   "id": "e3c7db77-8fd0-43ad-a185-49475e4a79a5",
   "metadata": {},
   "outputs": [],
   "source": []
  },
  {
   "cell_type": "code",
   "execution_count": 60,
   "id": "1a47269e-9f30-4c24-a685-be40f73ae4d3",
   "metadata": {},
   "outputs": [
    {
     "name": "stdout",
     "output_type": "stream",
     "text": [
      "  GeneID      logFC_1  adj.P.Val_1      logFC_3  adj.P.Val_3\n",
      "1    A2M  0.010178479 1.744898e-02 -0.010178479 1.744898e-02\n",
      "2 A4GALT -0.000283680 8.545722e-01  0.000283680 8.545722e-01\n",
      "3   AAAS -0.006400328 2.802396e-01  0.006400328 2.802396e-01\n",
      "4   AACS -0.001681451 7.425932e-01  0.001681451 7.425932e-01\n",
      "5  AAGAB -0.004395423 5.416891e-01  0.004395423 5.416891e-01\n",
      "6   AAK1 -0.084573268 2.304295e-07  0.084573268 2.304295e-07\n"
     ]
    }
   ],
   "source": [
    "%%R\n",
    "nhood_markers <- findNhoodGroupMarkers(milo, DA_results, aggregate.samples = FALSE, \n",
    "                                       sample_col = \"replicate\", subset.nhoods=(DA_results$NhoodGroup %in% c('1','3')))\n",
    "\n",
    "head(nhood_markers)"
   ]
  },
  {
   "cell_type": "code",
   "execution_count": 61,
   "id": "d98f391b-99c7-4fe7-9053-f7339dca2c79",
   "metadata": {},
   "outputs": [
    {
     "name": "stdout",
     "output_type": "stream",
     "text": [
      "  GeneID      logFC_1  adj.P.Val_1      logFC_3  adj.P.Val_3\n",
      "1    A2M  0.010178479 1.744898e-02 -0.010178479 1.744898e-02\n",
      "2 A4GALT -0.000283680 8.545722e-01  0.000283680 8.545722e-01\n",
      "3   AAAS -0.006400328 2.802396e-01  0.006400328 2.802396e-01\n",
      "4   AACS -0.001681451 7.425932e-01  0.001681451 7.425932e-01\n",
      "5  AAGAB -0.004395423 5.416891e-01  0.004395423 5.416891e-01\n",
      "6   AAK1 -0.084573268 2.304295e-07  0.084573268 2.304295e-07\n"
     ]
    }
   ],
   "source": [
    "%%R -o nhood_markers\n",
    "head(nhood_markers)"
   ]
  },
  {
   "cell_type": "code",
   "execution_count": 128,
   "id": "71c5e027-22bb-4377-b255-acd7e9dc95f7",
   "metadata": {},
   "outputs": [],
   "source": [
    "nhood_markers['adj.P.Val_3'] = nhood_markers['adj.P.Val_3'] + np.min(nhood_markers[nhood_markers['adj.P.Val_3'] != 0.0]['adj.P.Val_3'])"
   ]
  },
  {
   "cell_type": "code",
   "execution_count": 129,
   "id": "7224fce6-4ac0-43fa-a1d8-fa4a965e36ef",
   "metadata": {},
   "outputs": [],
   "source": [
    "nhood_markers['adj.P.Val_1'] = nhood_markers['adj.P.Val_1'] + np.min(nhood_markers[nhood_markers['adj.P.Val_3'] != 0.0]['adj.P.Val_3'])"
   ]
  },
  {
   "cell_type": "code",
   "execution_count": null,
   "id": "7761506f-1d10-40ae-a02e-d302006c5a91",
   "metadata": {},
   "outputs": [],
   "source": []
  },
  {
   "cell_type": "code",
   "execution_count": 260,
   "id": "a09aca2e-f899-4b19-8045-72b9270ffda9",
   "metadata": {},
   "outputs": [],
   "source": [
    "nhood_group=1\n",
    "nhood_markers_group = nhood_markers_test[['GeneID', f'logFC_{nhood_group}', f'adj.P.Val_{nhood_group}']].copy()\n",
    "nhood_markers_group.index = nhood_markers_group['GeneID']\n",
    "nhood_markers_group['rank'] = nhood_markers_group[f'logFC_{nhood_group}']*-np.log10(nhood_markers_group[f'adj.P.Val_{nhood_group}'])\n",
    "nhood_markers_group = nhood_markers_group['rank']\n",
    "nhood_markers_group.index.name = None\n",
    "nhood_markers_group = pd.DataFrame(nhood_markers_group)\n",
    "nhood_markers_group.sort_values('rank', ascending=False)['rank'].to_csv(f'nhood_markers_rank_group_{nhood_group}.rnk', header=False, sep='\\t')"
   ]
  },
  {
   "cell_type": "code",
   "execution_count": 258,
   "id": "cdf5f563-3f6f-448c-9a84-b94050f31c10",
   "metadata": {},
   "outputs": [
    {
     "data": {
      "text/plain": [
       "CD7         10.780615\n",
       "FCER1G       8.019745\n",
       "GNLY         6.475595\n",
       "HCST         5.648914\n",
       "IFITM2       4.742797\n",
       "              ...    \n",
       "UBC        -12.520714\n",
       "HSPA1B     -13.470368\n",
       "HSPA1A     -16.271403\n",
       "DNAJB1     -21.250112\n",
       "HSP90AA1   -25.033505\n",
       "Name: rank, Length: 11866, dtype: float64"
      ]
     },
     "execution_count": 258,
     "metadata": {},
     "output_type": "execute_result"
    }
   ],
   "source": [
    "nhood_markers_group.sort_values('rank', ascending=False)['rank']"
   ]
  },
  {
   "cell_type": "code",
   "execution_count": 256,
   "id": "c71c7368-5d5b-4c8a-b956-faf9ec37ab19",
   "metadata": {},
   "outputs": [
    {
     "data": {
      "text/html": [
       "<div>\n",
       "<style scoped>\n",
       "    .dataframe tbody tr th:only-of-type {\n",
       "        vertical-align: middle;\n",
       "    }\n",
       "\n",
       "    .dataframe tbody tr th {\n",
       "        vertical-align: top;\n",
       "    }\n",
       "\n",
       "    .dataframe thead th {\n",
       "        text-align: right;\n",
       "    }\n",
       "</style>\n",
       "<table border=\"1\" class=\"dataframe\">\n",
       "  <thead>\n",
       "    <tr style=\"text-align: right;\">\n",
       "      <th></th>\n",
       "      <th>rank</th>\n",
       "    </tr>\n",
       "  </thead>\n",
       "  <tbody>\n",
       "    <tr>\n",
       "      <th>A2M</th>\n",
       "      <td>-9.821109e-03</td>\n",
       "    </tr>\n",
       "    <tr>\n",
       "      <th>A4GALT</th>\n",
       "      <td>-2.930110e-04</td>\n",
       "    </tr>\n",
       "    <tr>\n",
       "      <th>AAAS</th>\n",
       "      <td>3.811235e-04</td>\n",
       "    </tr>\n",
       "    <tr>\n",
       "      <th>AACS</th>\n",
       "      <td>2.020021e-04</td>\n",
       "    </tr>\n",
       "    <tr>\n",
       "      <th>AAGAB</th>\n",
       "      <td>-2.188948e-08</td>\n",
       "    </tr>\n",
       "    <tr>\n",
       "      <th>...</th>\n",
       "      <td>...</td>\n",
       "    </tr>\n",
       "    <tr>\n",
       "      <th>ZXDB</th>\n",
       "      <td>-8.465290e-05</td>\n",
       "    </tr>\n",
       "    <tr>\n",
       "      <th>ZXDC</th>\n",
       "      <td>6.118865e-04</td>\n",
       "    </tr>\n",
       "    <tr>\n",
       "      <th>ZYG11B</th>\n",
       "      <td>-5.828561e-04</td>\n",
       "    </tr>\n",
       "    <tr>\n",
       "      <th>ZYX</th>\n",
       "      <td>5.770931e-04</td>\n",
       "    </tr>\n",
       "    <tr>\n",
       "      <th>ZZEF1</th>\n",
       "      <td>-1.360200e-03</td>\n",
       "    </tr>\n",
       "  </tbody>\n",
       "</table>\n",
       "<p>11866 rows × 1 columns</p>\n",
       "</div>"
      ],
      "text/plain": [
       "                rank\n",
       "A2M    -9.821109e-03\n",
       "A4GALT -2.930110e-04\n",
       "AAAS    3.811235e-04\n",
       "AACS    2.020021e-04\n",
       "AAGAB  -2.188948e-08\n",
       "...              ...\n",
       "ZXDB   -8.465290e-05\n",
       "ZXDC    6.118865e-04\n",
       "ZYG11B -5.828561e-04\n",
       "ZYX     5.770931e-04\n",
       "ZZEF1  -1.360200e-03\n",
       "\n",
       "[11866 rows x 1 columns]"
      ]
     },
     "execution_count": 256,
     "metadata": {},
     "output_type": "execute_result"
    }
   ],
   "source": [
    "nhood_markers_group"
   ]
  },
  {
   "cell_type": "code",
   "execution_count": 63,
   "id": "2d72b78f-317a-49fd-8906-ef95c0cc0e63",
   "metadata": {},
   "outputs": [],
   "source": [
    "from bioinfokit import analys, visuz"
   ]
  },
  {
   "cell_type": "code",
   "execution_count": null,
   "id": "5a4a12ec-6039-4785-9d96-fa95f048a22b",
   "metadata": {},
   "outputs": [],
   "source": []
  },
  {
   "cell_type": "code",
   "execution_count": 239,
   "id": "9452570b-8ed9-4753-8d6c-a94eef39b5f4",
   "metadata": {},
   "outputs": [],
   "source": [
    "lfc = 0.5\n",
    "nhood_group = 3\n",
    "\n",
    "visuz.GeneExpression.volcano(df=nhood_markers_test, lfc=f'logFC_{nhood_group}', pv=f'adj.P.Val_{nhood_group}', \n",
    "                             show=False, geneid='GeneID', axtickfontname=\"DejaVu Sans\", axlabelfontname=\"DejaVu Sans\", \n",
    "                             genenames=tuple(nhood_markers_test[((nhood_markers_test[f'logFC_{nhood_group}'] > lfc) | (nhood_markers_test[f'logFC_{nhood_group}'] < -lfc)) & (nhood_markers_test[f'adj.P.Val_{nhood_group}'] < 0.05)]['GeneID']),\n",
    "                             gstyle=1, lfc_thr=(lfc, lfc), pv_thr=(0.05, 0.05), figname=f'nhood_aggregate_samples_group_{nhood_group}_markers', figtype='svg')"
   ]
  },
  {
   "cell_type": "code",
   "execution_count": null,
   "id": "99934f21-9c0b-449b-9ee1-24453678fde9",
   "metadata": {},
   "outputs": [],
   "source": []
  },
  {
   "cell_type": "code",
   "execution_count": 223,
   "id": "2114987f-72f6-4ba8-93e3-8de1e61f26e6",
   "metadata": {},
   "outputs": [],
   "source": [
    "lfc = 0.5\n",
    "nhood_group = 3\n",
    "\n",
    "visuz.GeneExpression.volcano(df=nhood_markers, lfc=f'logFC_{nhood_group}', pv=f'adj.P.Val_{nhood_group}', \n",
    "                             show=False, geneid='GeneID', axtickfontname=\"DejaVu Sans\", axlabelfontname=\"DejaVu Sans\", \n",
    "                             genenames=tuple(nhood_markers[((nhood_markers[f'logFC_{nhood_group}'] > lfc) | (nhood_markers[f'logFC_{nhood_group}'] < -lfc)) & (nhood_markers[f'adj.P.Val_{nhood_group}'] < 0.05)]['GeneID']),\n",
    "                             gstyle=1, lfc_thr=(lfc, lfc), pv_thr=(0.05, 0.05), figname=f'nhood_group_{nhood_group}_markers', figtype='svg')"
   ]
  },
  {
   "cell_type": "code",
   "execution_count": 224,
   "id": "5d588201-90df-4abf-b54b-dda1609a3c86",
   "metadata": {},
   "outputs": [],
   "source": [
    "#lfc = 0.5\n",
    "#nhood_group = 1\n",
    "\n",
    "visuz.GeneExpression.volcano(df=nhood_markers, lfc=f'logFC_{nhood_group}', pv=f'adj.P.Val_{nhood_group}', \n",
    "                             show=False, geneid='GeneID', axtickfontname=\"DejaVu Sans\", axlabelfontname=\"DejaVu Sans\", \n",
    "                             #genenames=tuple(nhood_markers[((nhood_markers[f'logFC_{nhood_group}'] > lfc) | (nhood_markers[f'logFC_{nhood_group}'] < -lfc)) & (nhood_markers[f'adj.P.Val_{nhood_group}'] < 0.05)]['GeneID']),\n",
    "                             gstyle=1, lfc_thr=(lfc, lfc), pv_thr=(0.05, 0.05), figname=f'nhood_group_{nhood_group}_markers_no_gene_names', figtype='svg')"
   ]
  },
  {
   "cell_type": "code",
   "execution_count": 225,
   "id": "9d9aa99b-9d01-4640-8977-4da12ba61447",
   "metadata": {},
   "outputs": [],
   "source": [
    "nhood_markers[((nhood_markers[f'logFC_{nhood_group}'] > lfc) | (nhood_markers[f'logFC_{nhood_group}'] < -lfc)) & \n",
    "                  (nhood_markers[f'adj.P.Val_{nhood_group}'] < 0.05)][['GeneID',f'logFC_{nhood_group}',f'adj.P.Val_{nhood_group}']].to_csv(f'top_markers_group_{nhood_group}.csv')"
   ]
  },
  {
   "cell_type": "code",
   "execution_count": null,
   "id": "095d84a5-47a6-4b22-8b94-6ae1a4f791eb",
   "metadata": {},
   "outputs": [],
   "source": []
  },
  {
   "cell_type": "code",
   "execution_count": 74,
   "id": "bb043604-3fb2-4cc9-bf57-7cec1f6983ed",
   "metadata": {},
   "outputs": [
    {
     "name": "stdout",
     "output_type": "stream",
     "text": [
      "  GeneID       logFC_2  adj.P.Val_2       logFC_4  adj.P.Val_4      logFC_5\n",
      "1    A2M -6.204804e-03 4.400055e-01  0.0165894477 2.571956e-06  0.014240863\n",
      "2 A4GALT  6.588790e-06 9.979586e-01  0.0028907719 5.905846e-03  0.002314983\n",
      "3   AAAS  1.427425e-02 6.680928e-02 -0.0002774888 9.709331e-01 -0.006296454\n",
      "4   AACS  6.932261e-04 9.472623e-01 -0.0008655653 8.696031e-01  0.005941925\n",
      "5  AAGAB  1.101925e-02 2.865703e-01 -0.0053956473 4.127595e-01 -0.001224413\n",
      "6   AAK1 -9.322931e-02 2.208588e-05 -0.0544924795 2.319847e-04 -0.047388486\n",
      "   adj.P.Val_5      logFC_6  adj.P.Val_6\n",
      "1 1.023065e-12 -0.014946033 1.291800e-17\n",
      "2 5.326353e-05 -0.002617715 1.299050e-07\n",
      "3 1.635221e-02  0.003116296 1.990339e-01\n",
      "4 2.048913e-03 -0.004494338 8.849008e-03\n",
      "5 7.329404e-01  0.001010343 7.451186e-01\n",
      "6 8.504009e-09  0.064558065 1.107103e-19\n"
     ]
    }
   ],
   "source": [
    "%%R\n",
    "nhood_markers_dim <- findNhoodGroupMarkers(milo, DA_results, aggregate.samples = FALSE, \n",
    "                                       sample_col = \"replicate\", subset.nhoods=(DA_results$NhoodGroup %in% c('2','4','5','6')))\n",
    "\n",
    "head(nhood_markers_dim)"
   ]
  },
  {
   "cell_type": "code",
   "execution_count": 230,
   "id": "29479486-2640-4d9e-a0d6-364d2e288e21",
   "metadata": {},
   "outputs": [
    {
     "name": "stdout",
     "output_type": "stream",
     "text": [
      "  GeneID       logFC_2 adj.P.Val_2      logFC_4 adj.P.Val_4       logFC_5\n",
      "1    A2M -0.0153540415   0.2531728  0.010311710  0.48024001  2.582006e-03\n",
      "2 A4GALT -0.0006684001   0.8307860  0.002108127  0.44211591 -1.264093e-05\n",
      "3   AAAS  0.0149128893   0.2981274  0.005175823  0.78018132 -8.176393e-03\n",
      "4   AACS  0.0084748752   0.3994319 -0.017162440  0.01866163  4.087955e-03\n",
      "5  AAGAB  0.0088069684   0.5823282  0.006768077  0.70190698  2.945009e-05\n",
      "6   AAK1 -0.0030483347   0.9567410  0.032226852  0.49363327 -1.166805e-02\n",
      "  adj.P.Val_5      logFC_6 adj.P.Val_6\n",
      "1   0.9410277 -0.001291745   0.9663846\n",
      "2   0.9981799 -0.001349305   0.7568324\n",
      "3   0.7637910 -0.005713737   0.8147894\n",
      "4   0.8440951  0.004647384   0.7769355\n",
      "5   0.9984614 -0.011798317   0.5518107\n",
      "6   0.9123647 -0.013110418   0.8756365\n"
     ]
    }
   ],
   "source": [
    "%%R\n",
    "nhood_markers_dim_test <- findNhoodGroupMarkers(milo, DA_results, aggregate.samples = TRUE, \n",
    "                                       sample_col = \"batch\", subset.nhoods=(DA_results$NhoodGroup %in% c('2','4','5','6')))\n",
    "\n",
    "head(nhood_markers_dim_test)"
   ]
  },
  {
   "cell_type": "code",
   "execution_count": 232,
   "id": "12deb96f-b56c-4a54-b63d-1542908bc612",
   "metadata": {},
   "outputs": [
    {
     "name": "stdout",
     "output_type": "stream",
     "text": [
      "  GeneID       logFC_2 adj.P.Val_2      logFC_4 adj.P.Val_4       logFC_5\n",
      "1    A2M -0.0153540415   0.2531728  0.010311710  0.48024001  2.582006e-03\n",
      "2 A4GALT -0.0006684001   0.8307860  0.002108127  0.44211591 -1.264093e-05\n",
      "3   AAAS  0.0149128893   0.2981274  0.005175823  0.78018132 -8.176393e-03\n",
      "4   AACS  0.0084748752   0.3994319 -0.017162440  0.01866163  4.087955e-03\n",
      "5  AAGAB  0.0088069684   0.5823282  0.006768077  0.70190698  2.945009e-05\n",
      "6   AAK1 -0.0030483347   0.9567410  0.032226852  0.49363327 -1.166805e-02\n",
      "  adj.P.Val_5      logFC_6 adj.P.Val_6\n",
      "1   0.9410277 -0.001291745   0.9663846\n",
      "2   0.9981799 -0.001349305   0.7568324\n",
      "3   0.7637910 -0.005713737   0.8147894\n",
      "4   0.8440951  0.004647384   0.7769355\n",
      "5   0.9984614 -0.011798317   0.5518107\n",
      "6   0.9123647 -0.013110418   0.8756365\n"
     ]
    }
   ],
   "source": [
    "%%R -o nhood_markers_dim_test\n",
    "head(nhood_markers_dim_test)"
   ]
  },
  {
   "cell_type": "code",
   "execution_count": null,
   "id": "f6874596-075d-403d-b539-8d0ff87f8629",
   "metadata": {},
   "outputs": [],
   "source": []
  },
  {
   "cell_type": "code",
   "execution_count": 252,
   "id": "38a216a1-b625-4e60-97b0-a5ca1ab946e6",
   "metadata": {},
   "outputs": [],
   "source": [
    "lfc = 0.5\n",
    "nhood_group = 2\n",
    "\n",
    "visuz.GeneExpression.volcano(df=nhood_markers_dim_test, lfc=f'logFC_{nhood_group}', pv=f'adj.P.Val_{nhood_group}', \n",
    "                             #color=(\"grey\", \"green\", \"red\"),\n",
    "                             show=False, geneid='GeneID', axtickfontname=\"DejaVu Sans\", axlabelfontname=\"DejaVu Sans\", \n",
    "                             genenames=tuple(nhood_markers_dim_test[((nhood_markers_dim_test[f'logFC_{nhood_group}'] > lfc) | (nhood_markers_dim_test[f'logFC_{nhood_group}'] < -lfc)) & (nhood_markers_dim_test[f'adj.P.Val_{nhood_group}'] < 0.05)]['GeneID']),\n",
    "                             gstyle=1, lfc_thr=(lfc, lfc), pv_thr=(0.05, 0.05), figname=f'nhood_aggregate_samples_group_{nhood_group}_markers', figtype='svg')"
   ]
  },
  {
   "cell_type": "code",
   "execution_count": null,
   "id": "46ce1fc3-c19c-4e87-a903-cdb0cb00e0ce",
   "metadata": {},
   "outputs": [],
   "source": []
  },
  {
   "cell_type": "code",
   "execution_count": null,
   "id": "1502c347-e680-4562-8327-a38e90761fc8",
   "metadata": {},
   "outputs": [],
   "source": []
  },
  {
   "cell_type": "code",
   "execution_count": 204,
   "id": "40942fbc-4e39-424e-b2fd-3c203e15dfa5",
   "metadata": {},
   "outputs": [],
   "source": [
    "lfc = 0.5\n",
    "nhood_group = 5\n",
    "\n",
    "visuz.GeneExpression.volcano(df=nhood_markers_dim, lfc=f'logFC_{nhood_group}', pv=f'adj.P.Val_{nhood_group}', \n",
    "                             #color=(\"grey\", \"green\", \"red\"),\n",
    "                             show=False, geneid='GeneID', axtickfontname=\"DejaVu Sans\", axlabelfontname=\"DejaVu Sans\", \n",
    "                             genenames=tuple(nhood_markers_dim[((nhood_markers_dim[f'logFC_{nhood_group}'] > lfc) | (nhood_markers_dim[f'logFC_{nhood_group}'] < -lfc)) & (nhood_markers_dim[f'adj.P.Val_{nhood_group}'] < 0.05)]['GeneID']),\n",
    "                             gstyle=1, lfc_thr=(lfc, lfc), pv_thr=(0.05, 0.05), figname=f'nhood_group_{nhood_group}_markers', figtype='svg')"
   ]
  },
  {
   "cell_type": "code",
   "execution_count": 205,
   "id": "49973f8a-033a-42ea-a7c7-29e75254dd3a",
   "metadata": {},
   "outputs": [],
   "source": [
    "#lfc = 0.5\n",
    "#nhood_group = 6\n",
    "\n",
    "visuz.GeneExpression.volcano(df=nhood_markers_dim, lfc=f'logFC_{nhood_group}', pv=f'adj.P.Val_{nhood_group}', \n",
    "                             #color=(\"grey\", \"green\", \"red\"),\n",
    "                             show=False, geneid='GeneID', axtickfontname=\"DejaVu Sans\", axlabelfontname=\"DejaVu Sans\", \n",
    "                             #genenames=tuple(nhood_markers_dim[((nhood_markers_dim[f'logFC_{nhood_group}'] > lfc) | (nhood_markers_dim[f'logFC_{nhood_group}'] < -lfc)) & (nhood_markers_dim[f'adj.P.Val_{nhood_group}'] < 0.05)]['GeneID']),\n",
    "                             gstyle=1, lfc_thr=(lfc, lfc), pv_thr=(0.05, 0.05), figname=f'nhood_group_{nhood_group}_markers_no_gene_names', figtype='svg')"
   ]
  },
  {
   "cell_type": "code",
   "execution_count": 206,
   "id": "272d3251-2ac1-4574-a30c-05e2eaaacc39",
   "metadata": {},
   "outputs": [],
   "source": [
    "nhood_markers_dim[((nhood_markers_dim[f'logFC_{nhood_group}'] > lfc) | (nhood_markers_dim[f'logFC_{nhood_group}'] < -lfc)) & \n",
    "                  (nhood_markers_dim[f'adj.P.Val_{nhood_group}'] < 0.05)][['GeneID',f'logFC_{nhood_group}',f'adj.P.Val_{nhood_group}']].to_csv(f'top_markers_group_{nhood_group}.csv')"
   ]
  },
  {
   "cell_type": "code",
   "execution_count": null,
   "id": "580fe04f-876f-4eb0-a8c7-dbd9bfa0ab57",
   "metadata": {},
   "outputs": [],
   "source": []
  },
  {
   "cell_type": "code",
   "execution_count": null,
   "id": "7d32a18a-e2df-448e-8754-9ba8bc24b12e",
   "metadata": {},
   "outputs": [],
   "source": []
  },
  {
   "cell_type": "code",
   "execution_count": null,
   "id": "1c519a5b-49f4-4226-9fb5-8bfa963937a3",
   "metadata": {},
   "outputs": [],
   "source": []
  }
 ],
 "metadata": {
  "kernelspec": {
   "display_name": "Python 3 (ipykernel)",
   "language": "python",
   "name": "python3"
  },
  "language_info": {
   "codemirror_mode": {
    "name": "ipython",
    "version": 3
   },
   "file_extension": ".py",
   "mimetype": "text/x-python",
   "name": "python",
   "nbconvert_exporter": "python",
   "pygments_lexer": "ipython3",
   "version": "3.9.16"
  }
 },
 "nbformat": 4,
 "nbformat_minor": 5
}
